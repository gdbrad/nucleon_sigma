{
 "cells": [
  {
   "cell_type": "code",
   "execution_count": 1,
   "metadata": {},
   "outputs": [],
   "source": [
    "from sympy import *\n",
    "import sympy.physics.quantum as q\n",
    "import sympy.functions as func"
   ]
  },
  {
   "cell_type": "code",
   "execution_count": 2,
   "metadata": {},
   "outputs": [],
   "source": [
    "p = Symbol('p')\n",
    "n = Symbol('n')\n",
    "\n",
    "pbar = Symbol('\\\\bar{p}')\n",
    "nbar = Symbol('\\\\bar{n}')\n",
    "\n",
    "pi0 = Symbol('\\\\pi^0', real=True)\n",
    "pi_plus = Symbol('\\\\pi^+')\n",
    "pi_minus = func.elementary.complexes.conjugate(pi_plus)\n",
    "\n",
    "phi = Matrix([[pi0, sqrt(2)*pi_plus], [sqrt(2)*pi_minus, -pi0]])\n",
    "F = Symbol('F', real=True)\n",
    "\n",
    "B = Symbol('B', real=True)\n",
    "mhat = Symbol('\\\\hat{m}', real=True)\n",
    "tau3 = Matrix([[-1, 0], [0, 1]])\n",
    "delta = Symbol('\\\\delta', real=True)\n",
    "\n",
    "s = mhat*eye(2) - delta*tau3\n",
    "\n",
    "chi = 2*B*(s*eye(2))"
   ]
  },
  {
   "cell_type": "code",
   "execution_count": 3,
   "metadata": {},
   "outputs": [],
   "source": [
    "alphaN = Symbol('\\\\frac{\\\\alpha_N}{4 \\\\pi F}')\n",
    "sigmaN = Symbol('\\\\frac{\\\\sigma_N}{4 \\\\pi F}')"
   ]
  },
  {
   "cell_type": "code",
   "execution_count": 32,
   "metadata": {},
   "outputs": [],
   "source": [
    "order = 1\n",
    "\n",
    "u = Matrix([[0, 0], [0, 0]])\n",
    "\n",
    "for ii in range(0, order+1):\n",
    "    u += (1j*phi/F)**ii"
   ]
  },
  {
   "cell_type": "code",
   "execution_count": 33,
   "metadata": {},
   "outputs": [],
   "source": [
    "chi_p = q.dagger.Dagger(u)*chi*q.dagger.Dagger(u) + u*q.dagger.Dagger(chi)*u"
   ]
  },
  {
   "cell_type": "code",
   "execution_count": 34,
   "metadata": {},
   "outputs": [],
   "source": [
    "chidelta_p = chi_p - 0.5*trace(chi_p)*eye(2)"
   ]
  },
  {
   "cell_type": "code",
   "execution_count": 35,
   "metadata": {},
   "outputs": [],
   "source": [
    "N = Matrix([[p], [n]])"
   ]
  },
  {
   "cell_type": "code",
   "execution_count": 36,
   "metadata": {},
   "outputs": [],
   "source": [
    "term2 = simplify(simplify(q.dagger.Dagger(N)*chidelta_p*N))"
   ]
  },
  {
   "cell_type": "code",
   "execution_count": 37,
   "metadata": {},
   "outputs": [],
   "source": [
    "term3 = simplify(q.dagger.Dagger(N)*N*trace(chi_p))"
   ]
  },
  {
   "cell_type": "code",
   "execution_count": 38,
   "metadata": {},
   "outputs": [
    {
     "data": {
      "text/latex": [
       "$\\displaystyle \\left[\\begin{matrix}\\frac{1.0 B \\delta \\frac{\\alpha_N}{4 \\pi F} \\left(- 4.0 F^{2} n \\overline{n} + 4.0 F^{2} p \\overline{p} - 8.0 \\sqrt{2} \\pi^{+} \\pi^{0} n \\overline{p} - 8.0 \\pi^{+} n \\overline{\\pi^{+}} \\overline{n} + 8.0 \\pi^{+} p \\overline{\\pi^{+}} \\overline{p} + 4.0 \\left(\\pi^{0}\\right)^{2} n \\overline{n} - 4.0 \\left(\\pi^{0}\\right)^{2} p \\overline{p} - 8.0 \\sqrt{2} \\pi^{0} p \\overline{\\pi^{+}} \\overline{n}\\right)}{F^{2}} + \\frac{1.0 B \\frac{\\sigma_N}{4 \\pi F} \\hat{m} \\left(8.0 F^{2} n \\overline{n} + 8.0 F^{2} p \\overline{p} - 16.0 \\pi^{+} n \\overline{\\pi^{+}} \\overline{n} - 16.0 \\pi^{+} p \\overline{\\pi^{+}} \\overline{p} - 8.0 \\left(\\pi^{0}\\right)^{2} n \\overline{n} - 8.0 \\left(\\pi^{0}\\right)^{2} p \\overline{p}\\right)}{F^{2}}\\end{matrix}\\right]$"
      ],
      "text/plain": [
       "Matrix([[1.0*B*\\delta*\\frac{\\alpha_N}{4 \\pi F}*(-4.0*F**2*n*conjugate(n) + 4.0*F**2*p*conjugate(p) - 8.0*sqrt(2)*\\pi^+*\\pi^0*n*conjugate(p) - 8.0*\\pi^+*n*conjugate(\\pi^+)*conjugate(n) + 8.0*\\pi^+*p*conjugate(\\pi^+)*conjugate(p) + 4.0*\\pi^0**2*n*conjugate(n) - 4.0*\\pi^0**2*p*conjugate(p) - 8.0*sqrt(2)*\\pi^0*p*conjugate(\\pi^+)*conjugate(n))/F**2 + 1.0*B*\\frac{\\sigma_N}{4 \\pi F}*\\hat{m}*(8.0*F**2*n*conjugate(n) + 8.0*F**2*p*conjugate(p) - 16.0*\\pi^+*n*conjugate(\\pi^+)*conjugate(n) - 16.0*\\pi^+*p*conjugate(\\pi^+)*conjugate(p) - 8.0*\\pi^0**2*n*conjugate(n) - 8.0*\\pi^0**2*p*conjugate(p))/F**2]])"
      ]
     },
     "execution_count": 38,
     "metadata": {},
     "output_type": "execute_result"
    }
   ],
   "source": [
    "alphaN*term2 + sigmaN*term3"
   ]
  },
  {
   "cell_type": "code",
   "execution_count": null,
   "metadata": {},
   "outputs": [],
   "source": []
  }
 ],
 "metadata": {
  "kernelspec": {
   "display_name": "Python 3",
   "language": "python",
   "name": "python3"
  },
  "language_info": {
   "codemirror_mode": {
    "name": "ipython",
    "version": 3
   },
   "file_extension": ".py",
   "mimetype": "text/x-python",
   "name": "python",
   "nbconvert_exporter": "python",
   "pygments_lexer": "ipython3",
   "version": "3.8.5"
  }
 },
 "nbformat": 4,
 "nbformat_minor": 4
}
