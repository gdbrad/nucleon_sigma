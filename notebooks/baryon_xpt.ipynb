{
 "cells": [
  {
   "cell_type": "code",
   "execution_count": null,
   "source": [],
   "outputs": [],
   "metadata": {}
  },
  {
   "cell_type": "code",
   "execution_count": 10,
   "source": [
    "from cadabra2 import *\n",
    "from IPython.display import display, Math, Latex"
   ],
   "outputs": [],
   "metadata": {}
  },
  {
   "cell_type": "code",
   "execution_count": 11,
   "source": [
    "{s,r,l,k,m,n}::Indices(vector);\n",
    "{s,r,l,k,m,n}::Integer(0..d-1);\n",
    "\\Gamma_{#}::GammaMatrix(metric=\\delta);\n",
    "\\delta_{m n}::KroneckerDelta;"
   ],
   "outputs": [
    {
     "output_type": "stream",
     "name": "stdout",
     "text": [
      "Property Indices(position=free) attached to {s, r, l, k, m, n}.\n",
      "Property Integer attached to {s, r, l, k, m, n}.\n",
      "Property GammaMatrix attached to Γ_{#}.\n",
      "Property KroneckerDelta attached to δ_{m n}.\n"
     ]
    }
   ],
   "metadata": {}
  },
  {
   "cell_type": "markdown",
   "source": [
    "## collect loop terms ##"
   ],
   "metadata": {}
  },
  {
   "cell_type": "code",
   "execution_count": null,
   "source": [],
   "outputs": [],
   "metadata": {}
  },
  {
   "cell_type": "code",
   "execution_count": 12,
   "source": [
    "Indices({s,r,l,k,m})\n",
    "Integer({s,r,l,k,m,n}(0..d-1))\n",
    "GammaMatrix({r\"\\Gamma_{#}\"}(metric=r\"\\delta\"))\n",
    "KroneckerDelta({r\"\\delta_{m n}\"})"
   ],
   "outputs": [
    {
     "output_type": "stream",
     "name": "stderr",
     "text": [
      "<string>:2: SyntaxWarning: 'set' object is not callable; perhaps you missed a comma?\n",
      "<string>:3: SyntaxWarning: 'set' object is not callable; perhaps you missed a comma?\n",
      "Traceback (most recent call last):\n",
      "  File \"/usr/local/lib/python3.9/site-packages/cadabra2_jupyter/kernel.py\", line 54, in do_execute\n",
      "    self._execute_python(pycode)\n",
      "  File \"/usr/local/lib/python3.9/site-packages/cadabra2_jupyter/kernel.py\", line 108, in _execute_python\n",
      "    self._sandbox_context(pycode)\n",
      "  File \"/usr/local/lib/python3.9/site-packages/cadabra2_jupyter/context.py\", line 51, in __call__\n",
      "    exec(code, self._sandbox)\n",
      "  File \"<string>\", line 1, in <module>\n",
      "NameError: name 's' is not defined\n"
     ]
    }
   ],
   "metadata": {}
  },
  {
   "cell_type": "code",
   "execution_count": 10,
   "source": [
    "Symmetric(Ex(r\"A_{m n}\"))"
   ],
   "outputs": [
    {
     "output_type": "execute_result",
     "data": {
      "text/plain": [
       "Property Symmetric attached to A_{m n}."
      ]
     },
     "metadata": {},
     "execution_count": 10
    }
   ],
   "metadata": {}
  },
  {
   "cell_type": "code",
   "execution_count": 11,
   "source": [
    "ex=Ex(r\"A_{m n} B^{m n}\")\n",
    "\n",
    "AntiSymmetric(Ex(r\"B_{m n\"))"
   ],
   "outputs": [
    {
     "output_type": "execute_result",
     "data": {
      "text/plain": [
       "Property AntiSymmetric attached to B_{m n}."
      ]
     },
     "metadata": {},
     "execution_count": 11
    }
   ],
   "metadata": {}
  },
  {
   "cell_type": "code",
   "execution_count": 7,
   "source": [
    "display(Math(str(canonicalise(ex))))"
   ],
   "outputs": [
    {
     "output_type": "display_data",
     "data": {
      "text/latex": [
       "$\\displaystyle A^{m n} B_{m n}$"
      ],
      "text/plain": [
       "<IPython.core.display.Math object>"
      ]
     },
     "metadata": {}
    }
   ],
   "metadata": {}
  },
  {
   "cell_type": "code",
   "execution_count": 19,
   "source": [
    "\n",
    "vars({r\"p,n,\\bar{p}\"})\n",
    "p = vars('p')\n",
    "n = vars('n')\n",
    "p_bar = vars('\\\\bar{p}')\n",
    "n_bar = vars('\\\\bar{n}')\n",
    "pi_0 = vars('\\\\pi^0',real=True)\n",
    "pi_p = vars('\\\\pi^+')\n",
    "pi_m = conjugate(pi_p)\n",
    "chip = vars('u^\\dagger')\n",
    "phi = Matrix([[pi_0, sqrt(2)*pi_p], [sqrt(2)*pi_m, -pi_0]])\n",
    "n = Integer(1..d)\n",
    "pauli = Matrix([[-1,0],[0,1]])\n",
    "B = var('B',real=True)\n",
    "m_hat = var('\\\\hat{m}',real=True)\n",
    "delta = var('\\\\delta',real=True)\n",
    "s = m_hat*eye(2) - delta*pauli #m_hat * id matrix , dirac delta * pauli matrix\n",
    "chi = 2*B*(s*eye(2))"
   ],
   "outputs": [
    {
     "output_type": "error",
     "ename": "TypeError",
     "evalue": "vars() argument must have __dict__ attribute",
     "traceback": [
      "\u001b[0;31m---------------------------------------------------------------------------\u001b[0m",
      "\u001b[0;31mTypeError\u001b[0m                                 Traceback (most recent call last)",
      "\u001b[0;32m<ipython-input-19-0a01207fdf4c>\u001b[0m in \u001b[0;36m<module>\u001b[0;34m\u001b[0m\n\u001b[0;32m----> 1\u001b[0;31m \u001b[0mvars\u001b[0m\u001b[0;34m(\u001b[0m\u001b[0;34m{\u001b[0m\u001b[0;34mr\"p,n,\\bar{p}\"\u001b[0m\u001b[0;34m}\u001b[0m\u001b[0;34m)\u001b[0m\u001b[0;34m\u001b[0m\u001b[0;34m\u001b[0m\u001b[0m\n\u001b[0m\u001b[1;32m      2\u001b[0m \u001b[0mp\u001b[0m \u001b[0;34m=\u001b[0m \u001b[0mvars\u001b[0m\u001b[0;34m(\u001b[0m\u001b[0;34m'p'\u001b[0m\u001b[0;34m)\u001b[0m\u001b[0;34m\u001b[0m\u001b[0;34m\u001b[0m\u001b[0m\n\u001b[1;32m      3\u001b[0m \u001b[0mn\u001b[0m \u001b[0;34m=\u001b[0m \u001b[0mvars\u001b[0m\u001b[0;34m(\u001b[0m\u001b[0;34m'n'\u001b[0m\u001b[0;34m)\u001b[0m\u001b[0;34m\u001b[0m\u001b[0;34m\u001b[0m\u001b[0m\n\u001b[1;32m      4\u001b[0m \u001b[0mp_bar\u001b[0m \u001b[0;34m=\u001b[0m \u001b[0mvars\u001b[0m\u001b[0;34m(\u001b[0m\u001b[0;34m'\\\\bar{p}'\u001b[0m\u001b[0;34m)\u001b[0m\u001b[0;34m\u001b[0m\u001b[0;34m\u001b[0m\u001b[0m\n\u001b[1;32m      5\u001b[0m \u001b[0mn_bar\u001b[0m \u001b[0;34m=\u001b[0m \u001b[0mvars\u001b[0m\u001b[0;34m(\u001b[0m\u001b[0;34m'\\\\bar{n}'\u001b[0m\u001b[0;34m)\u001b[0m\u001b[0;34m\u001b[0m\u001b[0;34m\u001b[0m\u001b[0m\n",
      "\u001b[0;31mTypeError\u001b[0m: vars() argument must have __dict__ attribute"
     ]
    }
   ],
   "metadata": {}
  },
  {
   "cell_type": "code",
   "execution_count": 8,
   "source": [
    "Indices(Ex(r\"{m,n,p,q,r,s,t}\"))\n",
    "ex=Ex(r\"A_{m n} B^{m p} C_{p q}\")\n",
    "display(Math(str(substitute(ex, Ex(r\"A_{m n} -> D_{m q} D^{q}_{n}\")))))"
   ],
   "outputs": [
    {
     "output_type": "display_data",
     "data": {
      "text/latex": [
       "$\\displaystyle D_{m r} D^{r}_{n} B^{m p} C_{p q}$"
      ],
      "text/plain": [
       "<IPython.core.display.Math object>"
      ]
     },
     "metadata": {}
    }
   ],
   "metadata": {}
  },
  {
   "cell_type": "code",
   "execution_count": 20,
   "source": [
    "{r,t,\\phi,\\theta}::Coordinate\n",
    "{\\mu,\\nu,\\rho,\\sigma,\\lambda,\\kappa,\\chi,\\gamma}::Indices(values={t,r,\\phi,\\theta}, position=fixed);\n",
    "\\partial{#}::PartialDerivative;\n",
    "g_{\\mu\\nu}::Metric\n",
    "g^{\\mu\\nu}::InverseMetric.\n"
   ],
   "outputs": [
    {
     "output_type": "error",
     "ename": "SyntaxError",
     "evalue": "unexpected character after line continuation character (<ipython-input-20-b4bfceacb72d>, line 1)",
     "traceback": [
      "\u001b[0;36m  File \u001b[0;32m\"<ipython-input-20-b4bfceacb72d>\"\u001b[0;36m, line \u001b[0;32m1\u001b[0m\n\u001b[0;31m    {r,t,\\phi,\\theta}::Coordinate;\u001b[0m\n\u001b[0m          ^\u001b[0m\n\u001b[0;31mSyntaxError\u001b[0m\u001b[0;31m:\u001b[0m unexpected character after line continuation character\n"
     ]
    }
   ],
   "metadata": {}
  },
  {
   "cell_type": "code",
   "execution_count": 14,
   "source": [
    "def expand_nabla(ex):\n",
    "    for nabla in ex[r\"\\nabla\"]:\n",
    "        nabla.name=r\"\\partial\"\n",
    "        dindex = nabla.indices().__next__()\n",
    "        for arg in nabla.args():\n",
    "            ret=0\n",
    "            for index in arg.free_indices():\n",
    "                t2= arg\n",
    "                if index.parent_rel==sub:\n",
    "                    t1= -r\"\\Gamma^{p}_{@(dindex) @(index)}\"\n",
    "                    t2[index]= r\"_{p}\"\n",
    "                else:\n",
    "                    t1= r\"\\Gamma^{@(index)}_{@(dindex) p}\"\n",
    "                    t2[index]= r\"^{p}\"\n",
    "                ret += Ex(str(nabla.multiplier)) * t1 * t2\n",
    "            nabla += ret\n",
    "    return ex"
   ],
   "outputs": [],
   "metadata": {}
  },
  {
   "cell_type": "code",
   "execution_count": 17,
   "source": [
    "'{\\mu,\\nu,\\rho,\\sigma,\\alpha,\\beta,\\gamma,\\lambda,\\tau,\\pi,\\xi,\\iota,\\omega,\\kappa,\\psi,\\chi,\\epsilon,\\upsilon}'::Indices(position=independent);\n",
    "g_{\\mu \\nu}::Metric;\n",
    "r\"\\nabla{#}\":: Derivative;\n",
    "ex= r\"1/2 \\nabla_{a}{ h^{b}_{c} }\"\n",
    "expand_nabla(ex)"
   ],
   "outputs": [
    {
     "output_type": "error",
     "ename": "SyntaxError",
     "evalue": "invalid syntax (<ipython-input-17-bb61ee543d6c>, line 1)",
     "traceback": [
      "\u001b[0;36m  File \u001b[0;32m\"<ipython-input-17-bb61ee543d6c>\"\u001b[0;36m, line \u001b[0;32m1\u001b[0m\n\u001b[0;31m    r\"\\nabla{#}\"::Derivative;\u001b[0m\n\u001b[0m                 ^\u001b[0m\n\u001b[0;31mSyntaxError\u001b[0m\u001b[0;31m:\u001b[0m invalid syntax\n"
     ]
    }
   ],
   "metadata": {}
  },
  {
   "cell_type": "code",
   "execution_count": 11,
   "source": [
    "ex=Ex(r\"A_{m n} B^{m n}\")\n",
    "display(Math(str(ex)))"
   ],
   "outputs": [
    {
     "output_type": "display_data",
     "data": {
      "text/latex": [
       "$\\displaystyle A_{m n} B^{m n}$"
      ],
      "text/plain": [
       "<IPython.core.display.Math object>"
      ]
     },
     "metadata": {}
    }
   ],
   "metadata": {}
  },
  {
   "cell_type": "code",
   "execution_count": 10,
   "source": [
    "Indices(Ex(r\"{m,n,p,q,r,s,t}\"))\n",
    "ex=Ex(r\"A_{m n} B^{m p} C_{p q}\")\n",
    "display(Math(str(substitute(ex, Ex(r\"A_{m n} -> D_{m q} D^{q}_{n}\")))))"
   ],
   "outputs": [
    {
     "output_type": "display_data",
     "data": {
      "text/latex": [
       "$\\displaystyle D_{m r} D^{r}_{n} B^{m p} C_{p q}$"
      ],
      "text/plain": [
       "<IPython.core.display.Math object>"
      ]
     },
     "metadata": {}
    }
   ],
   "metadata": {}
  },
  {
   "cell_type": "markdown",
   "source": [],
   "metadata": {}
  },
  {
   "cell_type": "markdown",
   "source": [],
   "metadata": {}
  }
 ],
 "metadata": {
  "interpreter": {
   "hash": "0c42bcf13222e68b60301a02eb96e1b24c318589beaefd3d6719de4d398c3aa0"
  },
  "kernelspec": {
   "display_name": "Cadabra2",
   "name": "undefined.cadabra2_jupyter",
   "language": "python"
  },
  "language_info": {
   "name": "python",
   "codemirror_mode": "cadabra",
   "pygments_lexer": "cadabra",
   "mimetype": "text/cadabra",
   "file_extension": ".ipynb",
   "version": "3.9.9"
  },
  "orig_nbformat": 4
 },
 "nbformat": 4,
 "nbformat_minor": 2
}