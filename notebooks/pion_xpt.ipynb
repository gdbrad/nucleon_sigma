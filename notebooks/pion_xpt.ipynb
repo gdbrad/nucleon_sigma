{
 "metadata": {
  "language_info": {
   "codemirror_mode": {
    "name": "ipython",
    "version": 3
   },
   "file_extension": ".py",
   "mimetype": "text/x-python",
   "name": "python",
   "nbconvert_exporter": "python",
   "pygments_lexer": "ipython3",
   "version": "3.9.6-final"
  },
  "orig_nbformat": 2,
  "kernelspec": {
   "name": "python38664bit7e0b95658b4c43ccbf2eb0ab815a72a6",
   "display_name": "Python 3.8.6 64-bit"
  }
 },
 "nbformat": 4,
 "nbformat_minor": 2,
 "cells": [
  {
   "cell_type": "code",
   "execution_count": 99,
   "metadata": {},
   "outputs": [],
   "source": [
    "import sys\n",
    "from sympy import *\n",
    "from sympy import conjugate, I\n",
    "import sympy.physics.quantum as q\n",
    "from sympy.physics.paulialgebra import Pauli, evaluate_pauli_product"
   ]
  },
  {
   "cell_type": "code",
   "execution_count": 100,
   "metadata": {},
   "outputs": [
    {
     "output_type": "execute_result",
     "data": {
      "text/plain": [
       "conjugate(\\pi^+)"
      ],
      "text/latex": "$\\displaystyle \\overline{\\pi^{+}}$"
     },
     "metadata": {},
     "execution_count": 100
    }
   ],
   "source": [
    "p = var('p')\n",
    "n = var('n')\n",
    "p_bar = var('\\\\bar{p}')\n",
    "n_bar = var('\\\\bar{n}')\n",
    "pi_0 = var('\\\\pi^0',real=True)\n",
    "pi_p = var('\\\\pi^+')\n",
    "pi_m = conjugate(pi_p)\n",
    "chip = var('u^\\dagger')\n",
    "pi_m"
   ]
  },
  {
   "source": [
    "### construct phi matrix ###"
   ],
   "cell_type": "markdown",
   "metadata": {}
  },
  {
   "cell_type": "code",
   "execution_count": 101,
   "metadata": {},
   "outputs": [],
   "source": [
    "phi = Matrix([[pi_0, sqrt(2)*pi_p], [sqrt(2)*pi_m, -pi_0]])\n"
   ]
  },
  {
   "cell_type": "code",
   "execution_count": 102,
   "metadata": {},
   "outputs": [],
   "source": [
    "pauli = Matrix([[-1,0],[0,1]])\n",
    "B = var('B',real=True)\n",
    "m_hat = var('\\\\hat{m}',real=True)\n",
    "delta = var('\\\\delta',real=True)\n",
    "s = m_hat*eye(2) - delta*pauli #m_hat * id matrix , dirac delta * pauli matrix\n",
    "chi = 2*B*(s*eye(2))"
   ]
  },
  {
   "cell_type": "code",
   "execution_count": 103,
   "metadata": {},
   "outputs": [],
   "source": [
    "F = var('F')\n",
    "c2 = Symbol('\\\\frac{\\\\alpha_N}{4 \\\\pi F}')\n",
    "c1 = Symbol('\\\\frac{\\\\sigma_N}{4 \\\\pi F}')\n",
    "u = Matrix([[0,0],[0,0]])\n",
    "order = 1\n",
    "for i in range(0,order+1):\n",
    "    u+= (I* phi/F)**i"
   ]
  },
  {
   "cell_type": "code",
   "execution_count": 104,
   "metadata": {},
   "outputs": [],
   "source": [
    "chi_p = q.dagger.Dagger(u)*chi*q.dagger.Dagger(u) + u*q.dagger.Dagger(chi)*u\n",
    "chidelta_p = chi_p - 0.5*trace(chi_p)*eye(2)"
   ]
  },
  {
   "cell_type": "code",
   "execution_count": 105,
   "metadata": {},
   "outputs": [],
   "source": [
    "N = Matrix([[p], [n]])"
   ]
  },
  {
   "cell_type": "code",
   "execution_count": 106,
   "metadata": {},
   "outputs": [
    {
     "output_type": "execute_result",
     "data": {
      "text/plain": [
       "Matrix([[B*(n*(2*sqrt(2)*I*\\pi^+*(F**2*((\\delta - \\hat{m})*(I*\\pi^0 + conjugate(F)) + (\\delta + \\hat{m})*(I*\\pi^0 - conjugate(F))) + (-(F - I*\\pi^0)*(\\delta - \\hat{m}) + (F + I*\\pi^0)*(\\delta + \\hat{m}))*conjugate(F)**2)*conjugate(p) - (F**2*(2.0*\\pi^+*(\\delta - \\hat{m})*conjugate(\\pi^+) + 2.0*\\pi^+*(\\delta + \\hat{m})*conjugate(\\pi^+) + 1.0*(\\delta - \\hat{m})*(I*\\pi^0 + conjugate(F))**2 + 1.0*(\\delta + \\hat{m})*(I*\\pi^0 - conjugate(F))**2) + (2.0*\\pi^+*(\\delta - \\hat{m})*conjugate(\\pi^+) + 2.0*\\pi^+*(\\delta + \\hat{m})*conjugate(\\pi^+) + 1.0*(F - I*\\pi^0)**2*(\\delta - \\hat{m}) + 1.0*(F + I*\\pi^0)**2*(\\delta + \\hat{m}))*conjugate(F)**2)*conjugate(n)) + p*(2*sqrt(2)*I*(F**2*((\\delta - \\hat{m})*(I*\\pi^0 + conjugate(F)) + (\\delta + \\hat{m})*(I*\\pi^0 - conjugate(F))) + (-(F - I*\\pi^0)*(\\delta - \\hat{m}) + (F + I*\\pi^0)*(\\delta + \\hat{m}))*conjugate(F)**2)*conjugate(\\pi^+)*conjugate(n) + (F**2*(2.0*\\pi^+*(\\delta - \\hat{m})*conjugate(\\pi^+) + 2.0*\\pi^+*(\\delta + \\hat{m})*conjugate(\\pi^+) + 1.0*(\\delta - \\hat{m})*(I*\\pi^0 + conjugate(F))**2 + 1.0*(\\delta + \\hat{m})*(I*\\pi^0 - conjugate(F))**2) + (2.0*\\pi^+*(\\delta - \\hat{m})*conjugate(\\pi^+) + 2.0*\\pi^+*(\\delta + \\hat{m})*conjugate(\\pi^+) + 1.0*(F - I*\\pi^0)**2*(\\delta - \\hat{m}) + 1.0*(F + I*\\pi^0)**2*(\\delta + \\hat{m}))*conjugate(F)**2)*conjugate(p)))/(F**2*conjugate(F)**2)]])"
      ],
      "text/latex": "$\\displaystyle \\left[\\begin{matrix}\\frac{B \\left(n \\left(2 \\sqrt{2} i \\pi^{+} \\left(F^{2} \\left(\\left(\\delta - \\hat{m}\\right) \\left(i \\pi^{0} + \\overline{F}\\right) + \\left(\\delta + \\hat{m}\\right) \\left(i \\pi^{0} - \\overline{F}\\right)\\right) + \\left(- \\left(F - i \\pi^{0}\\right) \\left(\\delta - \\hat{m}\\right) + \\left(F + i \\pi^{0}\\right) \\left(\\delta + \\hat{m}\\right)\\right) \\overline{F}^{2}\\right) \\overline{p} - \\left(F^{2} \\left(2.0 \\pi^{+} \\left(\\delta - \\hat{m}\\right) \\overline{\\pi^{+}} + 2.0 \\pi^{+} \\left(\\delta + \\hat{m}\\right) \\overline{\\pi^{+}} + 1.0 \\left(\\delta - \\hat{m}\\right) \\left(i \\pi^{0} + \\overline{F}\\right)^{2} + 1.0 \\left(\\delta + \\hat{m}\\right) \\left(i \\pi^{0} - \\overline{F}\\right)^{2}\\right) + \\left(2.0 \\pi^{+} \\left(\\delta - \\hat{m}\\right) \\overline{\\pi^{+}} + 2.0 \\pi^{+} \\left(\\delta + \\hat{m}\\right) \\overline{\\pi^{+}} + 1.0 \\left(F - i \\pi^{0}\\right)^{2} \\left(\\delta - \\hat{m}\\right) + 1.0 \\left(F + i \\pi^{0}\\right)^{2} \\left(\\delta + \\hat{m}\\right)\\right) \\overline{F}^{2}\\right) \\overline{n}\\right) + p \\left(2 \\sqrt{2} i \\left(F^{2} \\left(\\left(\\delta - \\hat{m}\\right) \\left(i \\pi^{0} + \\overline{F}\\right) + \\left(\\delta + \\hat{m}\\right) \\left(i \\pi^{0} - \\overline{F}\\right)\\right) + \\left(- \\left(F - i \\pi^{0}\\right) \\left(\\delta - \\hat{m}\\right) + \\left(F + i \\pi^{0}\\right) \\left(\\delta + \\hat{m}\\right)\\right) \\overline{F}^{2}\\right) \\overline{\\pi^{+}} \\overline{n} + \\left(F^{2} \\left(2.0 \\pi^{+} \\left(\\delta - \\hat{m}\\right) \\overline{\\pi^{+}} + 2.0 \\pi^{+} \\left(\\delta + \\hat{m}\\right) \\overline{\\pi^{+}} + 1.0 \\left(\\delta - \\hat{m}\\right) \\left(i \\pi^{0} + \\overline{F}\\right)^{2} + 1.0 \\left(\\delta + \\hat{m}\\right) \\left(i \\pi^{0} - \\overline{F}\\right)^{2}\\right) + \\left(2.0 \\pi^{+} \\left(\\delta - \\hat{m}\\right) \\overline{\\pi^{+}} + 2.0 \\pi^{+} \\left(\\delta + \\hat{m}\\right) \\overline{\\pi^{+}} + 1.0 \\left(F - i \\pi^{0}\\right)^{2} \\left(\\delta - \\hat{m}\\right) + 1.0 \\left(F + i \\pi^{0}\\right)^{2} \\left(\\delta + \\hat{m}\\right)\\right) \\overline{F}^{2}\\right) \\overline{p}\\right)\\right)}{F^{2} \\overline{F}^{2}}\\end{matrix}\\right]$"
     },
     "metadata": {},
     "execution_count": 106
    }
   ],
   "source": [
    "term2 = simplify(simplify(q.dagger.Dagger(N)*chidelta_p*N))\n",
    "term2"
   ]
  },
  {
   "cell_type": "code",
   "execution_count": 107,
   "metadata": {},
   "outputs": [],
   "source": [
    "term3 = simplify(q.dagger.Dagger(N)*N*trace(chi_p))"
   ]
  },
  {
   "cell_type": "code",
   "execution_count": 108,
   "metadata": {},
   "outputs": [
    {
     "output_type": "execute_result",
     "data": {
      "text/plain": [
       "Matrix([[B*(2*\\frac{\\alpha_N}{4 \\pi F}*(F**2*(2*\\pi^+*(\\delta - \\hat{m})*conjugate(\\pi^+) - 2*\\pi^+*(\\delta + \\hat{m})*conjugate(\\pi^+) + (-\\delta + \\hat{m})*(I*\\pi^0 + conjugate(F))**2 + (\\delta + \\hat{m})*(I*\\pi^0 - conjugate(F))**2) + (2*\\pi^+*(\\delta - \\hat{m})*conjugate(\\pi^+) - 2*\\pi^+*(\\delta + \\hat{m})*conjugate(\\pi^+) + (F - I*\\pi^0)**2*(-\\delta + \\hat{m}) + (F + I*\\pi^0)**2*(\\delta + \\hat{m}))*conjugate(F)**2)*(n*conjugate(n) + p*conjugate(p)) + \\frac{\\sigma_N}{4 \\pi F}*(n*(2*sqrt(2)*I*\\pi^+*(F**2*((\\delta - \\hat{m})*(I*\\pi^0 + conjugate(F)) + (\\delta + \\hat{m})*(I*\\pi^0 - conjugate(F))) + (-(F - I*\\pi^0)*(\\delta - \\hat{m}) + (F + I*\\pi^0)*(\\delta + \\hat{m}))*conjugate(F)**2)*conjugate(p) - (F**2*(2.0*\\pi^+*(\\delta - \\hat{m})*conjugate(\\pi^+) + 2.0*\\pi^+*(\\delta + \\hat{m})*conjugate(\\pi^+) + 1.0*(\\delta - \\hat{m})*(I*\\pi^0 + conjugate(F))**2 + 1.0*(\\delta + \\hat{m})*(I*\\pi^0 - conjugate(F))**2) + (2.0*\\pi^+*(\\delta - \\hat{m})*conjugate(\\pi^+) + 2.0*\\pi^+*(\\delta + \\hat{m})*conjugate(\\pi^+) + 1.0*(F - I*\\pi^0)**2*(\\delta - \\hat{m}) + 1.0*(F + I*\\pi^0)**2*(\\delta + \\hat{m}))*conjugate(F)**2)*conjugate(n)) + p*(2*sqrt(2)*I*(F**2*((\\delta - \\hat{m})*(I*\\pi^0 + conjugate(F)) + (\\delta + \\hat{m})*(I*\\pi^0 - conjugate(F))) + (-(F - I*\\pi^0)*(\\delta - \\hat{m}) + (F + I*\\pi^0)*(\\delta + \\hat{m}))*conjugate(F)**2)*conjugate(\\pi^+)*conjugate(n) + (F**2*(2.0*\\pi^+*(\\delta - \\hat{m})*conjugate(\\pi^+) + 2.0*\\pi^+*(\\delta + \\hat{m})*conjugate(\\pi^+) + 1.0*(\\delta - \\hat{m})*(I*\\pi^0 + conjugate(F))**2 + 1.0*(\\delta + \\hat{m})*(I*\\pi^0 - conjugate(F))**2) + (2.0*\\pi^+*(\\delta - \\hat{m})*conjugate(\\pi^+) + 2.0*\\pi^+*(\\delta + \\hat{m})*conjugate(\\pi^+) + 1.0*(F - I*\\pi^0)**2*(\\delta - \\hat{m}) + 1.0*(F + I*\\pi^0)**2*(\\delta + \\hat{m}))*conjugate(F)**2)*conjugate(p))))/(F**2*conjugate(F)**2)]])"
      ],
      "text/latex": "$\\displaystyle \\left[\\begin{matrix}\\frac{B \\left(2 \\frac{\\alpha_N}{4 \\pi F} \\left(F^{2} \\left(2 \\pi^{+} \\left(\\delta - \\hat{m}\\right) \\overline{\\pi^{+}} - 2 \\pi^{+} \\left(\\delta + \\hat{m}\\right) \\overline{\\pi^{+}} + \\left(- \\delta + \\hat{m}\\right) \\left(i \\pi^{0} + \\overline{F}\\right)^{2} + \\left(\\delta + \\hat{m}\\right) \\left(i \\pi^{0} - \\overline{F}\\right)^{2}\\right) + \\left(2 \\pi^{+} \\left(\\delta - \\hat{m}\\right) \\overline{\\pi^{+}} - 2 \\pi^{+} \\left(\\delta + \\hat{m}\\right) \\overline{\\pi^{+}} + \\left(F - i \\pi^{0}\\right)^{2} \\left(- \\delta + \\hat{m}\\right) + \\left(F + i \\pi^{0}\\right)^{2} \\left(\\delta + \\hat{m}\\right)\\right) \\overline{F}^{2}\\right) \\left(n \\overline{n} + p \\overline{p}\\right) + \\frac{\\sigma_N}{4 \\pi F} \\left(n \\left(2 \\sqrt{2} i \\pi^{+} \\left(F^{2} \\left(\\left(\\delta - \\hat{m}\\right) \\left(i \\pi^{0} + \\overline{F}\\right) + \\left(\\delta + \\hat{m}\\right) \\left(i \\pi^{0} - \\overline{F}\\right)\\right) + \\left(- \\left(F - i \\pi^{0}\\right) \\left(\\delta - \\hat{m}\\right) + \\left(F + i \\pi^{0}\\right) \\left(\\delta + \\hat{m}\\right)\\right) \\overline{F}^{2}\\right) \\overline{p} - \\left(F^{2} \\left(2.0 \\pi^{+} \\left(\\delta - \\hat{m}\\right) \\overline{\\pi^{+}} + 2.0 \\pi^{+} \\left(\\delta + \\hat{m}\\right) \\overline{\\pi^{+}} + 1.0 \\left(\\delta - \\hat{m}\\right) \\left(i \\pi^{0} + \\overline{F}\\right)^{2} + 1.0 \\left(\\delta + \\hat{m}\\right) \\left(i \\pi^{0} - \\overline{F}\\right)^{2}\\right) + \\left(2.0 \\pi^{+} \\left(\\delta - \\hat{m}\\right) \\overline{\\pi^{+}} + 2.0 \\pi^{+} \\left(\\delta + \\hat{m}\\right) \\overline{\\pi^{+}} + 1.0 \\left(F - i \\pi^{0}\\right)^{2} \\left(\\delta - \\hat{m}\\right) + 1.0 \\left(F + i \\pi^{0}\\right)^{2} \\left(\\delta + \\hat{m}\\right)\\right) \\overline{F}^{2}\\right) \\overline{n}\\right) + p \\left(2 \\sqrt{2} i \\left(F^{2} \\left(\\left(\\delta - \\hat{m}\\right) \\left(i \\pi^{0} + \\overline{F}\\right) + \\left(\\delta + \\hat{m}\\right) \\left(i \\pi^{0} - \\overline{F}\\right)\\right) + \\left(- \\left(F - i \\pi^{0}\\right) \\left(\\delta - \\hat{m}\\right) + \\left(F + i \\pi^{0}\\right) \\left(\\delta + \\hat{m}\\right)\\right) \\overline{F}^{2}\\right) \\overline{\\pi^{+}} \\overline{n} + \\left(F^{2} \\left(2.0 \\pi^{+} \\left(\\delta - \\hat{m}\\right) \\overline{\\pi^{+}} + 2.0 \\pi^{+} \\left(\\delta + \\hat{m}\\right) \\overline{\\pi^{+}} + 1.0 \\left(\\delta - \\hat{m}\\right) \\left(i \\pi^{0} + \\overline{F}\\right)^{2} + 1.0 \\left(\\delta + \\hat{m}\\right) \\left(i \\pi^{0} - \\overline{F}\\right)^{2}\\right) + \\left(2.0 \\pi^{+} \\left(\\delta - \\hat{m}\\right) \\overline{\\pi^{+}} + 2.0 \\pi^{+} \\left(\\delta + \\hat{m}\\right) \\overline{\\pi^{+}} + 1.0 \\left(F - i \\pi^{0}\\right)^{2} \\left(\\delta - \\hat{m}\\right) + 1.0 \\left(F + i \\pi^{0}\\right)^{2} \\left(\\delta + \\hat{m}\\right)\\right) \\overline{F}^{2}\\right) \\overline{p}\\right)\\right)\\right)}{F^{2} \\overline{F}^{2}}\\end{matrix}\\right]$"
     },
     "metadata": {},
     "execution_count": 108
    }
   ],
   "source": [
    "simplify(c1*term2 + c2*term3)"
   ]
  },
  {
   "cell_type": "code",
   "execution_count": null,
   "metadata": {},
   "outputs": [],
   "source": []
  }
 ]
}