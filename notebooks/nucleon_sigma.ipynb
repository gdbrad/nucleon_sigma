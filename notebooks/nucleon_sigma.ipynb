{
 "cells": [
  {
   "cell_type": "code",
   "execution_count": 1,
   "metadata": {
    "tags": []
   },
   "outputs": [],
   "source": [
    "import numpy as np\n",
    "import gvar as gv\n",
    "import sys\n",
    "sys.path.append('../')\n",
    "from h5glance import H5Glance \n",
    "import os\n",
    "import lsqfit\n",
    "import io\n",
    "import yaml\n",
    "import warnings  \n",
    "warnings.simplefilter(action=\"default\")\n",
    "warnings.filterwarnings('ignore') "
   ]
  },
  {
   "cell_type": "code",
   "execution_count": 2,
   "metadata": {},
   "outputs": [],
   "source": [
    "os.chdir('../../nucleon_sigma/xpt')"
   ]
  },
  {
   "cell_type": "code",
   "execution_count": 3,
   "metadata": {},
   "outputs": [],
   "source": [
    "import fit_analysis as fa \n",
    "import fit_routine as fit\n",
    "import i_o\n",
    "import priors"
   ]
  },
  {
   "cell_type": "code",
   "execution_count": 4,
   "metadata": {
    "tags": []
   },
   "outputs": [
    {
     "output_type": "execute_result",
     "data": {
      "text/plain": [
       "<module 'fit_routine' from '/home/gmoney/lqcd/nucleon_sigma/xpt/fit_routine.py'>"
      ]
     },
     "metadata": {},
     "execution_count": 4
    }
   ],
   "source": [
    "from importlib import reload\n",
    "reload(i_o)\n",
    "reload(fa)\n",
    "reload(fit)"
   ]
  },
  {
   "cell_type": "code",
   "execution_count": 5,
   "metadata": {
    "tags": []
   },
   "outputs": [],
   "source": [
    "from priors import prior\n",
    "prior = prior\n",
    "#print(prior)"
   ]
  },
  {
   "cell_type": "code",
   "execution_count": 6,
   "metadata": {},
   "outputs": [],
   "source": [
    "#gv.load('../data/scale_setting.p')"
   ]
  },
  {
   "cell_type": "code",
   "execution_count": 7,
   "metadata": {},
   "outputs": [],
   "source": [
    "f = open('models.yaml', 'r')\n",
    "models = yaml.load(f,Loader=yaml.FullLoader)\n",
    "    #print(keys)\n",
    "model_info = {}\n",
    "for item in models.values():\n",
    "        #model_info = item['m_p:s_n2lo:d_n4lo:x_n2lo:l_n4lo:lc_t']\n",
    "        #model_info = item['m_p:s_n2lo:d_n4lo:x_n2lo:l_n4lo:lc_t']\n",
    "        #model_info = item['m_p:s_nlo:d_nlo:x_nlo:l_nlo:lc_t']\n",
    "        #model_info = item['m_p:s_n4lo:d_n4lo:x_n4lo:l_n4lo:fpi']\n",
    "        model_info = item['m_p:s_n4lo:d_n4lo:x_n4lo:l_n4lo:fpi']\n",
    "\n",
    "        model_info_sigma = item['proton:s_n2lo:d_n4lo:x_n2lo:l_n4lo:lc_f:sigma_t']\n",
    "        #model_info_div_lam = item['proton:s_n2lo:d_n4lo:x_n2lo:l_n4lo:lc_t']\n",
    "#print(model_info)"
   ]
  },
  {
   "cell_type": "code",
   "execution_count": 8,
   "metadata": {},
   "outputs": [],
   "source": [
    "input_output = i_o.InputOutput()\n",
    "data,ensembles = input_output.get_data(scheme='w0_org',units='Fpi')\n",
    "prior = input_output.make_prior(data,prior)\n",
    "phys_point_data = input_output.get_data_phys_point()"
   ]
  },
  {
   "cell_type": "code",
   "execution_count": 9,
   "metadata": {
    "tags": []
   },
   "outputs": [
    {
     "output_type": "stream",
     "name": "stdout",
     "text": [
      "{'particles': ['proton'], 'eps2a_defn': 'w0_imp', 'order_chiral': 'n2lo', 'order_disc': 'n2lo', 'order_strange': 'n2lo', 'order_light': 'n2lo', 'xpt': False, 'fv': True, 'fit_phys_units': False, 'fit_fpi_units': True, 'sigma': False, 'delta': True, 'axial': True} Least Square Fit:\n  chi2/dof [dof] = 10 [17]    Q = 2.8e-28    logGBF = -33.986\n\nParameters:\n     m_{proton,0}        1.233 (83)       [       1.0 (1.0) ]  \n     b_{proton,2}         3.51 (58)       [       0.0 (5.0) ]  \n     b_{proton,4}         4.1 (3.4)       [       0.0 (5.0) ]  \n     d_{proton,a}        -2.59 (23)       [       0.0 (5.0) ]  \n    d_{proton,aa}        -0.50 (65)       [       0.0 (5.0) ]  \n    d_{proton,al}         8.0 (1.1)       [       0.0 (5.0) ]  *\n     d_{proton,s}        -4.88 (12)       [       0.0 (5.0) ]  \n    d_{proton,as}        21.26 (67)       [       0.0 (5.0) ]  ****\n    d_{proton,ls}         0.19 (62)       [       0.0 (5.0) ]  \n    d_{proton,ss}        1.051 (68)       [       0.0 (5.0) ]  \ng_{proton,proton}         1.3 (5.0)       [       1.3 (5.0) ]  \n g_{proton,delta}         0.9 (5.0)       [       0.9 (5.0) ]  \n      m_{delta,0}         2.0 (1.0)       [       2.0 (1.0) ]  \n     a_{proton,4}         9.6 (2.8)       [       0.0 (5.0) ]  *\n     g_{proton,4}       -1e-17 +- 5       [       0.0 (5.0) ]  \n            m_k 0    0.1620491 (10)       [  0.1620491 (10) ]  \n                1    0.2184996 (11)       [  0.2184996 (11) ]  \n                2    0.2287022 (14)       [  0.2287022 (14) ]  \n                3    0.2410621 (20)       [  0.2410622 (20) ]  \n                4    0.2469609 (17)       [  0.2469609 (17) ]  \n                5    0.2552325 (18)       [  0.2552325 (18) ]  \n                6    0.3021451 (16)       [  0.3021452 (16) ]  \n                7    0.3102080 (28)       [  0.3102080 (28) ]  \n                8    0.3241359 (29)       [  0.3241359 (29) ]  \n                9    0.3330598 (23)       [  0.3330598 (23) ]  \n               10    0.3434093 (20)       [  0.3434093 (20) ]  \n               11    0.3875519 (20)       [  0.3875519 (20) ]  \n               12    0.3868952 (29)       [  0.3868952 (29) ]  \n               13    0.4045680 (34)       [  0.4045681 (34) ]  \n               14    0.4040830 (30)       [  0.4040830 (30) ]  \n               15    0.4136909 (37)       [  0.4136910 (37) ]  \n               16    0.4272251 (38)       [  0.4272250 (38) ]  \n           m_pi 0   0.09456037 (83)       [ 0.09456037 (83) ]  \n                1   0.05945897 (87)       [ 0.05945897 (87) ]  \n                2   0.09789993 (94)       [ 0.09789993 (94) ]  \n                3    0.1407199 (17)       [  0.1407200 (17) ]  \n                4    0.1578542 (28)       [  0.1578542 (28) ]  \n                5    0.1811563 (20)       [  0.1811564 (20) ]  \n                6    0.0812606 (21)       [  0.0812606 (21) ]  \n                7    0.1340172 (22)       [  0.1340172 (22) ]  \n                8    0.1886975 (24)       [  0.1886975 (24) ]  \n                9    0.2139709 (29)       [  0.2139709 (29) ]  \n               10    0.2434661 (23)       [  0.2434661 (23) ]  \n               11   0.10292864 (96)       [ 0.10292864 (96) ]  \n               12    0.1653278 (26)       [  0.1653278 (26) ]  \n               13    0.2360149 (42)       [  0.2360149 (42) ]  \n               14    0.2341062 (28)       [  0.2341062 (28) ]  \n               15    0.2647341 (41)       [  0.2647342 (41) ]  \n               16    0.3028147 (43)       [  0.3028146 (43) ]  \n        lam_chi 0     0.381585 (15)       [   0.381585 (15) ]  \n                1     0.512527 (17)       [   0.512527 (17) ]  \n                2     0.538379 (14)       [   0.538379 (14) ]  \n                3     0.572061 (12)       [   0.572061 (12) ]  \n                4     0.586001 (14)       [   0.586001 (14) ]  \n                5     0.607813 (13)       [   0.607813 (13) ]  \n                6     0.716398 (20)       [   0.716396 (20) ]  \n                7     0.738989 (24)       [   0.738991 (24) ]  \n                8     0.771383 (20)       [   0.771381 (20) ]  \n                9     0.791575 (26)       [   0.791576 (26) ]  \n               10     0.816606 (20)       [   0.816607 (20) ]  \n               11     0.896105 (20)       [   0.896106 (20) ]  \n               12     0.914433 (15)       [   0.914434 (15) ]  \n               13     0.946118 (17)       [   0.946117 (17) ]  \n               14     0.954329 (25)       [   0.954329 (25) ]  \n               15     0.966368 (20)       [   0.966366 (20) ]  \n               16     0.997478 (22)       [   0.997480 (22) ]  \n         eps2_a 0     0.029604 (41)       [   0.029618 (41) ]  \n                1     0.065310 (69)       [   0.065325 (70) ]  \n                2     0.066552 (78)       [   0.066506 (83) ]  \n                3     0.069581 (84)       [    0.06877 (16) ]  ****\n                4      0.07038 (10)       [    0.06998 (19) ]  **\n                5      0.07042 (16)       [    0.07160 (20) ]  *****\n                6     0.123580 (87)       [   0.123786 (95) ]  **\n                7     0.126094 (87)       [    0.12594 (12) ]  *\n                8      0.12913 (11)       [    0.13008 (23) ]  ****\n                9      0.13248 (12)       [    0.13214 (20) ]  *\n               10      0.13470 (14)       [    0.13446 (16) ]  *\n               11      0.19525 (12)       [    0.19514 (12) ]  \n               12      0.19779 (19)       [    0.19737 (28) ]  *\n               13      0.20290 (21)       [    0.20368 (32) ]  **\n               14      0.20430 (20)       [    0.20416 (25) ]  \n               15      0.20423 (22)       [    0.20706 (48) ]  *****\n               16      0.21367 (45)       [    0.21168 (56) ]  ***\n         eps_pi 0    0.2478096 (98)       [  0.2478095 (98) ]  \n                1    0.1160114 (45)       [  0.1160115 (45) ]  \n                2    0.1818420 (53)       [  0.1818420 (53) ]  \n                3    0.2459876 (62)       [  0.2459875 (62) ]  \n                4    0.2693754 (80)       [  0.2693754 (80) ]  \n                5    0.2980460 (75)       [  0.2980461 (75) ]  \n                6    0.1134294 (45)       [  0.1134298 (45) ]  \n                7    0.1813520 (62)       [  0.1813517 (62) ]  \n                8    0.2446223 (71)       [  0.2446228 (71) ]  \n                9    0.2703104 (97)       [  0.2703099 (97) ]  \n               10    0.2981438 (74)       [  0.2981435 (74) ]  \n               11    0.1148623 (28)       [  0.1148621 (28) ]  \n               12    0.1807981 (42)       [  0.1807980 (42) ]  \n               13    0.2494562 (51)       [  0.2494564 (51) ]  \n               14    0.2453098 (67)       [  0.2453097 (67) ]  \n               15    0.2739476 (71)       [  0.2739482 (71) ]  \n               16    0.3035802 (75)       [  0.3035798 (75) ]  \n\nSettings:\n  svdcut/n = 1e-12/0    tol = (1e-08*,1e-10,1e-10)    (itns/time = 162/0.3)\n\n"
     ]
    }
   ],
   "source": [
    "\n",
    "fit_div_lam = fit.fit_routine(prior=prior, data=data, model_info=model_info)\n",
    "fit_div_lam_out = fit_div_lam.fit\n",
    "print(model_info,fit_div_lam_out)\n"
   ]
  },
  {
   "cell_type": "code",
   "execution_count": 10,
   "metadata": {},
   "outputs": [],
   "source": [
    "# fit_sigma = fit.fit_routine(prior=prior, data=data, model_info=model_info_sigma)\n",
    "# fit_sigma_out = fit_sigma.fit\n",
    "# print(fit_sigma_out.y)"
   ]
  },
  {
   "cell_type": "code",
   "execution_count": 11,
   "metadata": {},
   "outputs": [],
   "source": [
    "#  fit_test = fit.fit_routine(prior=prior, data=data, model_info=model_info)\n",
    "#  fit_out = fit_test.fit\n",
    "#  print(fit_out.format(maxline=True))"
   ]
  },
  {
   "cell_type": "code",
   "execution_count": 12,
   "metadata": {
    "tags": []
   },
   "outputs": [
    {
     "output_type": "stream",
     "name": "stdout",
     "text": [
      "{'proton': array([154(32), 46.2(8.2), 98(19), 152(32), 171(37), 194(44), 44.4(7.9),\n       98(19), 151(32), 172(37), 194(44), 45.4(8.1), 98(19), 155(33),\n       152(32), 175(38), 198(45)], dtype=object)}\n"
     ]
    },
    {
     "output_type": "error",
     "ename": "KeyError",
     "evalue": "'fit_phys_units'",
     "traceback": [
      "\u001b[0;31m---------------------------------------------------------------------------\u001b[0m",
      "\u001b[0;31mKeyError\u001b[0m                                  Traceback (most recent call last)",
      "\u001b[0;32m<ipython-input-12-b152209435c5>\u001b[0m in \u001b[0;36m<module>\u001b[0;34m\u001b[0m\n\u001b[1;32m      4\u001b[0m \u001b[0mfit_analysis_sigma\u001b[0m \u001b[0;34m=\u001b[0m \u001b[0mfa\u001b[0m\u001b[0;34m.\u001b[0m\u001b[0mfit_analysis\u001b[0m\u001b[0;34m(\u001b[0m\u001b[0mphys_point_data\u001b[0m\u001b[0;34m=\u001b[0m\u001b[0mphys_point_data\u001b[0m\u001b[0;34m,\u001b[0m \u001b[0mdata\u001b[0m\u001b[0;34m=\u001b[0m\u001b[0mdata\u001b[0m\u001b[0;34m,\u001b[0m\u001b[0mmodel_info\u001b[0m\u001b[0;34m=\u001b[0m\u001b[0mmodel_info_sigma\u001b[0m\u001b[0;34m,\u001b[0m \u001b[0mprior\u001b[0m\u001b[0;34m=\u001b[0m\u001b[0mprior\u001b[0m\u001b[0;34m)\u001b[0m\u001b[0;34m\u001b[0m\u001b[0;34m\u001b[0m\u001b[0m\n\u001b[1;32m      5\u001b[0m \u001b[0mextrap_mass\u001b[0m \u001b[0;34m=\u001b[0m \u001b[0mfit_analysis\u001b[0m\u001b[0;34m.\u001b[0m\u001b[0mextrapolated_mass\u001b[0m\u001b[0;34m\u001b[0m\u001b[0;34m\u001b[0m\u001b[0m\n\u001b[0;32m----> 6\u001b[0;31m \u001b[0mextrap_mass_deriv\u001b[0m \u001b[0;34m=\u001b[0m \u001b[0mfit_analysis_sigma\u001b[0m\u001b[0;34m.\u001b[0m\u001b[0mextrapolated_mass\u001b[0m\u001b[0;34m\u001b[0m\u001b[0;34m\u001b[0m\u001b[0m\n\u001b[0m\u001b[1;32m      7\u001b[0m \u001b[0mm_proton\u001b[0m \u001b[0;34m=\u001b[0m \u001b[0mextrap_mass\u001b[0m\u001b[0;34m[\u001b[0m\u001b[0;34m'proton'\u001b[0m\u001b[0;34m]\u001b[0m\u001b[0;34m\u001b[0m\u001b[0;34m\u001b[0m\u001b[0m\n\u001b[1;32m      8\u001b[0m \u001b[0mm_proton_deriv\u001b[0m \u001b[0;34m=\u001b[0m  \u001b[0mextrap_mass_deriv\u001b[0m\u001b[0;34m[\u001b[0m\u001b[0;34m'proton'\u001b[0m\u001b[0;34m]\u001b[0m\u001b[0;34m\u001b[0m\u001b[0;34m\u001b[0m\u001b[0m\n",
      "\u001b[0;32m~/lqcd/nucleon_sigma/xpt/fit_analysis.py\u001b[0m in \u001b[0;36mextrapolated_mass\u001b[0;34m(self)\u001b[0m\n\u001b[1;32m    249\u001b[0m         \u001b[0mextrapolated_mass\u001b[0m \u001b[0;34m=\u001b[0m \u001b[0;34m{\u001b[0m\u001b[0;34m}\u001b[0m\u001b[0;34m\u001b[0m\u001b[0;34m\u001b[0m\u001b[0m\n\u001b[1;32m    250\u001b[0m         \u001b[0;32mfor\u001b[0m \u001b[0mparticle\u001b[0m \u001b[0;32min\u001b[0m \u001b[0mself\u001b[0m\u001b[0;34m.\u001b[0m\u001b[0mmodel_info\u001b[0m\u001b[0;34m[\u001b[0m\u001b[0;34m'particles'\u001b[0m\u001b[0;34m]\u001b[0m\u001b[0;34m:\u001b[0m\u001b[0;34m\u001b[0m\u001b[0;34m\u001b[0m\u001b[0m\n\u001b[0;32m--> 251\u001b[0;31m             \u001b[0mextrapolated_mass\u001b[0m\u001b[0;34m[\u001b[0m\u001b[0mparticle\u001b[0m\u001b[0;34m]\u001b[0m \u001b[0;34m=\u001b[0m \u001b[0mself\u001b[0m\u001b[0;34m.\u001b[0m\u001b[0mfitfcn\u001b[0m\u001b[0;34m(\u001b[0m\u001b[0mp\u001b[0m\u001b[0;34m=\u001b[0m\u001b[0mself\u001b[0m\u001b[0;34m.\u001b[0m\u001b[0mposterior\u001b[0m\u001b[0;34m,\u001b[0m \u001b[0mdata\u001b[0m\u001b[0;34m=\u001b[0m\u001b[0mself\u001b[0m\u001b[0;34m.\u001b[0m\u001b[0mphys_point_data\u001b[0m\u001b[0;34m,\u001b[0m \u001b[0mparticle\u001b[0m\u001b[0;34m=\u001b[0m\u001b[0mparticle\u001b[0m\u001b[0;34m)\u001b[0m\u001b[0;34m\u001b[0m\u001b[0;34m\u001b[0m\u001b[0m\n\u001b[0m\u001b[1;32m    252\u001b[0m         \u001b[0mprint\u001b[0m\u001b[0;34m(\u001b[0m\u001b[0mextrapolated_mass\u001b[0m\u001b[0;34m)\u001b[0m\u001b[0;34m\u001b[0m\u001b[0;34m\u001b[0m\u001b[0m\n\u001b[1;32m    253\u001b[0m         \u001b[0;32mreturn\u001b[0m \u001b[0mextrapolated_mass\u001b[0m\u001b[0;34m\u001b[0m\u001b[0;34m\u001b[0m\u001b[0m\n",
      "\u001b[0;32m~/lqcd/nucleon_sigma/xpt/fit_analysis.py\u001b[0m in \u001b[0;36mposterior\u001b[0;34m(self)\u001b[0m\n\u001b[1;32m    280\u001b[0m     \u001b[0;34m@\u001b[0m\u001b[0mproperty\u001b[0m\u001b[0;34m\u001b[0m\u001b[0;34m\u001b[0m\u001b[0m\n\u001b[1;32m    281\u001b[0m     \u001b[0;32mdef\u001b[0m \u001b[0mposterior\u001b[0m\u001b[0;34m(\u001b[0m\u001b[0mself\u001b[0m\u001b[0;34m)\u001b[0m\u001b[0;34m:\u001b[0m\u001b[0;34m\u001b[0m\u001b[0;34m\u001b[0m\u001b[0m\n\u001b[0;32m--> 282\u001b[0;31m         \u001b[0;32mreturn\u001b[0m \u001b[0mself\u001b[0m\u001b[0;34m.\u001b[0m\u001b[0m_get_posterior\u001b[0m\u001b[0;34m(\u001b[0m\u001b[0;34m)\u001b[0m\u001b[0;34m\u001b[0m\u001b[0;34m\u001b[0m\u001b[0m\n\u001b[0m\u001b[1;32m    283\u001b[0m \u001b[0;34m\u001b[0m\u001b[0m\n\u001b[1;32m    284\u001b[0m     \u001b[0;31m# # Returns dictionary with keys fit parameters, entries gvar results\u001b[0m\u001b[0;34m\u001b[0m\u001b[0;34m\u001b[0m\u001b[0;34m\u001b[0m\u001b[0m\n",
      "\u001b[0;32m~/lqcd/nucleon_sigma/xpt/fit_analysis.py\u001b[0m in \u001b[0;36m_get_posterior\u001b[0;34m(self, param)\u001b[0m\n\u001b[1;32m    294\u001b[0m             \u001b[0moutput\u001b[0m \u001b[0;34m=\u001b[0m \u001b[0;34m{\u001b[0m\u001b[0;34m}\u001b[0m\u001b[0;34m\u001b[0m\u001b[0;34m\u001b[0m\u001b[0m\n\u001b[1;32m    295\u001b[0m             \u001b[0;32mfor\u001b[0m \u001b[0mparam\u001b[0m \u001b[0;32min\u001b[0m \u001b[0mself\u001b[0m\u001b[0;34m.\u001b[0m\u001b[0m_input_prior\u001b[0m\u001b[0;34m:\u001b[0m\u001b[0;34m\u001b[0m\u001b[0;34m\u001b[0m\u001b[0m\n\u001b[0;32m--> 296\u001b[0;31m                 \u001b[0;32mif\u001b[0m \u001b[0mparam\u001b[0m \u001b[0;32min\u001b[0m \u001b[0mself\u001b[0m\u001b[0;34m.\u001b[0m\u001b[0mfitter\u001b[0m\u001b[0;34m.\u001b[0m\u001b[0mfit\u001b[0m\u001b[0;34m.\u001b[0m\u001b[0mp\u001b[0m\u001b[0;34m:\u001b[0m\u001b[0;34m\u001b[0m\u001b[0;34m\u001b[0m\u001b[0m\n\u001b[0m\u001b[1;32m    297\u001b[0m                     \u001b[0moutput\u001b[0m\u001b[0;34m[\u001b[0m\u001b[0mparam\u001b[0m\u001b[0;34m]\u001b[0m \u001b[0;34m=\u001b[0m \u001b[0mself\u001b[0m\u001b[0;34m.\u001b[0m\u001b[0mfitter\u001b[0m\u001b[0;34m.\u001b[0m\u001b[0mfit\u001b[0m\u001b[0;34m.\u001b[0m\u001b[0mp\u001b[0m\u001b[0;34m[\u001b[0m\u001b[0mparam\u001b[0m\u001b[0;34m]\u001b[0m\u001b[0;34m\u001b[0m\u001b[0;34m\u001b[0m\u001b[0m\n\u001b[1;32m    298\u001b[0m             \u001b[0;32mreturn\u001b[0m \u001b[0moutput\u001b[0m\u001b[0;34m\u001b[0m\u001b[0;34m\u001b[0m\u001b[0m\n",
      "\u001b[0;32m~/lqcd/nucleon_sigma/xpt/fit_routine.py\u001b[0m in \u001b[0;36mfit\u001b[0;34m(self)\u001b[0m\n\u001b[1;32m     33\u001b[0m \u001b[0;34m\u001b[0m\u001b[0m\n\u001b[1;32m     34\u001b[0m             \u001b[0mfitter\u001b[0m \u001b[0;34m=\u001b[0m \u001b[0mlsqfit\u001b[0m\u001b[0;34m.\u001b[0m\u001b[0mMultiFitter\u001b[0m\u001b[0;34m(\u001b[0m\u001b[0mmodels\u001b[0m\u001b[0;34m=\u001b[0m\u001b[0mmodels\u001b[0m\u001b[0;34m)\u001b[0m\u001b[0;34m\u001b[0m\u001b[0;34m\u001b[0m\u001b[0m\n\u001b[0;32m---> 35\u001b[0;31m             \u001b[0mfit\u001b[0m \u001b[0;34m=\u001b[0m \u001b[0mfitter\u001b[0m\u001b[0;34m.\u001b[0m\u001b[0mlsqfit\u001b[0m\u001b[0;34m(\u001b[0m\u001b[0mdata\u001b[0m\u001b[0;34m=\u001b[0m\u001b[0mdata\u001b[0m\u001b[0;34m,\u001b[0m \u001b[0mprior\u001b[0m\u001b[0;34m=\u001b[0m\u001b[0mprior\u001b[0m\u001b[0;34m,\u001b[0m \u001b[0mfast\u001b[0m\u001b[0;34m=\u001b[0m\u001b[0;32mFalse\u001b[0m\u001b[0;34m,\u001b[0m \u001b[0mmopt\u001b[0m\u001b[0;34m=\u001b[0m\u001b[0;32mFalse\u001b[0m\u001b[0;34m)\u001b[0m\u001b[0;34m\u001b[0m\u001b[0;34m\u001b[0m\u001b[0m\n\u001b[0m\u001b[1;32m     36\u001b[0m \u001b[0;34m\u001b[0m\u001b[0m\n\u001b[1;32m     37\u001b[0m             \u001b[0mself\u001b[0m\u001b[0;34m.\u001b[0m\u001b[0m_fit\u001b[0m \u001b[0;34m=\u001b[0m \u001b[0mfit\u001b[0m\u001b[0;34m\u001b[0m\u001b[0;34m\u001b[0m\u001b[0m\n",
      "\u001b[0;32m~/.local/lib/python3.9/site-packages/lsqfit/_extras.py\u001b[0m in \u001b[0;36mlsqfit\u001b[0;34m(self, data, pdata, prior, p0, chained, **kargs)\u001b[0m\n\u001b[1;32m   1153\u001b[0m         \u001b[0;31m# build prior, data and function\u001b[0m\u001b[0;34m\u001b[0m\u001b[0;34m\u001b[0m\u001b[0;34m\u001b[0m\u001b[0m\n\u001b[1;32m   1154\u001b[0m         \u001b[0mfitprior\u001b[0m \u001b[0;34m=\u001b[0m \u001b[0mself\u001b[0m\u001b[0;34m.\u001b[0m\u001b[0mbuildprior\u001b[0m\u001b[0;34m(\u001b[0m\u001b[0mprior\u001b[0m\u001b[0;34m=\u001b[0m\u001b[0mprior\u001b[0m\u001b[0;34m,\u001b[0m \u001b[0mmopt\u001b[0m\u001b[0;34m=\u001b[0m\u001b[0mself\u001b[0m\u001b[0;34m.\u001b[0m\u001b[0mmopt\u001b[0m\u001b[0;34m)\u001b[0m\u001b[0;34m\u001b[0m\u001b[0;34m\u001b[0m\u001b[0m\n\u001b[0;32m-> 1155\u001b[0;31m         fitdata = self.builddata(\n\u001b[0m\u001b[1;32m   1156\u001b[0m             \u001b[0mmopt\u001b[0m\u001b[0;34m=\u001b[0m\u001b[0mself\u001b[0m\u001b[0;34m.\u001b[0m\u001b[0mmopt\u001b[0m\u001b[0;34m,\u001b[0m \u001b[0mdata\u001b[0m\u001b[0;34m=\u001b[0m\u001b[0mdata\u001b[0m\u001b[0;34m,\u001b[0m \u001b[0mpdata\u001b[0m\u001b[0;34m=\u001b[0m\u001b[0mpdata\u001b[0m\u001b[0;34m,\u001b[0m \u001b[0mprior\u001b[0m\u001b[0;34m=\u001b[0m\u001b[0mprior\u001b[0m\u001b[0;34m\u001b[0m\u001b[0;34m\u001b[0m\u001b[0m\n\u001b[1;32m   1157\u001b[0m             )\n",
      "\u001b[0;32m~/.local/lib/python3.9/site-packages/lsqfit/_extras.py\u001b[0m in \u001b[0;36mbuilddata\u001b[0;34m(self, mopt, data, pdata, prior)\u001b[0m\n\u001b[1;32m   1037\u001b[0m             \u001b[0mfitfcn\u001b[0m \u001b[0;34m=\u001b[0m \u001b[0mself\u001b[0m\u001b[0;34m.\u001b[0m\u001b[0mbuildfitfcn\u001b[0m\u001b[0;34m(\u001b[0m\u001b[0;34m)\u001b[0m\u001b[0;34m\u001b[0m\u001b[0;34m\u001b[0m\u001b[0m\n\u001b[1;32m   1038\u001b[0m             \u001b[0mp_all\u001b[0m \u001b[0;34m=\u001b[0m \u001b[0mself\u001b[0m\u001b[0;34m.\u001b[0m\u001b[0mbuildprior\u001b[0m\u001b[0;34m(\u001b[0m\u001b[0mprior\u001b[0m\u001b[0;34m=\u001b[0m\u001b[0mprior\u001b[0m\u001b[0;34m,\u001b[0m \u001b[0mmopt\u001b[0m\u001b[0;34m=\u001b[0m\u001b[0;32mNone\u001b[0m\u001b[0;34m)\u001b[0m\u001b[0;34m\u001b[0m\u001b[0;34m\u001b[0m\u001b[0m\n\u001b[0;32m-> 1039\u001b[0;31m             \u001b[0mf_all\u001b[0m \u001b[0;34m=\u001b[0m \u001b[0mfitfcn\u001b[0m\u001b[0;34m(\u001b[0m\u001b[0mp_all\u001b[0m\u001b[0;34m)\u001b[0m\u001b[0;34m\u001b[0m\u001b[0;34m\u001b[0m\u001b[0m\n\u001b[0m\u001b[1;32m   1040\u001b[0m \u001b[0;34m\u001b[0m\u001b[0m\n\u001b[1;32m   1041\u001b[0m             \u001b[0;31m# fcn with part we want to keep\u001b[0m\u001b[0;34m\u001b[0m\u001b[0;34m\u001b[0m\u001b[0;34m\u001b[0m\u001b[0m\n",
      "\u001b[0;32m~/.local/lib/python3.9/site-packages/lsqfit/_extras.py\u001b[0m in \u001b[0;36m_fitfcn\u001b[0;34m(p, flatmodels)\u001b[0m\n\u001b[1;32m   1012\u001b[0m             \u001b[0;32mfor\u001b[0m \u001b[0mm\u001b[0m \u001b[0;32min\u001b[0m \u001b[0mflatmodels\u001b[0m\u001b[0;34m:\u001b[0m\u001b[0;34m\u001b[0m\u001b[0;34m\u001b[0m\u001b[0m\n\u001b[1;32m   1013\u001b[0m                 ans[m.datatag] = (\n\u001b[0;32m-> 1014\u001b[0;31m                     \u001b[0mm\u001b[0m\u001b[0;34m.\u001b[0m\u001b[0mfitfcn\u001b[0m\u001b[0;34m(\u001b[0m\u001b[0mp\u001b[0m\u001b[0;34m)\u001b[0m \u001b[0;32mif\u001b[0m \u001b[0mm\u001b[0m\u001b[0;34m.\u001b[0m\u001b[0mncg\u001b[0m \u001b[0;34m<=\u001b[0m \u001b[0;36m1\u001b[0m \u001b[0;32melse\u001b[0m\u001b[0;34m\u001b[0m\u001b[0;34m\u001b[0m\u001b[0m\n\u001b[0m\u001b[1;32m   1015\u001b[0m                     \u001b[0mMultiFitter\u001b[0m\u001b[0;34m.\u001b[0m\u001b[0mcoarse_grain\u001b[0m\u001b[0;34m(\u001b[0m\u001b[0mm\u001b[0m\u001b[0;34m.\u001b[0m\u001b[0mfitfcn\u001b[0m\u001b[0;34m(\u001b[0m\u001b[0mp\u001b[0m\u001b[0;34m)\u001b[0m\u001b[0;34m,\u001b[0m \u001b[0mm\u001b[0m\u001b[0;34m.\u001b[0m\u001b[0mncg\u001b[0m\u001b[0;34m)\u001b[0m\u001b[0;34m\u001b[0m\u001b[0;34m\u001b[0m\u001b[0m\n\u001b[1;32m   1016\u001b[0m                     )\n",
      "\u001b[0;32m~/lqcd/nucleon_sigma/xpt/fit_routine.py\u001b[0m in \u001b[0;36mfitfcn\u001b[0;34m(self, p, data)\u001b[0m\n\u001b[1;32m    168\u001b[0m         \u001b[0mxdata\u001b[0m \u001b[0;34m=\u001b[0m \u001b[0;34m{\u001b[0m\u001b[0;34m}\u001b[0m\u001b[0;34m\u001b[0m\u001b[0;34m\u001b[0m\u001b[0m\n\u001b[1;32m    169\u001b[0m         \u001b[0mxdata\u001b[0m\u001b[0;34m[\u001b[0m\u001b[0;34m'lam_chi'\u001b[0m\u001b[0;34m]\u001b[0m \u001b[0;34m=\u001b[0m \u001b[0mp\u001b[0m\u001b[0;34m[\u001b[0m\u001b[0;34m'lam_chi'\u001b[0m\u001b[0;34m]\u001b[0m\u001b[0;34m\u001b[0m\u001b[0;34m\u001b[0m\u001b[0m\n\u001b[0;32m--> 170\u001b[0;31m         \u001b[0;32mif\u001b[0m \u001b[0mself\u001b[0m\u001b[0;34m.\u001b[0m\u001b[0mmodel_info\u001b[0m\u001b[0;34m[\u001b[0m\u001b[0;34m'fit_phys_units'\u001b[0m\u001b[0;34m]\u001b[0m\u001b[0;34m:\u001b[0m\u001b[0;34m\u001b[0m\u001b[0;34m\u001b[0m\u001b[0m\n\u001b[0m\u001b[1;32m    171\u001b[0m             \u001b[0mxdata\u001b[0m\u001b[0;34m[\u001b[0m\u001b[0;34m'eps_pi'\u001b[0m\u001b[0;34m]\u001b[0m \u001b[0;34m=\u001b[0m \u001b[0mp\u001b[0m\u001b[0;34m[\u001b[0m\u001b[0;34m'm_pi'\u001b[0m\u001b[0;34m]\u001b[0m \u001b[0;34m/\u001b[0m \u001b[0mp\u001b[0m\u001b[0;34m[\u001b[0m\u001b[0;34m'lam_chi'\u001b[0m\u001b[0;34m]\u001b[0m\u001b[0;34m\u001b[0m\u001b[0;34m\u001b[0m\u001b[0m\n\u001b[1;32m    172\u001b[0m         \u001b[0;32melif\u001b[0m \u001b[0mself\u001b[0m\u001b[0;34m.\u001b[0m\u001b[0mmodel_info\u001b[0m\u001b[0;34m[\u001b[0m\u001b[0;34m'fit_fpi_units'\u001b[0m\u001b[0;34m]\u001b[0m\u001b[0;34m:\u001b[0m\u001b[0;34m\u001b[0m\u001b[0;34m\u001b[0m\u001b[0m\n",
      "\u001b[0;31mKeyError\u001b[0m: 'fit_phys_units'"
     ]
    }
   ],
   "source": [
    "from importlib import reload\n",
    "reload(fa)\n",
    "fit_analysis = fa.fit_analysis(phys_point_data=phys_point_data, data=data,model_info=model_info, prior=prior)\n",
    "fit_analysis_sigma = fa.fit_analysis(phys_point_data=phys_point_data, data=data,model_info=model_info_sigma, prior=prior)\n",
    "extrap_mass = fit_analysis.extrapolated_mass\n",
    "extrap_mass_deriv = fit_analysis_sigma.extrapolated_mass\n",
    "m_proton = extrap_mass['proton']\n",
    "m_proton_deriv =  extrap_mass_deriv['proton']"
   ]
  },
  {
   "cell_type": "code",
   "execution_count": 13,
   "metadata": {},
   "outputs": [
    {
     "output_type": "stream",
     "name": "stdout",
     "text": [
      "sigma w/ gv.deriv: 700.8(3.1)\nsigma analytic: 45.1(1.5)\n"
     ]
    }
   ],
   "source": [
    "reload(io)\n",
    "m_pi = phys_point_data['m_pi']\n",
    "lam_chi = phys_point_data['lam_chi']\n",
    "e_pi = m_pi / lam_chi\n",
    "sigma = m_pi**2 *gv.deriv(m_proton, m_pi**2)\n",
    "l3 = gv.gvar('3.53(26)')\n",
    "l4 = gv.gvar('4.73(10)')\n",
    "sigma_analytic = e_pi/2 * (1 + e_pi**2*(5/2 - l3/2 - 2*l4 )) *m_proton_deriv\n",
    "print('sigma w/ gv.deriv:',sigma)\n",
    "print('sigma analytic:' ,sigma_analytic)\n"
   ]
  },
  {
   "cell_type": "code",
   "execution_count": 14,
   "metadata": {},
   "outputs": [
    {
     "output_type": "error",
     "ename": "KeyError",
     "evalue": "'m_{proton,0}'",
     "traceback": [
      "\u001b[0;31m---------------------------------------------------------------------------\u001b[0m",
      "\u001b[0;31mKeyError\u001b[0m                                  Traceback (most recent call last)",
      "\u001b[0;32m<ipython-input-14-71d91e32468a>\u001b[0m in \u001b[0;36m<module>\u001b[0;34m\u001b[0m\n\u001b[0;32m----> 1\u001b[0;31m \u001b[0mprint\u001b[0m\u001b[0;34m(\u001b[0m\u001b[0mfit_analysis\u001b[0m\u001b[0;34m.\u001b[0m\u001b[0merror_budget\u001b[0m\u001b[0;34m)\u001b[0m\u001b[0;34m\u001b[0m\u001b[0;34m\u001b[0m\u001b[0m\n\u001b[0m",
      "\u001b[0;32m~/lqcd/hyperon-xpt-master/xpt/fit_analysis.py\u001b[0m in \u001b[0;36merror_budget\u001b[0;34m(self)\u001b[0m\n\u001b[1;32m     74\u001b[0m \u001b[0;34m\u001b[0m\u001b[0m\n\u001b[1;32m     75\u001b[0m         \u001b[0moutput\u001b[0m \u001b[0;34m+=\u001b[0m \u001b[0;34m'\\n'\u001b[0m\u001b[0;34m\u001b[0m\u001b[0;34m\u001b[0m\u001b[0m\n\u001b[0;32m---> 76\u001b[0;31m         \u001b[0moutput\u001b[0m \u001b[0;34m+=\u001b[0m \u001b[0mstr\u001b[0m\u001b[0;34m(\u001b[0m\u001b[0mself\u001b[0m\u001b[0;34m.\u001b[0m\u001b[0m_get_error_budget\u001b[0m\u001b[0;34m(\u001b[0m\u001b[0mparticle\u001b[0m\u001b[0;34m=\u001b[0m\u001b[0;34m'proton'\u001b[0m\u001b[0;34m)\u001b[0m\u001b[0;34m)\u001b[0m\u001b[0;34m\u001b[0m\u001b[0;34m\u001b[0m\u001b[0m\n\u001b[0m\u001b[1;32m     77\u001b[0m         \u001b[0;32mreturn\u001b[0m \u001b[0moutput\u001b[0m\u001b[0;34m\u001b[0m\u001b[0;34m\u001b[0m\u001b[0m\n\u001b[1;32m     78\u001b[0m \u001b[0;34m\u001b[0m\u001b[0m\n",
      "\u001b[0;32m~/lqcd/hyperon-xpt-master/xpt/fit_analysis.py\u001b[0m in \u001b[0;36m_get_error_budget\u001b[0;34m(self, **kwargs)\u001b[0m\n\u001b[1;32m    128\u001b[0m \u001b[0;34m\u001b[0m\u001b[0m\n\u001b[1;32m    129\u001b[0m         \u001b[0mresult\u001b[0m \u001b[0;34m=\u001b[0m \u001b[0;34m{\u001b[0m\u001b[0;34m}\u001b[0m\u001b[0;34m\u001b[0m\u001b[0;34m\u001b[0m\u001b[0m\n\u001b[0;32m--> 130\u001b[0;31m         result['disc'] = mdls.fit.p.partialsdev(\n\u001b[0m\u001b[1;32m    131\u001b[0m             \u001b[0;34m[\u001b[0m\u001b[0mself\u001b[0m\u001b[0;34m.\u001b[0m\u001b[0mprior\u001b[0m\u001b[0;34m[\u001b[0m\u001b[0mkey\u001b[0m\u001b[0;34m]\u001b[0m \u001b[0;32mfor\u001b[0m \u001b[0mkey\u001b[0m \u001b[0;32min\u001b[0m \u001b[0mdisc_keys\u001b[0m \u001b[0;32mif\u001b[0m \u001b[0mkey\u001b[0m \u001b[0;32min\u001b[0m \u001b[0mself\u001b[0m\u001b[0;34m.\u001b[0m\u001b[0mprior\u001b[0m\u001b[0;34m]\u001b[0m\u001b[0;34m\u001b[0m\u001b[0;34m\u001b[0m\u001b[0m\n\u001b[1;32m    132\u001b[0m         )\n",
      "\u001b[0;32m~/lqcd/hyperon-xpt-master/xpt/fit_routine.py\u001b[0m in \u001b[0;36mfit\u001b[0;34m(self)\u001b[0m\n\u001b[1;32m     32\u001b[0m         \u001b[0;32mif\u001b[0m \u001b[0mself\u001b[0m\u001b[0;34m.\u001b[0m\u001b[0m_fit\u001b[0m \u001b[0;32mis\u001b[0m \u001b[0;32mNone\u001b[0m\u001b[0;34m:\u001b[0m\u001b[0;34m\u001b[0m\u001b[0;34m\u001b[0m\u001b[0m\n\u001b[1;32m     33\u001b[0m             \u001b[0mmodels\u001b[0m \u001b[0;34m=\u001b[0m \u001b[0mself\u001b[0m\u001b[0;34m.\u001b[0m\u001b[0m_make_models\u001b[0m\u001b[0;34m(\u001b[0m\u001b[0;34m)\u001b[0m\u001b[0;34m\u001b[0m\u001b[0;34m\u001b[0m\u001b[0m\n\u001b[0;32m---> 34\u001b[0;31m             \u001b[0mprior\u001b[0m \u001b[0;34m=\u001b[0m \u001b[0mself\u001b[0m\u001b[0;34m.\u001b[0m\u001b[0m_make_prior\u001b[0m\u001b[0;34m(\u001b[0m\u001b[0;34m)\u001b[0m\u001b[0;34m\u001b[0m\u001b[0;34m\u001b[0m\u001b[0m\n\u001b[0m\u001b[1;32m     35\u001b[0m             \u001b[0mdata\u001b[0m \u001b[0;34m=\u001b[0m \u001b[0mself\u001b[0m\u001b[0;34m.\u001b[0m\u001b[0my\u001b[0m\u001b[0;34m\u001b[0m\u001b[0;34m\u001b[0m\u001b[0m\n\u001b[1;32m     36\u001b[0m \u001b[0;34m\u001b[0m\u001b[0m\n",
      "\u001b[0;32m~/lqcd/hyperon-xpt-master/xpt/fit_routine.py\u001b[0m in \u001b[0;36m_make_prior\u001b[0;34m(self, data)\u001b[0m\n\u001b[1;32m    193\u001b[0m                     \u001b[0mkeys\u001b[0m\u001b[0;34m.\u001b[0m\u001b[0mextend\u001b[0m\u001b[0;34m(\u001b[0m\u001b[0mself\u001b[0m\u001b[0;34m.\u001b[0m\u001b[0m_get_prior_keys\u001b[0m\u001b[0;34m(\u001b[0m\u001b[0mparticle\u001b[0m\u001b[0;34m=\u001b[0m\u001b[0mp\u001b[0m\u001b[0;34m,\u001b[0m \u001b[0morder\u001b[0m\u001b[0;34m=\u001b[0m\u001b[0mo\u001b[0m\u001b[0;34m,\u001b[0m \u001b[0mlec_type\u001b[0m \u001b[0;34m=\u001b[0m \u001b[0ml\u001b[0m\u001b[0;34m)\u001b[0m\u001b[0;34m)\u001b[0m\u001b[0;34m\u001b[0m\u001b[0;34m\u001b[0m\u001b[0m\n\u001b[1;32m    194\u001b[0m         \u001b[0;32mfor\u001b[0m \u001b[0mkey\u001b[0m \u001b[0;32min\u001b[0m \u001b[0mkeys\u001b[0m\u001b[0;34m:\u001b[0m\u001b[0;34m\u001b[0m\u001b[0;34m\u001b[0m\u001b[0m\n\u001b[0;32m--> 195\u001b[0;31m             \u001b[0mnew_prior\u001b[0m\u001b[0;34m[\u001b[0m\u001b[0mkey\u001b[0m\u001b[0;34m]\u001b[0m \u001b[0;34m=\u001b[0m \u001b[0mprior\u001b[0m\u001b[0;34m[\u001b[0m\u001b[0mkey\u001b[0m\u001b[0;34m]\u001b[0m\u001b[0;34m\u001b[0m\u001b[0;34m\u001b[0m\u001b[0m\n\u001b[0m\u001b[1;32m    196\u001b[0m \u001b[0;34m\u001b[0m\u001b[0m\n\u001b[1;32m    197\u001b[0m         \u001b[0;32mif\u001b[0m \u001b[0mself\u001b[0m\u001b[0;34m.\u001b[0m\u001b[0mmodel_info\u001b[0m\u001b[0;34m[\u001b[0m\u001b[0;34m'order_strange'\u001b[0m\u001b[0;34m]\u001b[0m \u001b[0;32mis\u001b[0m \u001b[0;32mnot\u001b[0m \u001b[0;32mNone\u001b[0m\u001b[0;34m:\u001b[0m\u001b[0;34m\u001b[0m\u001b[0;34m\u001b[0m\u001b[0m\n",
      "\u001b[0;31mKeyError\u001b[0m: 'm_{proton,0}'"
     ]
    }
   ],
   "source": [
    "print(fit_analysis.error_budget)"
   ]
  }
 ],
 "metadata": {
  "language_info": {
   "codemirror_mode": {
    "name": "ipython",
    "version": 3
   },
   "file_extension": ".py",
   "mimetype": "text/x-python",
   "name": "python",
   "nbconvert_exporter": "python",
   "pygments_lexer": "ipython3",
   "version": "3.9.6-final"
  },
  "orig_nbformat": 2,
  "kernelspec": {
   "name": "python3",
   "display_name": "Python 3"
  }
 },
 "nbformat": 4,
 "nbformat_minor": 2
}