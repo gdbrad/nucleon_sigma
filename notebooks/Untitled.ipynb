{
 "cells": [
  {
   "cell_type": "code",
   "execution_count": 2,
   "id": "4413fa45",
   "metadata": {},
   "outputs": [],
   "source": [
    "from cadabra2 import *"
   ]
  },
  {
   "cell_type": "code",
   "execution_count": 15,
   "id": "ffa1b186",
   "metadata": {},
   "outputs": [
    {
     "data": {
      "text/markdown": [
       "${}\\text{Property Indices(position=free) attached to}\\left[s, r, l, k, m, n\\right].$"
      ]
     },
     "metadata": {},
     "output_type": "display_data"
    },
    {
     "data": {
      "text/markdown": [
       "${}\\text{Property Integer attached to}\\left[s, r, l, k, m, n\\right].$"
      ]
     },
     "metadata": {},
     "output_type": "display_data"
    },
    {
     "data": {
      "text/markdown": [
       "${}\\text{Property GammaMatrix attached to}\\Gamma_{\\#}.$"
      ]
     },
     "metadata": {},
     "output_type": "display_data"
    },
    {
     "data": {
      "text/markdown": [
       "${}\\text{Property KroneckerDelta attached to}\\delta_{m n}.$"
      ]
     },
     "metadata": {},
     "output_type": "display_data"
    }
   ],
   "source": [
    "{s,r,l,k,m,n}::Indices(vector);\n",
    "{s,r,l,k,m,n}::Integer(0..d-1);\n",
    "\\Gamma_{#}::GammaMatrix(metric=\\delta);\n",
    "\\delta_{m n}::KroneckerDelta;"
   ]
  },
  {
   "cell_type": "code",
   "execution_count": null,
   "id": "c2a0c24c",
   "metadata": {},
   "outputs": [],
   "source": []
  }
 ],
 "metadata": {
  "kernelspec": {
   "display_name": "Cadabra2",
   "language": "python",
   "name": "cadabra2"
  },
  "language_info": {
   "codemirror_mode": "cadabra",
   "file_extension": ".ipynb",
   "mimetype": "text/cadabra",
   "name": "cadabra2",
   "pygments_lexer": "cadabra"
  }
 },
 "nbformat": 4,
 "nbformat_minor": 5
}
