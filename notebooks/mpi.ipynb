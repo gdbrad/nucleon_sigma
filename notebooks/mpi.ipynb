{
 "cells": [
  {
   "cell_type": "code",
   "execution_count": 1,
   "source": [
    "import numpy as np\n",
    "import gvar as gv\n",
    "import sys\n",
    "sys.path.append('../')\n",
    "from h5glance import H5Glance \n",
    "import os\n",
    "import lsqfit\n",
    "import io\n",
    "import yaml\n",
    "import matplotlib\n",
    "import matplotlib.pyplot as plt\n",
    "import warnings  \n",
    "warnings.simplefilter(action=\"default\")\n",
    "\n",
    "warnings.filterwarnings('ignore') "
   ],
   "outputs": [],
   "metadata": {}
  },
  {
   "cell_type": "code",
   "execution_count": 2,
   "source": [
    "os.chdir('../../nucleon_sigma/xpt')"
   ],
   "outputs": [],
   "metadata": {}
  },
  {
   "cell_type": "code",
   "execution_count": 3,
   "source": [
    "import fit_analysis as fa \n",
    "import fit_routine as fit\n",
    "import i_o\n",
    "import priors\n",
    "import fpi_fit\n",
    "import mpi_fit\n",
    "import plots"
   ],
   "outputs": [],
   "metadata": {}
  },
  {
   "cell_type": "code",
   "execution_count": 4,
   "source": [
    "from priors import prior\n",
    "prior = prior"
   ],
   "outputs": [],
   "metadata": {}
  },
  {
   "cell_type": "code",
   "execution_count": 5,
   "source": [
    "input_output=i_o.InputOutput()\n",
    "data,all_ensembles= input_output.get_data(scheme='w0_org',units='phys',include_phys=False)\n",
    "phys_point_data = input_output.get_data_phys_point()\n",
    "        #new_prior = input_output.make_prior(data,prior)\n",
    "print(all_ensembles)\n",
    "    "
   ],
   "outputs": [
    {
     "output_type": "stream",
     "name": "stdout",
     "text": [
      "['a09m135', 'a09m220']\n"
     ]
    }
   ],
   "metadata": {}
  },
  {
   "cell_type": "code",
   "execution_count": 6,
   "source": [
    "x = (273**3)/ 92**2 #* (3.5) * 2 \n",
    "x"
   ],
   "outputs": [
    {
     "output_type": "execute_result",
     "data": {
      "text/plain": [
       "2403.8772448015125"
      ]
     },
     "metadata": {},
     "execution_count": 6
    }
   ],
   "metadata": {}
  },
  {
   "cell_type": "code",
   "execution_count": 7,
   "source": [
    "np.sqrt(18053)"
   ],
   "outputs": [
    {
     "output_type": "execute_result",
     "data": {
      "text/plain": [
       "134.36145280548286"
      ]
     },
     "metadata": {},
     "execution_count": 7
    }
   ],
   "metadata": {}
  },
  {
   "cell_type": "code",
   "execution_count": 8,
   "source": [
    "data"
   ],
   "outputs": [
    {
     "output_type": "execute_result",
     "data": {
      "text/plain": [
       "{'m_k': array([0.218500(78), 0.228703(91)], dtype=object),\n",
       " 'm_pi': array([0.059444(63), 0.097896(63)], dtype=object),\n",
       " 'eps_pi': array([0.11619(33), 0.18197(37)], dtype=object),\n",
       " 'lam_chi': array([0.5116(13), 0.53796(99)], dtype=object),\n",
       " 'm_proton': array([0.4240(32), 0.4353(95)], dtype=object),\n",
       " 'm_delta': array([0.6109(57), 0.587(29)], dtype=object),\n",
       " 'eps_proton': array([0.8287(63), 0.809(17)], dtype=object),\n",
       " 'Fpi': array([91.40(77), 96.11(80)], dtype=object),\n",
       " 'eps2_a': array([0.065325(70), 0.066506(83)], dtype=object),\n",
       " 'm_q': array([3.648(29), 10.524(84)], dtype=object)}"
      ]
     },
     "metadata": {},
     "execution_count": 8
    }
   ],
   "metadata": {}
  },
  {
   "cell_type": "code",
   "execution_count": 15,
   "source": [
    "f = open('models.yaml', 'r')\n",
    "models = yaml.load(f,Loader=yaml.FullLoader)\n",
    "model_info = {}\n",
    "for item in models.values():\n",
    "    model_info_mpi = item['mpi:l_lo:d_lo:x_lo']\n",
    "    #model_info_mpi = item['mpi:l_n2lo:d_n2lo:x_n2lo']\n",
    "prior = {}\n",
    "l_3_flag = gv.gvar(3.07,.64)\n",
    "l_4_flag = gv.gvar(4.02,.45)\n",
    "#prior['M_sq'] = gv.gvar(140, 20) \n",
    "\n",
    "#quark mass dependence of l_3 given through:\n",
    "prior['l_3'] = (l_3_flag + np.log(phys_point_data['eps_pi']**2)) / (-4)\n",
    "prior['l_4'] = (l_4_flag + np.log(phys_point_data['eps_pi']**2))\n",
    "prior['c_{mpi,2F}'] = gv.gvar(0,20) - (6*l_3_flag) + l_4_flag - 1/4\n",
    "prior['c_{mpi,1F}'] = gv.gvar(0,20) - l_3_flag*(1+4*l_3_flag - l_4_flag)\n",
    "prior['d_{mpi,a}']  = gv.gvar(0,4)\n",
    "prior['d_{mpi,ll}'] = gv.gvar(0,4)\n",
    "prior['d_{mpi,al}'] = gv.gvar(0,4)\n",
    "prior['d_{mpi,aa}'] = gv.gvar(0,4)\n",
    "# quark condensate := mpi^2 / 2m_q\n",
    "prior['B'] = gv.gvar(3000,750)\n",
    "l_3 = {}\n",
    "for a_xx in np.unique([ens.split('m')[0] for ens in all_ensembles]):\n",
    "    ensembles = [ens for ens in all_ensembles if ens.startswith(a_xx)]\n",
    "    print(ensembles)\n",
    "    if len(ensembles) >= 2:\n",
    "        ensembles = ensembles[:2]\n",
    "    #\n",
    "    print(ensembles)\n",
    "    data,ensembles= input_output.get_data(scheme='w0_org',units='phys',include_phys=False)\n",
    "    fit_mpi = mpi_fit.fit_routine(prior=prior, data=data, model_info=model_info_mpi)\n",
    "    fit = fit_mpi.fit\n",
    "    # mpi^2 is extrapolation #\n",
    "    extrap_mpi = mpi_fit.Mpi(datatag='mpi',model_info=model_info_mpi)\n",
    "    extrap = extrap_mpi.fitfcn(p=fit.p) * phys_point_data['hbarc']\n",
    "    print(fit,extrap)\n",
    "    l_3[a_xx] = {}\n",
    "    l_3[a_xx]['l_3'] = (fit.p['l_3']*(-4) - np.log(phys_point_data['eps_pi']**2))\n",
    "    l_3[a_xx]['q'] = fit.Q\n",
    "    print(l_3)"
   ],
   "outputs": [
    {
     "output_type": "stream",
     "name": "stdout",
     "text": [
      "['a09m135', 'a09m220']\n",
      "['a09m135', 'a09m220']\n",
      "Least Square Fit:\n",
      "  chi2/dof [dof] = 1.8 [2]    Q = 0.17    logGBF = -19.38\n",
      "\n",
      "Parameters:\n",
      "              B       2478 (37)      [    3000 (750) ]  \n",
      "            l_3       0.23 (15)      [     0.31 (16) ]  \n",
      "       eps_pi 0    0.11619 (33)      [  0.11619 (33) ]  \n",
      "              1    0.18198 (37)      [  0.18197 (37) ]  \n",
      "          m_q 0      3.663 (28)      [    3.648 (29) ]  \n",
      "              1     10.478 (80)      [   10.524 (84) ]  \n",
      "         m_pi 0   0.059444 (63)      [ 0.059444 (63) ]  \n",
      "              1   0.097896 (63)      [ 0.097896 (63) ]  \n",
      "\n",
      "Settings:\n",
      "  svdcut/n = 1e-12/0    tol = (1e-08*,1e-10,1e-10)    (itns/time = 6/0.0)\n",
      " [3.501(45)e+06 9.83(12)e+06]\n",
      "{'a09': {'l_3': 3.36(62), 'q': 0.16980871740345416}}\n"
     ]
    }
   ],
   "metadata": {}
  },
  {
   "cell_type": "code",
   "execution_count": 10,
   "source": [
    "xparam = 'm_q'\n",
    "yparam = 'm_pi'\n",
    "\n",
    "colormap = {\n",
    "    'a06' : '#6A5ACD',\n",
    "    'a09' : '#51a7f9',\n",
    "    'a12' : '#70bf41',\n",
    "    'a15' : '#ec5d57',\n",
    "}\n",
    "\n",
    "x = {}\n",
    "y = {}\n",
    "\n",
    "for i in  range(len(all_ensembles)):\n",
    "    for j, param in enumerate([xparam, yparam]):\n",
    "        if param =='m_q':\n",
    "            value = fit.p['m_q'][i]\n",
    "            label = '$m_q$'\n",
    "        if param =='m_pi':\n",
    "            value = fit.p['m_pi'][i] \n",
    "            label = '$m_\\pi$'\n",
    "        \n",
    "        if j == 0:\n",
    "            x[i] = value\n",
    "            xlabel = label\n",
    "        elif j == 1:\n",
    "            y[i] = value\n",
    "            ylabel = label\n",
    "\n",
    "for i in range(len(all_ensembles)):\n",
    "    C = gv.evalcov([x[i], y[i]])\n",
    "    eVe, eVa = np.linalg.eig(C)\n",
    "    for e, v in zip(eVe, eVa.T):\n",
    "        plt.plot([gv.mean(x[i])-1*np.sqrt(e)*v[0], 1*np.sqrt(e)*v[0] + gv.mean(x[i])],\n",
    "                [gv.mean(y[i])-1*np.sqrt(e)*v[1], 1*np.sqrt(e)*v[1] + gv.mean(y[i])],\n",
    "                    alpha=1.0, lw=2)\n",
    "        plt.plot(gv.mean(x[i]), gv.mean(y[i]), \n",
    "                    marker='o', mec='w', zorder=3)\n",
    "\n",
    "\n",
    "handles, labels = plt.gca().get_legend_handles_labels()\n",
    "by_label = dict(zip(labels, handles))\n",
    "plt.legend(by_label.values(), by_label.keys(),\n",
    "    ncol=len(by_label), bbox_to_anchor=(0,1), loc='lower left')\n",
    "plt.grid()\n",
    "plt.xlabel(xlabel, fontsize = 24)\n",
    "plt.ylabel(ylabel, fontsize = 24)\n",
    "#plt.axvline(gv.mean(phys_point_data['eps_pi']), ls='--', label='phys. point')\n",
    "\n",
    "fig = plt.gcf()\n",
    "plt.show()\n",
    "plt.close()\n",
    "\n",
    "#plots.plot_parameters(ensembles=ensembles,fit=fit,xparam='m_q', yparam='eps2_a')\n",
    "#len(ensembles)\n"
   ],
   "outputs": [
    {
     "output_type": "display_data",
     "data": {
      "image/png": "[encoded data removed]",
      "image/svg+xml": "<?xml version=\"1.0\" encoding=\"utf-8\" standalone=\"no\"?>\n<!DOCTYPE svg PUBLIC \"-//W3C//DTD SVG 1.1//EN\"\n  \"http://www.w3.org/Graphics/SVG/1.1/DTD/svg11.dtd\">\n<svg height=\"301.357101pt\" version=\"1.1\" viewBox=\"0 0 446.468785 301.357101\" width=\"446.468785pt\" xmlns=\"http://www.w3.org/2000/svg\" xmlns:xlink=\"http://www.w3.org/1999/xlink\">\n <metadata>\n  <rdf:RDF xmlns:cc=\"http://creativecommons.org/ns#\" xmlns:dc=\"http://purl.org/dc/elements/1.1/\" xmlns:rdf=\"http://www.w3.org/1999/02/22-rdf-syntax-ns#\">\n   <cc:Work>\n    <dc:type rdf:resource=\"http://purl.org/dc/dcmitype/StillImage\"/>\n    <dc:date>2021-11-12T19:59:07.822111</dc:date>\n    <dc:format>image/svg+xml</dc:format>\n    <dc:creator>\n     <cc:Agent>\n      <dc:title>Matplotlib v3.4.1, https://matplotlib.org/</dc:title>\n     </cc:Agent>\n    </dc:creator>\n   </cc:Work>\n  </rdf:RDF>\n </metadata>\n <defs>\n  <style type=\"text/css\">*{stroke-linecap:butt;stroke-linejoin:round;}</style>\n </defs>\n <g id=\"figure_1\">\n  <g id=\"patch_1\">\n   <path d=\"M 0 301.357101 \nL 446.468785 301.357101 \nL 446.468785 0 \nL 0 0 \nz\n\" style=\"fill:none;\"/>\n  </g>\n  <g id=\"axes_1\">\n   <g id=\"patch_2\">\n    <path d=\"M 62.618785 254.775163 \nL 439.268785 254.775163 \nL 439.268785 28 \nL 62.618785 28 \nz\n\" style=\"fill:#ffffff;\"/>\n   </g>\n   <g id=\"matplotlib.axis_1\">\n    <g id=\"xtick_1\">\n     <g id=\"line2d_1\">\n      <path clip-path=\"url(#pf5b7c81c44)\" d=\"M 97.787848 254.775163 \nL 97.787848 28 \n\" style=\"fill:none;stroke:#b0b0b0;stroke-linecap:square;stroke-width:0.8;\"/>\n     </g>\n     <g id=\"line2d_2\">\n      <defs>\n       <path d=\"M 0 0 \nL 0 -3.5 \n\" id=\"mc71df46878\" style=\"stroke:#000000;stroke-width:0.8;\"/>\n      </defs>\n      <g>\n       <use style=\"stroke:#000000;stroke-width:0.8;\" x=\"97.787848\" xlink:href=\"#mc71df46878\" y=\"254.775163\"/>\n      </g>\n     </g>\n     <g id=\"text_1\">\n      <!-- $\\mathdefault{4}$ -->\n      <g transform=\"translate(94.861353 266.577343)scale(0.12 -0.12)\">\n       <defs>\n        <path d=\"M 2150 4122 \nC 2150 4256 2144 4256 2029 4256 \nL 128 1254 \nL 128 1088 \nL 1779 1088 \nL 1779 457 \nC 1779 224 1766 160 1318 160 \nL 1197 160 \nL 1197 0 \nC 1402 0 1747 0 1965 0 \nC 2182 0 2528 0 2733 0 \nL 2733 160 \nL 2611 160 \nC 2163 160 2150 224 2150 457 \nL 2150 1088 \nL 2803 1088 \nL 2803 1254 \nL 2150 1254 \nL 2150 4122 \nz\nM 1798 3703 \nL 1798 1254 \nL 256 1254 \nL 1798 3703 \nz\n\" id=\"CMR17-34\" transform=\"scale(0.015625)\"/>\n       </defs>\n       <use transform=\"scale(0.996264)\" xlink:href=\"#CMR17-34\"/>\n      </g>\n     </g>\n    </g>\n    <g id=\"xtick_2\">\n     <g id=\"line2d_3\">\n      <path clip-path=\"url(#pf5b7c81c44)\" d=\"M 147.245186 254.775163 \nL 147.245186 28 \n\" style=\"fill:none;stroke:#b0b0b0;stroke-linecap:square;stroke-width:0.8;\"/>\n     </g>\n     <g id=\"line2d_4\">\n      <g>\n       <use style=\"stroke:#000000;stroke-width:0.8;\" x=\"147.245186\" xlink:href=\"#mc71df46878\" y=\"254.775163\"/>\n      </g>\n     </g>\n     <g id=\"text_2\">\n      <!-- $\\mathdefault{5}$ -->\n      <g transform=\"translate(144.31869 266.577343)scale(0.12 -0.12)\">\n       <defs>\n        <path d=\"M 730 3692 \nC 794 3666 1056 3584 1325 3584 \nC 1920 3584 2246 3911 2432 4100 \nC 2432 4157 2432 4192 2394 4192 \nC 2387 4192 2374 4192 2323 4163 \nC 2099 4058 1837 3973 1517 3973 \nC 1325 3973 1037 3999 723 4139 \nC 653 4171 640 4171 634 4171 \nC 602 4171 595 4164 595 4037 \nL 595 2203 \nC 595 2089 595 2057 659 2057 \nC 691 2057 704 2070 736 2114 \nC 941 2401 1222 2522 1542 2522 \nC 1766 2522 2246 2382 2246 1289 \nC 2246 1085 2246 715 2054 421 \nC 1894 159 1645 25 1370 25 \nC 947 25 518 320 403 814 \nC 429 807 480 795 506 795 \nC 589 795 749 840 749 1038 \nC 749 1210 627 1280 506 1280 \nC 358 1280 262 1190 262 1011 \nC 262 454 704 -128 1382 -128 \nC 2042 -128 2669 440 2669 1264 \nC 2669 2030 2170 2624 1549 2624 \nC 1222 2624 947 2503 730 2274 \nL 730 3692 \nz\n\" id=\"CMR17-35\" transform=\"scale(0.015625)\"/>\n       </defs>\n       <use transform=\"scale(0.996264)\" xlink:href=\"#CMR17-35\"/>\n      </g>\n     </g>\n    </g>\n    <g id=\"xtick_3\">\n     <g id=\"line2d_5\">\n      <path clip-path=\"url(#pf5b7c81c44)\" d=\"M 196.702523 254.775163 \nL 196.702523 28 \n\" style=\"fill:none;stroke:#b0b0b0;stroke-linecap:square;stroke-width:0.8;\"/>\n     </g>\n     <g id=\"line2d_6\">\n      <g>\n       <use style=\"stroke:#000000;stroke-width:0.8;\" x=\"196.702523\" xlink:href=\"#mc71df46878\" y=\"254.775163\"/>\n      </g>\n     </g>\n     <g id=\"text_3\">\n      <!-- $\\mathdefault{6}$ -->\n      <g transform=\"translate(193.776028 266.577343)scale(0.12 -0.12)\">\n       <defs>\n        <path d=\"M 678 2176 \nC 678 3690 1395 4032 1811 4032 \nC 1946 4032 2272 4009 2400 3776 \nC 2298 3776 2106 3776 2106 3553 \nC 2106 3381 2246 3323 2336 3323 \nC 2394 3323 2566 3348 2566 3560 \nC 2566 3954 2246 4179 1805 4179 \nC 1043 4179 243 3390 243 1984 \nC 243 253 966 -128 1478 -128 \nC 2099 -128 2688 427 2688 1283 \nC 2688 2081 2170 2662 1517 2662 \nC 1126 2662 838 2407 678 1960 \nL 678 2176 \nz\nM 1478 25 \nC 691 25 691 1200 691 1436 \nC 691 1896 909 2560 1504 2560 \nC 1613 2560 1926 2560 2138 2120 \nC 2253 1870 2253 1609 2253 1289 \nC 2253 944 2253 690 2118 434 \nC 1978 171 1773 25 1478 25 \nz\n\" id=\"CMR17-36\" transform=\"scale(0.015625)\"/>\n       </defs>\n       <use transform=\"scale(0.996264)\" xlink:href=\"#CMR17-36\"/>\n      </g>\n     </g>\n    </g>\n    <g id=\"xtick_4\">\n     <g id=\"line2d_7\">\n      <path clip-path=\"url(#pf5b7c81c44)\" d=\"M 246.159861 254.775163 \nL 246.159861 28 \n\" style=\"fill:none;stroke:#b0b0b0;stroke-linecap:square;stroke-width:0.8;\"/>\n     </g>\n     <g id=\"line2d_8\">\n      <g>\n       <use style=\"stroke:#000000;stroke-width:0.8;\" x=\"246.159861\" xlink:href=\"#mc71df46878\" y=\"254.775163\"/>\n      </g>\n     </g>\n     <g id=\"text_4\">\n      <!-- $\\mathdefault{7}$ -->\n      <g transform=\"translate(243.233365 266.577343)scale(0.12 -0.12)\">\n       <defs>\n        <path d=\"M 2886 3941 \nL 2886 4081 \nL 1382 4081 \nC 634 4081 621 4165 595 4288 \nL 480 4288 \nL 294 3094 \nL 410 3094 \nC 429 3215 474 3540 550 3661 \nC 589 3712 1062 3712 1171 3712 \nL 2579 3712 \nL 1869 2661 \nC 1395 1954 1069 999 1069 165 \nC 1069 89 1069 -128 1299 -128 \nC 1530 -128 1530 89 1530 171 \nL 1530 465 \nC 1530 1508 1709 2196 2003 2636 \nL 2886 3941 \nz\n\" id=\"CMR17-37\" transform=\"scale(0.015625)\"/>\n       </defs>\n       <use transform=\"scale(0.996264)\" xlink:href=\"#CMR17-37\"/>\n      </g>\n     </g>\n    </g>\n    <g id=\"xtick_5\">\n     <g id=\"line2d_9\">\n      <path clip-path=\"url(#pf5b7c81c44)\" d=\"M 295.617198 254.775163 \nL 295.617198 28 \n\" style=\"fill:none;stroke:#b0b0b0;stroke-linecap:square;stroke-width:0.8;\"/>\n     </g>\n     <g id=\"line2d_10\">\n      <g>\n       <use style=\"stroke:#000000;stroke-width:0.8;\" x=\"295.617198\" xlink:href=\"#mc71df46878\" y=\"254.775163\"/>\n      </g>\n     </g>\n     <g id=\"text_5\">\n      <!-- $\\mathdefault{8}$ -->\n      <g transform=\"translate(292.690703 266.577343)scale(0.12 -0.12)\">\n       <defs>\n        <path d=\"M 1741 2264 \nC 2144 2467 2554 2773 2554 3263 \nC 2554 3841 1990 4179 1472 4179 \nC 890 4179 378 3759 378 3180 \nC 378 3021 416 2747 666 2505 \nC 730 2442 998 2251 1171 2130 \nC 883 1983 211 1634 211 934 \nC 211 279 838 -128 1459 -128 \nC 2144 -128 2720 362 2720 1010 \nC 2720 1590 2330 1857 2074 2029 \nL 1741 2264 \nz\nM 902 2822 \nC 851 2854 595 3051 595 3351 \nC 595 3739 998 4032 1459 4032 \nC 1965 4032 2336 3676 2336 3262 \nC 2336 2669 1670 2331 1638 2331 \nC 1632 2331 1626 2331 1574 2370 \nL 902 2822 \nz\nM 2080 1519 \nC 2176 1449 2483 1240 2483 851 \nC 2483 381 2010 25 1472 25 \nC 890 25 448 438 448 940 \nC 448 1443 838 1862 1280 2060 \nL 2080 1519 \nz\n\" id=\"CMR17-38\" transform=\"scale(0.015625)\"/>\n       </defs>\n       <use transform=\"scale(0.996264)\" xlink:href=\"#CMR17-38\"/>\n      </g>\n     </g>\n    </g>\n    <g id=\"xtick_6\">\n     <g id=\"line2d_11\">\n      <path clip-path=\"url(#pf5b7c81c44)\" d=\"M 345.074535 254.775163 \nL 345.074535 28 \n\" style=\"fill:none;stroke:#b0b0b0;stroke-linecap:square;stroke-width:0.8;\"/>\n     </g>\n     <g id=\"line2d_12\">\n      <g>\n       <use style=\"stroke:#000000;stroke-width:0.8;\" x=\"345.074535\" xlink:href=\"#mc71df46878\" y=\"254.775163\"/>\n      </g>\n     </g>\n     <g id=\"text_6\">\n      <!-- $\\mathdefault{9}$ -->\n      <g transform=\"translate(342.14804 266.577343)scale(0.12 -0.12)\">\n       <defs>\n        <path d=\"M 2253 1864 \nC 2253 464 1670 31 1190 31 \nC 1043 31 685 31 538 294 \nC 704 268 826 357 826 518 \nC 826 692 685 749 595 749 \nC 538 749 365 723 365 506 \nC 365 71 742 -128 1203 -128 \nC 1939 -128 2688 674 2688 2073 \nC 2688 3817 1971 4179 1485 4179 \nC 851 4179 243 3628 243 2778 \nC 243 1991 762 1408 1414 1408 \nC 1952 1408 2189 1903 2253 2112 \nL 2253 1864 \nz\nM 1427 1510 \nC 1254 1510 1011 1542 813 1922 \nC 678 2169 678 2461 678 2771 \nC 678 3146 678 3405 858 3684 \nC 947 3817 1114 4032 1485 4032 \nC 2240 4032 2240 2885 2240 2632 \nC 2240 2182 2035 1510 1427 1510 \nz\n\" id=\"CMR17-39\" transform=\"scale(0.015625)\"/>\n       </defs>\n       <use transform=\"scale(0.996264)\" xlink:href=\"#CMR17-39\"/>\n      </g>\n     </g>\n    </g>\n    <g id=\"xtick_7\">\n     <g id=\"line2d_13\">\n      <path clip-path=\"url(#pf5b7c81c44)\" d=\"M 394.531873 254.775163 \nL 394.531873 28 \n\" style=\"fill:none;stroke:#b0b0b0;stroke-linecap:square;stroke-width:0.8;\"/>\n     </g>\n     <g id=\"line2d_14\">\n      <g>\n       <use style=\"stroke:#000000;stroke-width:0.8;\" x=\"394.531873\" xlink:href=\"#mc71df46878\" y=\"254.775163\"/>\n      </g>\n     </g>\n     <g id=\"text_7\">\n      <!-- $\\mathdefault{10}$ -->\n      <g transform=\"translate(388.678883 266.577343)scale(0.12 -0.12)\">\n       <defs>\n        <path d=\"M 1702 4058 \nC 1702 4192 1696 4192 1606 4192 \nC 1357 3916 979 3827 621 3827 \nC 602 3827 570 3827 563 3808 \nC 557 3795 557 3782 557 3648 \nC 755 3648 1088 3686 1344 3839 \nL 1344 461 \nC 1344 236 1331 160 781 160 \nL 589 160 \nL 589 0 \nC 896 0 1216 0 1523 0 \nC 1830 0 2150 0 2458 0 \nL 2458 160 \nL 2266 160 \nC 1715 160 1702 230 1702 458 \nL 1702 4058 \nz\n\" id=\"CMR17-31\" transform=\"scale(0.015625)\"/>\n        <path d=\"M 2688 2025 \nC 2688 2416 2682 3080 2413 3591 \nC 2176 4039 1798 4198 1466 4198 \nC 1158 4198 768 4058 525 3597 \nC 269 3118 243 2524 243 2025 \nC 243 1661 250 1106 448 619 \nC 723 -39 1216 -128 1466 -128 \nC 1760 -128 2208 -7 2470 600 \nC 2662 1042 2688 1559 2688 2025 \nz\nM 1466 -26 \nC 1056 -26 813 325 723 812 \nC 653 1188 653 1738 653 2096 \nC 653 2588 653 2997 736 3387 \nC 858 3929 1216 4096 1466 4096 \nC 1728 4096 2067 3923 2189 3400 \nC 2272 3036 2278 2607 2278 2096 \nC 2278 1680 2278 1169 2202 792 \nC 2067 95 1690 -26 1466 -26 \nz\n\" id=\"CMR17-30\" transform=\"scale(0.015625)\"/>\n       </defs>\n       <use transform=\"scale(0.996264)\" xlink:href=\"#CMR17-31\"/>\n       <use transform=\"translate(45.690477 0)scale(0.996264)\" xlink:href=\"#CMR17-30\"/>\n      </g>\n     </g>\n    </g>\n    <g id=\"text_8\">\n     <!-- $m_q$ -->\n     <g transform=\"translate(237.071391 287.316132)scale(0.24 -0.24)\">\n      <defs>\n       <path d=\"M 1318 1871 \nC 1331 1910 1491 2229 1728 2433 \nC 1894 2586 2112 2689 2362 2689 \nC 2618 2689 2707 2497 2707 2242 \nC 2707 2203 2707 2076 2630 1775 \nL 2470 1118 \nC 2419 926 2298 453 2285 383 \nC 2259 287 2221 121 2221 96 \nC 2221 6 2291 -64 2387 -64 \nC 2579 -64 2611 83 2669 313 \nL 3053 1839 \nC 3066 1890 3398 2689 4102 2689 \nC 4358 2689 4448 2497 4448 2242 \nC 4448 1884 4198 1188 4058 805 \nC 4000 651 3968 568 3968 453 \nC 3968 166 4166 -64 4474 -64 \nC 5069 -64 5293 875 5293 913 \nC 5293 945 5267 971 5229 971 \nC 5171 971 5165 952 5133 843 \nC 4986 332 4749 64 4493 64 \nC 4429 64 4326 64 4326 269 \nC 4326 436 4403 640 4429 710 \nC 4544 1018 4832 1773 4832 2145 \nC 4832 2528 4608 2816 4122 2816 \nC 3693 2816 3347 2574 3091 2197 \nC 3072 2542 2861 2816 2381 2816 \nC 1811 2816 1510 2415 1395 2255 \nC 1376 2618 1114 2816 832 2816 \nC 646 2816 499 2727 378 2484 \nC 262 2254 173 1865 173 1839 \nC 173 1814 198 1782 243 1782 \nC 294 1782 301 1788 339 1935 \nC 435 2312 557 2689 813 2689 \nC 960 2689 1011 2586 1011 2395 \nC 1011 2254 947 2005 902 1807 \nL 723 1118 \nC 698 996 627 709 595 594 \nC 550 428 480 128 480 96 \nC 480 6 550 -64 646 -64 \nC 723 -64 813 -26 864 70 \nC 877 102 934 326 966 453 \nL 1107 1028 \nL 1318 1871 \nz\n\" id=\"CMMI12-6d\" transform=\"scale(0.015625)\"/>\n       <path d=\"M 2822 2759 \nC 2822 2790 2797 2816 2765 2816 \nC 2714 2816 2464 2585 2342 2362 \nC 2227 2646 2029 2816 1754 2816 \nC 1030 2816 250 1884 250 939 \nC 250 307 621 -64 1056 -64 \nC 1395 -64 1677 193 1811 339 \nL 1818 333 \nL 1574 -615 \nL 1517 -842 \nC 1459 -1031 1363 -1031 1062 -1031 \nC 992 -1031 928 -1031 928 -1152 \nC 928 -1197 966 -1216 1011 -1216 \nC 1101 -1216 1216 -1216 1306 -1216 \nL 1958 -1216 \nC 2054 -1216 2163 -1216 2259 -1216 \nC 2298 -1216 2374 -1216 2374 -1095 \nC 2374 -1031 2323 -1031 2227 -1031 \nC 1926 -1031 1907 -986 1907 -935 \nC 1907 -904 1914 -898 1933 -815 \nL 2822 2759 \nz\nM 1920 762 \nC 1888 652 1888 640 1798 518 \nC 1658 339 1376 64 1075 64 \nC 813 64 666 301 666 678 \nC 666 1030 864 1747 986 2016 \nC 1203 2464 1504 2695 1754 2695 \nC 2176 2695 2259 2170 2259 2119 \nC 2259 2113 2240 2028 2234 2016 \nL 1920 762 \nz\n\" id=\"CMMI12-71\" transform=\"scale(0.015625)\"/>\n      </defs>\n      <use transform=\"scale(0.996264)\" xlink:href=\"#CMMI12-6d\"/>\n      <use transform=\"translate(85.327224 -14.943915)scale(0.697382)\" xlink:href=\"#CMMI12-71\"/>\n     </g>\n    </g>\n   </g>\n   <g id=\"matplotlib.axis_2\">\n    <g id=\"ytick_1\">\n     <g id=\"line2d_15\">\n      <path clip-path=\"url(#pf5b7c81c44)\" d=\"M 62.618785 241.160265 \nL 439.268785 241.160265 \n\" style=\"fill:none;stroke:#b0b0b0;stroke-linecap:square;stroke-width:0.8;\"/>\n     </g>\n     <g id=\"line2d_16\">\n      <defs>\n       <path d=\"M 0 0 \nL 3.5 0 \n\" id=\"m5d5c1ad759\" style=\"stroke:#000000;stroke-width:0.8;\"/>\n      </defs>\n      <g>\n       <use style=\"stroke:#000000;stroke-width:0.8;\" x=\"62.618785\" xlink:href=\"#m5d5c1ad759\" y=\"241.160265\"/>\n      </g>\n     </g>\n     <g id=\"text_9\">\n      <!-- $\\mathdefault{0.060}$ -->\n      <g transform=\"translate(32.455163 245.311355)scale(0.12 -0.12)\">\n       <defs>\n        <path d=\"M 1178 307 \nC 1178 492 1024 619 870 619 \nC 685 619 557 466 557 313 \nC 557 128 710 0 864 0 \nC 1050 0 1178 153 1178 307 \nz\n\" id=\"CMMI12-3a\" transform=\"scale(0.015625)\"/>\n       </defs>\n       <use transform=\"scale(0.996264)\" xlink:href=\"#CMR17-30\"/>\n       <use transform=\"translate(45.690477 0)scale(0.996264)\" xlink:href=\"#CMMI12-3a\"/>\n       <use transform=\"translate(72.787654 0)scale(0.996264)\" xlink:href=\"#CMR17-30\"/>\n       <use transform=\"translate(118.478131 0)scale(0.996264)\" xlink:href=\"#CMR17-36\"/>\n       <use transform=\"translate(164.168608 0)scale(0.996264)\" xlink:href=\"#CMR17-30\"/>\n      </g>\n     </g>\n    </g>\n    <g id=\"ytick_2\">\n     <g id=\"line2d_17\">\n      <path clip-path=\"url(#pf5b7c81c44)\" d=\"M 62.618785 214.440467 \nL 439.268785 214.440467 \n\" style=\"fill:none;stroke:#b0b0b0;stroke-linecap:square;stroke-width:0.8;\"/>\n     </g>\n     <g id=\"line2d_18\">\n      <g>\n       <use style=\"stroke:#000000;stroke-width:0.8;\" x=\"62.618785\" xlink:href=\"#m5d5c1ad759\" y=\"214.440467\"/>\n      </g>\n     </g>\n     <g id=\"text_10\">\n      <!-- $\\mathdefault{0.065}$ -->\n      <g transform=\"translate(32.455163 218.591557)scale(0.12 -0.12)\">\n       <use transform=\"scale(0.996264)\" xlink:href=\"#CMR17-30\"/>\n       <use transform=\"translate(45.690477 0)scale(0.996264)\" xlink:href=\"#CMMI12-3a\"/>\n       <use transform=\"translate(72.787654 0)scale(0.996264)\" xlink:href=\"#CMR17-30\"/>\n       <use transform=\"translate(118.478131 0)scale(0.996264)\" xlink:href=\"#CMR17-36\"/>\n       <use transform=\"translate(164.168608 0)scale(0.996264)\" xlink:href=\"#CMR17-35\"/>\n      </g>\n     </g>\n    </g>\n    <g id=\"ytick_3\">\n     <g id=\"line2d_19\">\n      <path clip-path=\"url(#pf5b7c81c44)\" d=\"M 62.618785 187.720669 \nL 439.268785 187.720669 \n\" style=\"fill:none;stroke:#b0b0b0;stroke-linecap:square;stroke-width:0.8;\"/>\n     </g>\n     <g id=\"line2d_20\">\n      <g>\n       <use style=\"stroke:#000000;stroke-width:0.8;\" x=\"62.618785\" xlink:href=\"#m5d5c1ad759\" y=\"187.720669\"/>\n      </g>\n     </g>\n     <g id=\"text_11\">\n      <!-- $\\mathdefault{0.070}$ -->\n      <g transform=\"translate(32.455163 191.871759)scale(0.12 -0.12)\">\n       <use transform=\"scale(0.996264)\" xlink:href=\"#CMR17-30\"/>\n       <use transform=\"translate(45.690477 0)scale(0.996264)\" xlink:href=\"#CMMI12-3a\"/>\n       <use transform=\"translate(72.787654 0)scale(0.996264)\" xlink:href=\"#CMR17-30\"/>\n       <use transform=\"translate(118.478131 0)scale(0.996264)\" xlink:href=\"#CMR17-37\"/>\n       <use transform=\"translate(164.168608 0)scale(0.996264)\" xlink:href=\"#CMR17-30\"/>\n      </g>\n     </g>\n    </g>\n    <g id=\"ytick_4\">\n     <g id=\"line2d_21\">\n      <path clip-path=\"url(#pf5b7c81c44)\" d=\"M 62.618785 161.000871 \nL 439.268785 161.000871 \n\" style=\"fill:none;stroke:#b0b0b0;stroke-linecap:square;stroke-width:0.8;\"/>\n     </g>\n     <g id=\"line2d_22\">\n      <g>\n       <use style=\"stroke:#000000;stroke-width:0.8;\" x=\"62.618785\" xlink:href=\"#m5d5c1ad759\" y=\"161.000871\"/>\n      </g>\n     </g>\n     <g id=\"text_12\">\n      <!-- $\\mathdefault{0.075}$ -->\n      <g transform=\"translate(32.455163 165.151961)scale(0.12 -0.12)\">\n       <use transform=\"scale(0.996264)\" xlink:href=\"#CMR17-30\"/>\n       <use transform=\"translate(45.690477 0)scale(0.996264)\" xlink:href=\"#CMMI12-3a\"/>\n       <use transform=\"translate(72.787654 0)scale(0.996264)\" xlink:href=\"#CMR17-30\"/>\n       <use transform=\"translate(118.478131 0)scale(0.996264)\" xlink:href=\"#CMR17-37\"/>\n       <use transform=\"translate(164.168608 0)scale(0.996264)\" xlink:href=\"#CMR17-35\"/>\n      </g>\n     </g>\n    </g>\n    <g id=\"ytick_5\">\n     <g id=\"line2d_23\">\n      <path clip-path=\"url(#pf5b7c81c44)\" d=\"M 62.618785 134.281073 \nL 439.268785 134.281073 \n\" style=\"fill:none;stroke:#b0b0b0;stroke-linecap:square;stroke-width:0.8;\"/>\n     </g>\n     <g id=\"line2d_24\">\n      <g>\n       <use style=\"stroke:#000000;stroke-width:0.8;\" x=\"62.618785\" xlink:href=\"#m5d5c1ad759\" y=\"134.281073\"/>\n      </g>\n     </g>\n     <g id=\"text_13\">\n      <!-- $\\mathdefault{0.080}$ -->\n      <g transform=\"translate(32.455163 138.432163)scale(0.12 -0.12)\">\n       <use transform=\"scale(0.996264)\" xlink:href=\"#CMR17-30\"/>\n       <use transform=\"translate(45.690477 0)scale(0.996264)\" xlink:href=\"#CMMI12-3a\"/>\n       <use transform=\"translate(72.787654 0)scale(0.996264)\" xlink:href=\"#CMR17-30\"/>\n       <use transform=\"translate(118.478131 0)scale(0.996264)\" xlink:href=\"#CMR17-38\"/>\n       <use transform=\"translate(164.168608 0)scale(0.996264)\" xlink:href=\"#CMR17-30\"/>\n      </g>\n     </g>\n    </g>\n    <g id=\"ytick_6\">\n     <g id=\"line2d_25\">\n      <path clip-path=\"url(#pf5b7c81c44)\" d=\"M 62.618785 107.561275 \nL 439.268785 107.561275 \n\" style=\"fill:none;stroke:#b0b0b0;stroke-linecap:square;stroke-width:0.8;\"/>\n     </g>\n     <g id=\"line2d_26\">\n      <g>\n       <use style=\"stroke:#000000;stroke-width:0.8;\" x=\"62.618785\" xlink:href=\"#m5d5c1ad759\" y=\"107.561275\"/>\n      </g>\n     </g>\n     <g id=\"text_14\">\n      <!-- $\\mathdefault{0.085}$ -->\n      <g transform=\"translate(32.455163 111.712365)scale(0.12 -0.12)\">\n       <use transform=\"scale(0.996264)\" xlink:href=\"#CMR17-30\"/>\n       <use transform=\"translate(45.690477 0)scale(0.996264)\" xlink:href=\"#CMMI12-3a\"/>\n       <use transform=\"translate(72.787654 0)scale(0.996264)\" xlink:href=\"#CMR17-30\"/>\n       <use transform=\"translate(118.478131 0)scale(0.996264)\" xlink:href=\"#CMR17-38\"/>\n       <use transform=\"translate(164.168608 0)scale(0.996264)\" xlink:href=\"#CMR17-35\"/>\n      </g>\n     </g>\n    </g>\n    <g id=\"ytick_7\">\n     <g id=\"line2d_27\">\n      <path clip-path=\"url(#pf5b7c81c44)\" d=\"M 62.618785 80.841477 \nL 439.268785 80.841477 \n\" style=\"fill:none;stroke:#b0b0b0;stroke-linecap:square;stroke-width:0.8;\"/>\n     </g>\n     <g id=\"line2d_28\">\n      <g>\n       <use style=\"stroke:#000000;stroke-width:0.8;\" x=\"62.618785\" xlink:href=\"#m5d5c1ad759\" y=\"80.841477\"/>\n      </g>\n     </g>\n     <g id=\"text_15\">\n      <!-- $\\mathdefault{0.090}$ -->\n      <g transform=\"translate(32.455163 84.992567)scale(0.12 -0.12)\">\n       <use transform=\"scale(0.996264)\" xlink:href=\"#CMR17-30\"/>\n       <use transform=\"translate(45.690477 0)scale(0.996264)\" xlink:href=\"#CMMI12-3a\"/>\n       <use transform=\"translate(72.787654 0)scale(0.996264)\" xlink:href=\"#CMR17-30\"/>\n       <use transform=\"translate(118.478131 0)scale(0.996264)\" xlink:href=\"#CMR17-39\"/>\n       <use transform=\"translate(164.168608 0)scale(0.996264)\" xlink:href=\"#CMR17-30\"/>\n      </g>\n     </g>\n    </g>\n    <g id=\"ytick_8\">\n     <g id=\"line2d_29\">\n      <path clip-path=\"url(#pf5b7c81c44)\" d=\"M 62.618785 54.121679 \nL 439.268785 54.121679 \n\" style=\"fill:none;stroke:#b0b0b0;stroke-linecap:square;stroke-width:0.8;\"/>\n     </g>\n     <g id=\"line2d_30\">\n      <g>\n       <use style=\"stroke:#000000;stroke-width:0.8;\" x=\"62.618785\" xlink:href=\"#m5d5c1ad759\" y=\"54.121679\"/>\n      </g>\n     </g>\n     <g id=\"text_16\">\n      <!-- $\\mathdefault{0.095}$ -->\n      <g transform=\"translate(32.455163 58.272769)scale(0.12 -0.12)\">\n       <use transform=\"scale(0.996264)\" xlink:href=\"#CMR17-30\"/>\n       <use transform=\"translate(45.690477 0)scale(0.996264)\" xlink:href=\"#CMMI12-3a\"/>\n       <use transform=\"translate(72.787654 0)scale(0.996264)\" xlink:href=\"#CMR17-30\"/>\n       <use transform=\"translate(118.478131 0)scale(0.996264)\" xlink:href=\"#CMR17-39\"/>\n       <use transform=\"translate(164.168608 0)scale(0.996264)\" xlink:href=\"#CMR17-35\"/>\n      </g>\n     </g>\n    </g>\n    <g id=\"text_17\">\n     <!-- $m_\\pi$ -->\n     <g transform=\"translate(23.804405 156.275052)rotate(-90)scale(0.24 -0.24)\">\n      <defs>\n       <path d=\"M 1658 2408 \nL 2381 2408 \nC 2208 1692 2099 1226 2099 716 \nC 2099 626 2099 -64 2362 -64 \nC 2496 -64 2611 57 2611 166 \nC 2611 197 2611 210 2566 306 \nC 2394 747 2394 1296 2394 1341 \nC 2394 1379 2394 1832 2528 2408 \nL 3245 2408 \nC 3328 2408 3539 2408 3539 2612 \nC 3539 2752 3418 2752 3302 2752 \nL 1197 2752 \nC 1050 2752 832 2752 538 2440 \nC 371 2254 166 1916 166 1878 \nC 166 1840 198 1827 237 1827 \nC 282 1827 288 1846 320 1884 \nC 653 2408 986 2408 1146 2408 \nL 1510 2408 \nC 1370 1929 1210 1373 685 256 \nC 634 154 634 140 634 102 \nC 634 -32 749 -64 806 -64 \nC 992 -64 1043 102 1120 370 \nC 1222 696 1222 709 1286 964 \nL 1658 2408 \nz\n\" id=\"CMMI12-19\" transform=\"scale(0.015625)\"/>\n      </defs>\n      <use transform=\"scale(0.996264)\" xlink:href=\"#CMMI12-6d\"/>\n      <use transform=\"translate(85.327224 -14.943915)scale(0.697382)\" xlink:href=\"#CMMI12-19\"/>\n     </g>\n    </g>\n   </g>\n   <g id=\"line2d_31\">\n    <path clip-path=\"url(#pf5b7c81c44)\" d=\"M 79.739239 244.132837 \nL 82.495867 244.132451 \n\" style=\"fill:none;stroke:#1f77b4;stroke-linecap:square;stroke-width:2;\"/>\n   </g>\n   <g id=\"line2d_32\">\n    <path clip-path=\"url(#pf5b7c81c44)\" d=\"M 81.117553 244.467201 \nL 81.117553 243.798087 \n\" style=\"fill:none;stroke:#2ca02c;stroke-linecap:square;stroke-width:2;\"/>\n   </g>\n   <g id=\"line2d_33\">\n    <path clip-path=\"url(#pf5b7c81c44)\" d=\"M 414.201884 38.646519 \nL 422.14833 38.646112 \n\" style=\"fill:none;stroke:#9467bd;stroke-linecap:square;stroke-width:2;\"/>\n   </g>\n   <g id=\"line2d_34\">\n    <path clip-path=\"url(#pf5b7c81c44)\" d=\"M 418.175107 38.984669 \nL 418.175107 38.307962 \n\" style=\"fill:none;stroke:#e377c2;stroke-linecap:square;stroke-width:2;\"/>\n   </g>\n   <g id=\"patch_3\">\n    <path d=\"M 62.618785 254.775163 \nL 62.618785 28 \n\" style=\"fill:none;stroke:#000000;stroke-linecap:square;stroke-linejoin:miter;stroke-width:0.8;\"/>\n   </g>\n   <g id=\"patch_4\">\n    <path d=\"M 439.268785 254.775163 \nL 439.268785 28 \n\" style=\"fill:none;stroke:#000000;stroke-linecap:square;stroke-linejoin:miter;stroke-width:0.8;\"/>\n   </g>\n   <g id=\"patch_5\">\n    <path d=\"M 62.618785 254.775163 \nL 439.268785 254.775163 \n\" style=\"fill:none;stroke:#000000;stroke-linecap:square;stroke-linejoin:miter;stroke-width:0.8;\"/>\n   </g>\n   <g id=\"patch_6\">\n    <path d=\"M 62.618785 28 \nL 439.268785 28 \n\" style=\"fill:none;stroke:#000000;stroke-linecap:square;stroke-linejoin:miter;stroke-width:0.8;\"/>\n   </g>\n   <g id=\"line2d_35\">\n    <path clip-path=\"url(#pf5b7c81c44)\" d=\"M 81.117553 244.132644 \n\" style=\"fill:none;stroke:#ff7f0e;stroke-linecap:square;\"/>\n    <defs>\n     <path d=\"M 0 2.5 \nC 0.663008 2.5 1.29895 2.236584 1.767767 1.767767 \nC 2.236584 1.29895 2.5 0.663008 2.5 0 \nC 2.5 -0.663008 2.236584 -1.29895 1.767767 -1.767767 \nC 1.29895 -2.236584 0.663008 -2.5 0 -2.5 \nC -0.663008 -2.5 -1.29895 -2.236584 -1.767767 -1.767767 \nC -2.236584 -1.29895 -2.5 -0.663008 -2.5 0 \nC -2.5 0.663008 -2.236584 1.29895 -1.767767 1.767767 \nC -1.29895 2.236584 -0.663008 2.5 0 2.5 \nz\n\" id=\"mf545186763\" style=\"stroke:#ffffff;\"/>\n    </defs>\n    <g clip-path=\"url(#pf5b7c81c44)\">\n     <use style=\"fill:#ff7f0e;stroke:#ffffff;\" x=\"81.117553\" xlink:href=\"#mf545186763\" y=\"244.132644\"/>\n    </g>\n   </g>\n   <g id=\"line2d_36\">\n    <path clip-path=\"url(#pf5b7c81c44)\" d=\"M 81.117553 244.132644 \n\" style=\"fill:none;stroke:#d62728;stroke-linecap:square;\"/>\n    <defs>\n     <path d=\"M 0 2.5 \nC 0.663008 2.5 1.29895 2.236584 1.767767 1.767767 \nC 2.236584 1.29895 2.5 0.663008 2.5 0 \nC 2.5 -0.663008 2.236584 -1.29895 1.767767 -1.767767 \nC 1.29895 -2.236584 0.663008 -2.5 0 -2.5 \nC -0.663008 -2.5 -1.29895 -2.236584 -1.767767 -1.767767 \nC -2.236584 -1.29895 -2.5 -0.663008 -2.5 0 \nC -2.5 0.663008 -2.236584 1.29895 -1.767767 1.767767 \nC -1.29895 2.236584 -0.663008 2.5 0 2.5 \nz\n\" id=\"m5cfc6bc68e\" style=\"stroke:#ffffff;\"/>\n    </defs>\n    <g clip-path=\"url(#pf5b7c81c44)\">\n     <use style=\"fill:#d62728;stroke:#ffffff;\" x=\"81.117553\" xlink:href=\"#m5cfc6bc68e\" y=\"244.132644\"/>\n    </g>\n   </g>\n   <g id=\"line2d_37\">\n    <path clip-path=\"url(#pf5b7c81c44)\" d=\"M 418.175107 38.646315 \n\" style=\"fill:none;stroke:#8c564b;stroke-linecap:square;\"/>\n    <defs>\n     <path d=\"M 0 2.5 \nC 0.663008 2.5 1.29895 2.236584 1.767767 1.767767 \nC 2.236584 1.29895 2.5 0.663008 2.5 0 \nC 2.5 -0.663008 2.236584 -1.29895 1.767767 -1.767767 \nC 1.29895 -2.236584 0.663008 -2.5 0 -2.5 \nC -0.663008 -2.5 -1.29895 -2.236584 -1.767767 -1.767767 \nC -2.236584 -1.29895 -2.5 -0.663008 -2.5 0 \nC -2.5 0.663008 -2.236584 1.29895 -1.767767 1.767767 \nC -1.29895 2.236584 -0.663008 2.5 0 2.5 \nz\n\" id=\"m8a52c18b83\" style=\"stroke:#ffffff;\"/>\n    </defs>\n    <g clip-path=\"url(#pf5b7c81c44)\">\n     <use style=\"fill:#8c564b;stroke:#ffffff;\" x=\"418.175107\" xlink:href=\"#m8a52c18b83\" y=\"38.646315\"/>\n    </g>\n   </g>\n   <g id=\"line2d_38\">\n    <path clip-path=\"url(#pf5b7c81c44)\" d=\"M 418.175107 38.646315 \n\" style=\"fill:none;stroke:#7f7f7f;stroke-linecap:square;\"/>\n    <defs>\n     <path d=\"M 0 2.5 \nC 0.663008 2.5 1.29895 2.236584 1.767767 1.767767 \nC 2.236584 1.29895 2.5 0.663008 2.5 0 \nC 2.5 -0.663008 2.236584 -1.29895 1.767767 -1.767767 \nC 1.29895 -2.236584 0.663008 -2.5 0 -2.5 \nC -0.663008 -2.5 -1.29895 -2.236584 -1.767767 -1.767767 \nC -2.236584 -1.29895 -2.5 -0.663008 -2.5 0 \nC -2.5 0.663008 -2.236584 1.29895 -1.767767 1.767767 \nC -1.29895 2.236584 -0.663008 2.5 0 2.5 \nz\n\" id=\"m481a7100a1\" style=\"stroke:#ffffff;\"/>\n    </defs>\n    <g clip-path=\"url(#pf5b7c81c44)\">\n     <use style=\"fill:#7f7f7f;stroke:#ffffff;\" x=\"418.175107\" xlink:href=\"#m481a7100a1\" y=\"38.646315\"/>\n    </g>\n   </g>\n   <g id=\"legend_1\">\n    <g id=\"patch_7\">\n     <path d=\"M 73.818785 20 \nL 80.218785 20 \nQ 83.418785 20 83.418785 16.8 \nL 83.418785 10.4 \nQ 83.418785 7.2 80.218785 7.2 \nL 73.818785 7.2 \nQ 70.618785 7.2 70.618785 10.4 \nL 70.618785 16.8 \nQ 70.618785 20 73.818785 20 \nz\n\" style=\"fill:#ffffff;opacity:0.8;stroke:#cccccc;stroke-linejoin:miter;\"/>\n    </g>\n   </g>\n  </g>\n </g>\n <defs>\n  <clipPath id=\"pf5b7c81c44\">\n   <rect height=\"226.775163\" width=\"376.65\" x=\"62.618785\" y=\"28\"/>\n  </clipPath>\n </defs>\n</svg>\n",
      "text/plain": [
       "<Figure size 486x300.364 with 1 Axes>"
      ]
     },
     "metadata": {
      "needs_background": "light"
     }
    }
   ],
   "metadata": {}
  },
  {
   "cell_type": "code",
   "execution_count": 11,
   "source": [
    "xparam = 'm_q'\n",
    "yparam = 'm_pi_sq'\n",
    "\n",
    "colormap = {\n",
    "    'a06' : '#6A5ACD',\n",
    "    'a09' : '#51a7f9',\n",
    "    'a12' : '#70bf41',\n",
    "    'a15' : '#ec5d57',\n",
    "}\n",
    "\n",
    "x = {}\n",
    "y = {}\n",
    "\n",
    "for i in  range(len(all_ensembles)):\n",
    "    for j, param in enumerate([xparam, yparam]):\n",
    "        if param =='m_q':\n",
    "            value = fit.p['m_q'][i]\n",
    "            label = '$m_q$'\n",
    "        if param =='m_pi':\n",
    "            value = fit.p['m_pi'][i]\n",
    "            label = '$m_\\pi$'\n",
    "\n",
    "        if param =='m_pi_sq':\n",
    "            value = extrap[i]\n",
    "            label = '$m_\\pi^2$'\n",
    "        \n",
    "        if j == 0:\n",
    "            x[i] = value\n",
    "            xlabel = label\n",
    "        elif j == 1:\n",
    "            y[i] = value\n",
    "            ylabel = label\n",
    "\n",
    "for i in range(len(all_ensembles)):\n",
    "    C = gv.evalcov([x[i], y[i]])\n",
    "    eVe, eVa = np.linalg.eig(C)\n",
    "    for e, v in zip(eVe, eVa.T):\n",
    "        plt.plot([gv.mean(x[i])-1*np.sqrt(e)*v[0], 1*np.sqrt(e)*v[0] + gv.mean(x[i])],\n",
    "                [gv.mean(y[i])-1*np.sqrt(e)*v[1], 1*np.sqrt(e)*v[1] + gv.mean(y[i])],\n",
    "                    alpha=1.0, lw=2)\n",
    "        plt.plot(gv.mean(x[i]), gv.mean(y[i]), \n",
    "                    marker='o', mec='w', zorder=3)\n",
    "\n",
    "\n",
    "handles, labels = plt.gca().get_legend_handles_labels()\n",
    "by_label = dict(zip(labels, handles))\n",
    "plt.legend(by_label.values(), by_label.keys(),\n",
    "    ncol=len(by_label), bbox_to_anchor=(0,1), loc='lower left')\n",
    "plt.grid()\n",
    "plt.xlabel(xlabel, fontsize = 24)\n",
    "plt.ylabel(ylabel, fontsize = 24)\n",
    "#plt.axvline(gv.mean(phys_point_data['eps_pi']), ls='--', label='phys. point')\n",
    "\n",
    "fig = plt.gcf()\n",
    "plt.show()\n",
    "plt.close()\n",
    "\n",
    "#plots.plot_parameters(ensembles=ensembles,fit=fit,xparam='m_q', yparam='eps2_a')\n",
    "#len(ensembles)\n"
   ],
   "outputs": [
    {
     "output_type": "display_data",
     "data": {
      "image/png": "[encoded data removed]",
      "image/svg+xml": "<?xml version=\"1.0\" encoding=\"utf-8\" standalone=\"no\"?>\n<!DOCTYPE svg PUBLIC \"-//W3C//DTD SVG 1.1//EN\"\n  \"http://www.w3.org/Graphics/SVG/1.1/DTD/svg11.dtd\">\n<svg height=\"301.357101pt\" version=\"1.1\" viewBox=\"0 0 438.881727 301.357101\" width=\"438.881727pt\" xmlns=\"http://www.w3.org/2000/svg\" xmlns:xlink=\"http://www.w3.org/1999/xlink\">\n <metadata>\n  <rdf:RDF xmlns:cc=\"http://creativecommons.org/ns#\" xmlns:dc=\"http://purl.org/dc/elements/1.1/\" xmlns:rdf=\"http://www.w3.org/1999/02/22-rdf-syntax-ns#\">\n   <cc:Work>\n    <dc:type rdf:resource=\"http://purl.org/dc/dcmitype/StillImage\"/>\n    <dc:date>2021-11-12T19:59:08.615985</dc:date>\n    <dc:format>image/svg+xml</dc:format>\n    <dc:creator>\n     <cc:Agent>\n      <dc:title>Matplotlib v3.4.1, https://matplotlib.org/</dc:title>\n     </cc:Agent>\n    </dc:creator>\n   </cc:Work>\n  </rdf:RDF>\n </metadata>\n <defs>\n  <style type=\"text/css\">*{stroke-linecap:butt;stroke-linejoin:round;}</style>\n </defs>\n <g id=\"figure_1\">\n  <g id=\"patch_1\">\n   <path d=\"M 0 301.357101 \nL 438.881727 301.357101 \nL 438.881727 0 \nL 0 0 \nz\n\" style=\"fill:none;\"/>\n  </g>\n  <g id=\"axes_1\">\n   <g id=\"patch_2\">\n    <path d=\"M 55.031727 254.775163 \nL 431.681727 254.775163 \nL 431.681727 28 \nL 55.031727 28 \nz\n\" style=\"fill:#ffffff;\"/>\n   </g>\n   <g id=\"matplotlib.axis_1\">\n    <g id=\"xtick_1\">\n     <g id=\"line2d_1\">\n      <path clip-path=\"url(#ped62c51e21)\" d=\"M 90.163664 254.775163 \nL 90.163664 28 \n\" style=\"fill:none;stroke:#b0b0b0;stroke-linecap:square;stroke-width:0.8;\"/>\n     </g>\n     <g id=\"line2d_2\">\n      <defs>\n       <path d=\"M 0 0 \nL 0 -3.5 \n\" id=\"m2bf8e328af\" style=\"stroke:#000000;stroke-width:0.8;\"/>\n      </defs>\n      <g>\n       <use style=\"stroke:#000000;stroke-width:0.8;\" x=\"90.163664\" xlink:href=\"#m2bf8e328af\" y=\"254.775163\"/>\n      </g>\n     </g>\n     <g id=\"text_1\">\n      <!-- $\\mathdefault{4}$ -->\n      <g transform=\"translate(87.237169 266.577343)scale(0.12 -0.12)\">\n       <defs>\n        <path d=\"M 2150 4122 \nC 2150 4256 2144 4256 2029 4256 \nL 128 1254 \nL 128 1088 \nL 1779 1088 \nL 1779 457 \nC 1779 224 1766 160 1318 160 \nL 1197 160 \nL 1197 0 \nC 1402 0 1747 0 1965 0 \nC 2182 0 2528 0 2733 0 \nL 2733 160 \nL 2611 160 \nC 2163 160 2150 224 2150 457 \nL 2150 1088 \nL 2803 1088 \nL 2803 1254 \nL 2150 1254 \nL 2150 4122 \nz\nM 1798 3703 \nL 1798 1254 \nL 256 1254 \nL 1798 3703 \nz\n\" id=\"CMR17-34\" transform=\"scale(0.015625)\"/>\n       </defs>\n       <use transform=\"scale(0.996264)\" xlink:href=\"#CMR17-34\"/>\n      </g>\n     </g>\n    </g>\n    <g id=\"xtick_2\">\n     <g id=\"line2d_3\">\n      <path clip-path=\"url(#ped62c51e21)\" d=\"M 139.644637 254.775163 \nL 139.644637 28 \n\" style=\"fill:none;stroke:#b0b0b0;stroke-linecap:square;stroke-width:0.8;\"/>\n     </g>\n     <g id=\"line2d_4\">\n      <g>\n       <use style=\"stroke:#000000;stroke-width:0.8;\" x=\"139.644637\" xlink:href=\"#m2bf8e328af\" y=\"254.775163\"/>\n      </g>\n     </g>\n     <g id=\"text_2\">\n      <!-- $\\mathdefault{5}$ -->\n      <g transform=\"translate(136.718142 266.577343)scale(0.12 -0.12)\">\n       <defs>\n        <path d=\"M 730 3692 \nC 794 3666 1056 3584 1325 3584 \nC 1920 3584 2246 3911 2432 4100 \nC 2432 4157 2432 4192 2394 4192 \nC 2387 4192 2374 4192 2323 4163 \nC 2099 4058 1837 3973 1517 3973 \nC 1325 3973 1037 3999 723 4139 \nC 653 4171 640 4171 634 4171 \nC 602 4171 595 4164 595 4037 \nL 595 2203 \nC 595 2089 595 2057 659 2057 \nC 691 2057 704 2070 736 2114 \nC 941 2401 1222 2522 1542 2522 \nC 1766 2522 2246 2382 2246 1289 \nC 2246 1085 2246 715 2054 421 \nC 1894 159 1645 25 1370 25 \nC 947 25 518 320 403 814 \nC 429 807 480 795 506 795 \nC 589 795 749 840 749 1038 \nC 749 1210 627 1280 506 1280 \nC 358 1280 262 1190 262 1011 \nC 262 454 704 -128 1382 -128 \nC 2042 -128 2669 440 2669 1264 \nC 2669 2030 2170 2624 1549 2624 \nC 1222 2624 947 2503 730 2274 \nL 730 3692 \nz\n\" id=\"CMR17-35\" transform=\"scale(0.015625)\"/>\n       </defs>\n       <use transform=\"scale(0.996264)\" xlink:href=\"#CMR17-35\"/>\n      </g>\n     </g>\n    </g>\n    <g id=\"xtick_3\">\n     <g id=\"line2d_5\">\n      <path clip-path=\"url(#ped62c51e21)\" d=\"M 189.125611 254.775163 \nL 189.125611 28 \n\" style=\"fill:none;stroke:#b0b0b0;stroke-linecap:square;stroke-width:0.8;\"/>\n     </g>\n     <g id=\"line2d_6\">\n      <g>\n       <use style=\"stroke:#000000;stroke-width:0.8;\" x=\"189.125611\" xlink:href=\"#m2bf8e328af\" y=\"254.775163\"/>\n      </g>\n     </g>\n     <g id=\"text_3\">\n      <!-- $\\mathdefault{6}$ -->\n      <g transform=\"translate(186.199115 266.577343)scale(0.12 -0.12)\">\n       <defs>\n        <path d=\"M 678 2176 \nC 678 3690 1395 4032 1811 4032 \nC 1946 4032 2272 4009 2400 3776 \nC 2298 3776 2106 3776 2106 3553 \nC 2106 3381 2246 3323 2336 3323 \nC 2394 3323 2566 3348 2566 3560 \nC 2566 3954 2246 4179 1805 4179 \nC 1043 4179 243 3390 243 1984 \nC 243 253 966 -128 1478 -128 \nC 2099 -128 2688 427 2688 1283 \nC 2688 2081 2170 2662 1517 2662 \nC 1126 2662 838 2407 678 1960 \nL 678 2176 \nz\nM 1478 25 \nC 691 25 691 1200 691 1436 \nC 691 1896 909 2560 1504 2560 \nC 1613 2560 1926 2560 2138 2120 \nC 2253 1870 2253 1609 2253 1289 \nC 2253 944 2253 690 2118 434 \nC 1978 171 1773 25 1478 25 \nz\n\" id=\"CMR17-36\" transform=\"scale(0.015625)\"/>\n       </defs>\n       <use transform=\"scale(0.996264)\" xlink:href=\"#CMR17-36\"/>\n      </g>\n     </g>\n    </g>\n    <g id=\"xtick_4\">\n     <g id=\"line2d_7\">\n      <path clip-path=\"url(#ped62c51e21)\" d=\"M 238.606584 254.775163 \nL 238.606584 28 \n\" style=\"fill:none;stroke:#b0b0b0;stroke-linecap:square;stroke-width:0.8;\"/>\n     </g>\n     <g id=\"line2d_8\">\n      <g>\n       <use style=\"stroke:#000000;stroke-width:0.8;\" x=\"238.606584\" xlink:href=\"#m2bf8e328af\" y=\"254.775163\"/>\n      </g>\n     </g>\n     <g id=\"text_4\">\n      <!-- $\\mathdefault{7}$ -->\n      <g transform=\"translate(235.680089 266.577343)scale(0.12 -0.12)\">\n       <defs>\n        <path d=\"M 2886 3941 \nL 2886 4081 \nL 1382 4081 \nC 634 4081 621 4165 595 4288 \nL 480 4288 \nL 294 3094 \nL 410 3094 \nC 429 3215 474 3540 550 3661 \nC 589 3712 1062 3712 1171 3712 \nL 2579 3712 \nL 1869 2661 \nC 1395 1954 1069 999 1069 165 \nC 1069 89 1069 -128 1299 -128 \nC 1530 -128 1530 89 1530 171 \nL 1530 465 \nC 1530 1508 1709 2196 2003 2636 \nL 2886 3941 \nz\n\" id=\"CMR17-37\" transform=\"scale(0.015625)\"/>\n       </defs>\n       <use transform=\"scale(0.996264)\" xlink:href=\"#CMR17-37\"/>\n      </g>\n     </g>\n    </g>\n    <g id=\"xtick_5\">\n     <g id=\"line2d_9\">\n      <path clip-path=\"url(#ped62c51e21)\" d=\"M 288.087557 254.775163 \nL 288.087557 28 \n\" style=\"fill:none;stroke:#b0b0b0;stroke-linecap:square;stroke-width:0.8;\"/>\n     </g>\n     <g id=\"line2d_10\">\n      <g>\n       <use style=\"stroke:#000000;stroke-width:0.8;\" x=\"288.087557\" xlink:href=\"#m2bf8e328af\" y=\"254.775163\"/>\n      </g>\n     </g>\n     <g id=\"text_5\">\n      <!-- $\\mathdefault{8}$ -->\n      <g transform=\"translate(285.161062 266.577343)scale(0.12 -0.12)\">\n       <defs>\n        <path d=\"M 1741 2264 \nC 2144 2467 2554 2773 2554 3263 \nC 2554 3841 1990 4179 1472 4179 \nC 890 4179 378 3759 378 3180 \nC 378 3021 416 2747 666 2505 \nC 730 2442 998 2251 1171 2130 \nC 883 1983 211 1634 211 934 \nC 211 279 838 -128 1459 -128 \nC 2144 -128 2720 362 2720 1010 \nC 2720 1590 2330 1857 2074 2029 \nL 1741 2264 \nz\nM 902 2822 \nC 851 2854 595 3051 595 3351 \nC 595 3739 998 4032 1459 4032 \nC 1965 4032 2336 3676 2336 3262 \nC 2336 2669 1670 2331 1638 2331 \nC 1632 2331 1626 2331 1574 2370 \nL 902 2822 \nz\nM 2080 1519 \nC 2176 1449 2483 1240 2483 851 \nC 2483 381 2010 25 1472 25 \nC 890 25 448 438 448 940 \nC 448 1443 838 1862 1280 2060 \nL 2080 1519 \nz\n\" id=\"CMR17-38\" transform=\"scale(0.015625)\"/>\n       </defs>\n       <use transform=\"scale(0.996264)\" xlink:href=\"#CMR17-38\"/>\n      </g>\n     </g>\n    </g>\n    <g id=\"xtick_6\">\n     <g id=\"line2d_11\">\n      <path clip-path=\"url(#ped62c51e21)\" d=\"M 337.56853 254.775163 \nL 337.56853 28 \n\" style=\"fill:none;stroke:#b0b0b0;stroke-linecap:square;stroke-width:0.8;\"/>\n     </g>\n     <g id=\"line2d_12\">\n      <g>\n       <use style=\"stroke:#000000;stroke-width:0.8;\" x=\"337.56853\" xlink:href=\"#m2bf8e328af\" y=\"254.775163\"/>\n      </g>\n     </g>\n     <g id=\"text_6\">\n      <!-- $\\mathdefault{9}$ -->\n      <g transform=\"translate(334.642035 266.577343)scale(0.12 -0.12)\">\n       <defs>\n        <path d=\"M 2253 1864 \nC 2253 464 1670 31 1190 31 \nC 1043 31 685 31 538 294 \nC 704 268 826 357 826 518 \nC 826 692 685 749 595 749 \nC 538 749 365 723 365 506 \nC 365 71 742 -128 1203 -128 \nC 1939 -128 2688 674 2688 2073 \nC 2688 3817 1971 4179 1485 4179 \nC 851 4179 243 3628 243 2778 \nC 243 1991 762 1408 1414 1408 \nC 1952 1408 2189 1903 2253 2112 \nL 2253 1864 \nz\nM 1427 1510 \nC 1254 1510 1011 1542 813 1922 \nC 678 2169 678 2461 678 2771 \nC 678 3146 678 3405 858 3684 \nC 947 3817 1114 4032 1485 4032 \nC 2240 4032 2240 2885 2240 2632 \nC 2240 2182 2035 1510 1427 1510 \nz\n\" id=\"CMR17-39\" transform=\"scale(0.015625)\"/>\n       </defs>\n       <use transform=\"scale(0.996264)\" xlink:href=\"#CMR17-39\"/>\n      </g>\n     </g>\n    </g>\n    <g id=\"xtick_7\">\n     <g id=\"line2d_13\">\n      <path clip-path=\"url(#ped62c51e21)\" d=\"M 387.049504 254.775163 \nL 387.049504 28 \n\" style=\"fill:none;stroke:#b0b0b0;stroke-linecap:square;stroke-width:0.8;\"/>\n     </g>\n     <g id=\"line2d_14\">\n      <g>\n       <use style=\"stroke:#000000;stroke-width:0.8;\" x=\"387.049504\" xlink:href=\"#m2bf8e328af\" y=\"254.775163\"/>\n      </g>\n     </g>\n     <g id=\"text_7\">\n      <!-- $\\mathdefault{10}$ -->\n      <g transform=\"translate(381.196513 266.577343)scale(0.12 -0.12)\">\n       <defs>\n        <path d=\"M 1702 4058 \nC 1702 4192 1696 4192 1606 4192 \nC 1357 3916 979 3827 621 3827 \nC 602 3827 570 3827 563 3808 \nC 557 3795 557 3782 557 3648 \nC 755 3648 1088 3686 1344 3839 \nL 1344 461 \nC 1344 236 1331 160 781 160 \nL 589 160 \nL 589 0 \nC 896 0 1216 0 1523 0 \nC 1830 0 2150 0 2458 0 \nL 2458 160 \nL 2266 160 \nC 1715 160 1702 230 1702 458 \nL 1702 4058 \nz\n\" id=\"CMR17-31\" transform=\"scale(0.015625)\"/>\n        <path d=\"M 2688 2025 \nC 2688 2416 2682 3080 2413 3591 \nC 2176 4039 1798 4198 1466 4198 \nC 1158 4198 768 4058 525 3597 \nC 269 3118 243 2524 243 2025 \nC 243 1661 250 1106 448 619 \nC 723 -39 1216 -128 1466 -128 \nC 1760 -128 2208 -7 2470 600 \nC 2662 1042 2688 1559 2688 2025 \nz\nM 1466 -26 \nC 1056 -26 813 325 723 812 \nC 653 1188 653 1738 653 2096 \nC 653 2588 653 2997 736 3387 \nC 858 3929 1216 4096 1466 4096 \nC 1728 4096 2067 3923 2189 3400 \nC 2272 3036 2278 2607 2278 2096 \nC 2278 1680 2278 1169 2202 792 \nC 2067 95 1690 -26 1466 -26 \nz\n\" id=\"CMR17-30\" transform=\"scale(0.015625)\"/>\n       </defs>\n       <use transform=\"scale(0.996264)\" xlink:href=\"#CMR17-31\"/>\n       <use transform=\"translate(45.690477 0)scale(0.996264)\" xlink:href=\"#CMR17-30\"/>\n      </g>\n     </g>\n    </g>\n    <g id=\"text_8\">\n     <!-- $m_q$ -->\n     <g transform=\"translate(229.484333 287.316132)scale(0.24 -0.24)\">\n      <defs>\n       <path d=\"M 1318 1871 \nC 1331 1910 1491 2229 1728 2433 \nC 1894 2586 2112 2689 2362 2689 \nC 2618 2689 2707 2497 2707 2242 \nC 2707 2203 2707 2076 2630 1775 \nL 2470 1118 \nC 2419 926 2298 453 2285 383 \nC 2259 287 2221 121 2221 96 \nC 2221 6 2291 -64 2387 -64 \nC 2579 -64 2611 83 2669 313 \nL 3053 1839 \nC 3066 1890 3398 2689 4102 2689 \nC 4358 2689 4448 2497 4448 2242 \nC 4448 1884 4198 1188 4058 805 \nC 4000 651 3968 568 3968 453 \nC 3968 166 4166 -64 4474 -64 \nC 5069 -64 5293 875 5293 913 \nC 5293 945 5267 971 5229 971 \nC 5171 971 5165 952 5133 843 \nC 4986 332 4749 64 4493 64 \nC 4429 64 4326 64 4326 269 \nC 4326 436 4403 640 4429 710 \nC 4544 1018 4832 1773 4832 2145 \nC 4832 2528 4608 2816 4122 2816 \nC 3693 2816 3347 2574 3091 2197 \nC 3072 2542 2861 2816 2381 2816 \nC 1811 2816 1510 2415 1395 2255 \nC 1376 2618 1114 2816 832 2816 \nC 646 2816 499 2727 378 2484 \nC 262 2254 173 1865 173 1839 \nC 173 1814 198 1782 243 1782 \nC 294 1782 301 1788 339 1935 \nC 435 2312 557 2689 813 2689 \nC 960 2689 1011 2586 1011 2395 \nC 1011 2254 947 2005 902 1807 \nL 723 1118 \nC 698 996 627 709 595 594 \nC 550 428 480 128 480 96 \nC 480 6 550 -64 646 -64 \nC 723 -64 813 -26 864 70 \nC 877 102 934 326 966 453 \nL 1107 1028 \nL 1318 1871 \nz\n\" id=\"CMMI12-6d\" transform=\"scale(0.015625)\"/>\n       <path d=\"M 2822 2759 \nC 2822 2790 2797 2816 2765 2816 \nC 2714 2816 2464 2585 2342 2362 \nC 2227 2646 2029 2816 1754 2816 \nC 1030 2816 250 1884 250 939 \nC 250 307 621 -64 1056 -64 \nC 1395 -64 1677 193 1811 339 \nL 1818 333 \nL 1574 -615 \nL 1517 -842 \nC 1459 -1031 1363 -1031 1062 -1031 \nC 992 -1031 928 -1031 928 -1152 \nC 928 -1197 966 -1216 1011 -1216 \nC 1101 -1216 1216 -1216 1306 -1216 \nL 1958 -1216 \nC 2054 -1216 2163 -1216 2259 -1216 \nC 2298 -1216 2374 -1216 2374 -1095 \nC 2374 -1031 2323 -1031 2227 -1031 \nC 1926 -1031 1907 -986 1907 -935 \nC 1907 -904 1914 -898 1933 -815 \nL 2822 2759 \nz\nM 1920 762 \nC 1888 652 1888 640 1798 518 \nC 1658 339 1376 64 1075 64 \nC 813 64 666 301 666 678 \nC 666 1030 864 1747 986 2016 \nC 1203 2464 1504 2695 1754 2695 \nC 2176 2695 2259 2170 2259 2119 \nC 2259 2113 2240 2028 2234 2016 \nL 1920 762 \nz\n\" id=\"CMMI12-71\" transform=\"scale(0.015625)\"/>\n      </defs>\n      <use transform=\"scale(0.996264)\" xlink:href=\"#CMMI12-6d\"/>\n      <use transform=\"translate(85.327224 -14.943915)scale(0.697382)\" xlink:href=\"#CMMI12-71\"/>\n     </g>\n    </g>\n   </g>\n   <g id=\"matplotlib.axis_2\">\n    <g id=\"ytick_1\">\n     <g id=\"line2d_15\">\n      <path clip-path=\"url(#ped62c51e21)\" d=\"M 55.031727 227.193775 \nL 431.681727 227.193775 \n\" style=\"fill:none;stroke:#b0b0b0;stroke-linecap:square;stroke-width:0.8;\"/>\n     </g>\n     <g id=\"line2d_16\">\n      <defs>\n       <path d=\"M 0 0 \nL 3.5 0 \n\" id=\"m48891d6330\" style=\"stroke:#000000;stroke-width:0.8;\"/>\n      </defs>\n      <g>\n       <use style=\"stroke:#000000;stroke-width:0.8;\" x=\"55.031727\" xlink:href=\"#m48891d6330\" y=\"227.193775\"/>\n      </g>\n     </g>\n     <g id=\"text_9\">\n      <!-- $\\mathdefault{0.4}$ -->\n      <g transform=\"translate(36.574085 231.344865)scale(0.12 -0.12)\">\n       <defs>\n        <path d=\"M 1178 307 \nC 1178 492 1024 619 870 619 \nC 685 619 557 466 557 313 \nC 557 128 710 0 864 0 \nC 1050 0 1178 153 1178 307 \nz\n\" id=\"CMMI12-3a\" transform=\"scale(0.015625)\"/>\n       </defs>\n       <use transform=\"scale(0.996264)\" xlink:href=\"#CMR17-30\"/>\n       <use transform=\"translate(45.690477 0)scale(0.996264)\" xlink:href=\"#CMMI12-3a\"/>\n       <use transform=\"translate(72.787654 0)scale(0.996264)\" xlink:href=\"#CMR17-34\"/>\n      </g>\n     </g>\n    </g>\n    <g id=\"ytick_2\">\n     <g id=\"line2d_17\">\n      <path clip-path=\"url(#ped62c51e21)\" d=\"M 55.031727 195.458057 \nL 431.681727 195.458057 \n\" style=\"fill:none;stroke:#b0b0b0;stroke-linecap:square;stroke-width:0.8;\"/>\n     </g>\n     <g id=\"line2d_18\">\n      <g>\n       <use style=\"stroke:#000000;stroke-width:0.8;\" x=\"55.031727\" xlink:href=\"#m48891d6330\" y=\"195.458057\"/>\n      </g>\n     </g>\n     <g id=\"text_10\">\n      <!-- $\\mathdefault{0.5}$ -->\n      <g transform=\"translate(36.574085 199.609147)scale(0.12 -0.12)\">\n       <use transform=\"scale(0.996264)\" xlink:href=\"#CMR17-30\"/>\n       <use transform=\"translate(45.690477 0)scale(0.996264)\" xlink:href=\"#CMMI12-3a\"/>\n       <use transform=\"translate(72.787654 0)scale(0.996264)\" xlink:href=\"#CMR17-35\"/>\n      </g>\n     </g>\n    </g>\n    <g id=\"ytick_3\">\n     <g id=\"line2d_19\">\n      <path clip-path=\"url(#ped62c51e21)\" d=\"M 55.031727 163.722339 \nL 431.681727 163.722339 \n\" style=\"fill:none;stroke:#b0b0b0;stroke-linecap:square;stroke-width:0.8;\"/>\n     </g>\n     <g id=\"line2d_20\">\n      <g>\n       <use style=\"stroke:#000000;stroke-width:0.8;\" x=\"55.031727\" xlink:href=\"#m48891d6330\" y=\"163.722339\"/>\n      </g>\n     </g>\n     <g id=\"text_11\">\n      <!-- $\\mathdefault{0.6}$ -->\n      <g transform=\"translate(36.574085 167.873429)scale(0.12 -0.12)\">\n       <use transform=\"scale(0.996264)\" xlink:href=\"#CMR17-30\"/>\n       <use transform=\"translate(45.690477 0)scale(0.996264)\" xlink:href=\"#CMMI12-3a\"/>\n       <use transform=\"translate(72.787654 0)scale(0.996264)\" xlink:href=\"#CMR17-36\"/>\n      </g>\n     </g>\n    </g>\n    <g id=\"ytick_4\">\n     <g id=\"line2d_21\">\n      <path clip-path=\"url(#ped62c51e21)\" d=\"M 55.031727 131.986621 \nL 431.681727 131.986621 \n\" style=\"fill:none;stroke:#b0b0b0;stroke-linecap:square;stroke-width:0.8;\"/>\n     </g>\n     <g id=\"line2d_22\">\n      <g>\n       <use style=\"stroke:#000000;stroke-width:0.8;\" x=\"55.031727\" xlink:href=\"#m48891d6330\" y=\"131.986621\"/>\n      </g>\n     </g>\n     <g id=\"text_12\">\n      <!-- $\\mathdefault{0.7}$ -->\n      <g transform=\"translate(36.574085 136.137711)scale(0.12 -0.12)\">\n       <use transform=\"scale(0.996264)\" xlink:href=\"#CMR17-30\"/>\n       <use transform=\"translate(45.690477 0)scale(0.996264)\" xlink:href=\"#CMMI12-3a\"/>\n       <use transform=\"translate(72.787654 0)scale(0.996264)\" xlink:href=\"#CMR17-37\"/>\n      </g>\n     </g>\n    </g>\n    <g id=\"ytick_5\">\n     <g id=\"line2d_23\">\n      <path clip-path=\"url(#ped62c51e21)\" d=\"M 55.031727 100.250903 \nL 431.681727 100.250903 \n\" style=\"fill:none;stroke:#b0b0b0;stroke-linecap:square;stroke-width:0.8;\"/>\n     </g>\n     <g id=\"line2d_24\">\n      <g>\n       <use style=\"stroke:#000000;stroke-width:0.8;\" x=\"55.031727\" xlink:href=\"#m48891d6330\" y=\"100.250903\"/>\n      </g>\n     </g>\n     <g id=\"text_13\">\n      <!-- $\\mathdefault{0.8}$ -->\n      <g transform=\"translate(36.574085 104.401993)scale(0.12 -0.12)\">\n       <use transform=\"scale(0.996264)\" xlink:href=\"#CMR17-30\"/>\n       <use transform=\"translate(45.690477 0)scale(0.996264)\" xlink:href=\"#CMMI12-3a\"/>\n       <use transform=\"translate(72.787654 0)scale(0.996264)\" xlink:href=\"#CMR17-38\"/>\n      </g>\n     </g>\n    </g>\n    <g id=\"ytick_6\">\n     <g id=\"line2d_25\">\n      <path clip-path=\"url(#ped62c51e21)\" d=\"M 55.031727 68.515185 \nL 431.681727 68.515185 \n\" style=\"fill:none;stroke:#b0b0b0;stroke-linecap:square;stroke-width:0.8;\"/>\n     </g>\n     <g id=\"line2d_26\">\n      <g>\n       <use style=\"stroke:#000000;stroke-width:0.8;\" x=\"55.031727\" xlink:href=\"#m48891d6330\" y=\"68.515185\"/>\n      </g>\n     </g>\n     <g id=\"text_14\">\n      <!-- $\\mathdefault{0.9}$ -->\n      <g transform=\"translate(36.574085 72.666275)scale(0.12 -0.12)\">\n       <use transform=\"scale(0.996264)\" xlink:href=\"#CMR17-30\"/>\n       <use transform=\"translate(45.690477 0)scale(0.996264)\" xlink:href=\"#CMMI12-3a\"/>\n       <use transform=\"translate(72.787654 0)scale(0.996264)\" xlink:href=\"#CMR17-39\"/>\n      </g>\n     </g>\n    </g>\n    <g id=\"ytick_7\">\n     <g id=\"line2d_27\">\n      <path clip-path=\"url(#ped62c51e21)\" d=\"M 55.031727 36.779467 \nL 431.681727 36.779467 \n\" style=\"fill:none;stroke:#b0b0b0;stroke-linecap:square;stroke-width:0.8;\"/>\n     </g>\n     <g id=\"line2d_28\">\n      <g>\n       <use style=\"stroke:#000000;stroke-width:0.8;\" x=\"55.031727\" xlink:href=\"#m48891d6330\" y=\"36.779467\"/>\n      </g>\n     </g>\n     <g id=\"text_15\">\n      <!-- $\\mathdefault{1.0}$ -->\n      <g transform=\"translate(36.574085 40.930556)scale(0.12 -0.12)\">\n       <use transform=\"scale(0.996264)\" xlink:href=\"#CMR17-31\"/>\n       <use transform=\"translate(45.690477 0)scale(0.996264)\" xlink:href=\"#CMMI12-3a\"/>\n       <use transform=\"translate(72.787654 0)scale(0.996264)\" xlink:href=\"#CMR17-30\"/>\n      </g>\n     </g>\n    </g>\n    <g id=\"text_16\">\n     <!-- $m_\\pi^2$ -->\n     <g transform=\"translate(26.66304 156.275052)rotate(-90)scale(0.24 -0.24)\">\n      <defs>\n       <path d=\"M 2669 989 \nL 2554 989 \nC 2490 536 2438 459 2413 420 \nC 2381 369 1920 369 1830 369 \nL 602 369 \nC 832 619 1280 1072 1824 1597 \nC 2214 1967 2669 2402 2669 3035 \nC 2669 3790 2067 4224 1395 4224 \nC 691 4224 262 3604 262 3030 \nC 262 2780 448 2748 525 2748 \nC 589 2748 781 2787 781 3010 \nC 781 3207 614 3264 525 3264 \nC 486 3264 448 3258 422 3245 \nC 544 3790 915 4058 1306 4058 \nC 1862 4058 2227 3617 2227 3035 \nC 2227 2479 1901 2000 1536 1584 \nL 262 146 \nL 262 0 \nL 2515 0 \nL 2669 989 \nz\n\" id=\"CMR17-32\" transform=\"scale(0.015625)\"/>\n       <path d=\"M 1658 2408 \nL 2381 2408 \nC 2208 1692 2099 1226 2099 716 \nC 2099 626 2099 -64 2362 -64 \nC 2496 -64 2611 57 2611 166 \nC 2611 197 2611 210 2566 306 \nC 2394 747 2394 1296 2394 1341 \nC 2394 1379 2394 1832 2528 2408 \nL 3245 2408 \nC 3328 2408 3539 2408 3539 2612 \nC 3539 2752 3418 2752 3302 2752 \nL 1197 2752 \nC 1050 2752 832 2752 538 2440 \nC 371 2254 166 1916 166 1878 \nC 166 1840 198 1827 237 1827 \nC 282 1827 288 1846 320 1884 \nC 653 2408 986 2408 1146 2408 \nL 1510 2408 \nC 1370 1929 1210 1373 685 256 \nC 634 154 634 140 634 102 \nC 634 -32 749 -64 806 -64 \nC 992 -64 1043 102 1120 370 \nC 1222 696 1222 709 1286 964 \nL 1658 2408 \nz\n\" id=\"CMMI12-19\" transform=\"scale(0.015625)\"/>\n      </defs>\n      <use transform=\"scale(0.996264)\" xlink:href=\"#CMMI12-6d\"/>\n      <use transform=\"translate(85.327224 36.153639)scale(0.697382)\" xlink:href=\"#CMR17-32\"/>\n      <use transform=\"translate(85.327224 -24.62935)scale(0.697382)\" xlink:href=\"#CMMI12-19\"/>\n     </g>\n    </g>\n    <g id=\"text_17\">\n     <!-- $\\times\\mathdefault{10^{7}}\\mathdefault{}$ -->\n     <g transform=\"translate(55.031727 25)scale(0.12 -0.12)\">\n      <defs>\n       <path d=\"M 2490 1785 \nL 1210 3059 \nC 1133 3136 1120 3148 1069 3148 \nC 1005 3148 941 3091 941 3020 \nC 941 2976 954 2963 1024 2892 \nL 2304 1606 \nL 1024 320 \nC 954 249 941 236 941 192 \nC 941 121 1005 64 1069 64 \nC 1120 64 1133 76 1210 153 \nL 2483 1427 \nL 3808 102 \nC 3821 96 3866 64 3904 64 \nC 3981 64 4032 121 4032 192 \nC 4032 204 4032 230 4013 262 \nC 4006 275 2989 1280 2669 1606 \nL 3840 2777 \nC 3872 2816 3968 2899 4000 2937 \nC 4006 2950 4032 2976 4032 3020 \nC 4032 3091 3981 3148 3904 3148 \nC 3853 3148 3827 3123 3757 3052 \nL 2490 1785 \nz\n\" id=\"CMSY10-2\" transform=\"scale(0.015625)\"/>\n      </defs>\n      <use transform=\"scale(0.996264)\" xlink:href=\"#CMSY10-2\"/>\n      <use transform=\"translate(77.487468 0)scale(0.996264)\" xlink:href=\"#CMR17-31\"/>\n      <use transform=\"translate(123.177945 0)scale(0.996264)\" xlink:href=\"#CMR17-30\"/>\n      <use transform=\"translate(168.868422 36.153639)scale(0.697382)\" xlink:href=\"#CMR17-37\"/>\n     </g>\n    </g>\n   </g>\n   <g id=\"line2d_29\">\n    <path clip-path=\"url(#ped62c51e21)\" d=\"M 74.818622 243.040731 \nL 72.152182 243.040731 \n\" style=\"fill:none;stroke:#1f77b4;stroke-linecap:square;stroke-width:2;\"/>\n   </g>\n   <g id=\"line2d_30\">\n    <path clip-path=\"url(#ped62c51e21)\" d=\"M 73.837739 241.614261 \nL 73.133065 244.467201 \n\" style=\"fill:none;stroke:#2ca02c;stroke-linecap:square;stroke-width:2;\"/>\n   </g>\n   <g id=\"line2d_31\">\n    <path clip-path=\"url(#ped62c51e21)\" d=\"M 414.561273 42.25087 \nL 406.846802 42.25087 \n\" style=\"fill:none;stroke:#9467bd;stroke-linecap:square;stroke-width:2;\"/>\n   </g>\n   <g id=\"line2d_32\">\n    <path clip-path=\"url(#ped62c51e21)\" d=\"M 411.664724 38.307962 \nL 409.74335 46.193778 \n\" style=\"fill:none;stroke:#e377c2;stroke-linecap:square;stroke-width:2;\"/>\n   </g>\n   <g id=\"patch_3\">\n    <path d=\"M 55.031727 254.775163 \nL 55.031727 28 \n\" style=\"fill:none;stroke:#000000;stroke-linecap:square;stroke-linejoin:miter;stroke-width:0.8;\"/>\n   </g>\n   <g id=\"patch_4\">\n    <path d=\"M 431.681727 254.775163 \nL 431.681727 28 \n\" style=\"fill:none;stroke:#000000;stroke-linecap:square;stroke-linejoin:miter;stroke-width:0.8;\"/>\n   </g>\n   <g id=\"patch_5\">\n    <path d=\"M 55.031727 254.775163 \nL 431.681727 254.775163 \n\" style=\"fill:none;stroke:#000000;stroke-linecap:square;stroke-linejoin:miter;stroke-width:0.8;\"/>\n   </g>\n   <g id=\"patch_6\">\n    <path d=\"M 55.031727 28 \nL 431.681727 28 \n\" style=\"fill:none;stroke:#000000;stroke-linecap:square;stroke-linejoin:miter;stroke-width:0.8;\"/>\n   </g>\n   <g id=\"line2d_33\">\n    <path clip-path=\"url(#ped62c51e21)\" d=\"M 73.485402 243.040731 \n\" style=\"fill:none;stroke:#ff7f0e;stroke-linecap:square;\"/>\n    <defs>\n     <path d=\"M 0 2.5 \nC 0.663008 2.5 1.29895 2.236584 1.767767 1.767767 \nC 2.236584 1.29895 2.5 0.663008 2.5 0 \nC 2.5 -0.663008 2.236584 -1.29895 1.767767 -1.767767 \nC 1.29895 -2.236584 0.663008 -2.5 0 -2.5 \nC -0.663008 -2.5 -1.29895 -2.236584 -1.767767 -1.767767 \nC -2.236584 -1.29895 -2.5 -0.663008 -2.5 0 \nC -2.5 0.663008 -2.236584 1.29895 -1.767767 1.767767 \nC -1.29895 2.236584 -0.663008 2.5 0 2.5 \nz\n\" id=\"mfe36502c4a\" style=\"stroke:#ffffff;\"/>\n    </defs>\n    <g clip-path=\"url(#ped62c51e21)\">\n     <use style=\"fill:#ff7f0e;stroke:#ffffff;\" x=\"73.485402\" xlink:href=\"#mfe36502c4a\" y=\"243.040731\"/>\n    </g>\n   </g>\n   <g id=\"line2d_34\">\n    <path clip-path=\"url(#ped62c51e21)\" d=\"M 73.485402 243.040731 \n\" style=\"fill:none;stroke:#d62728;stroke-linecap:square;\"/>\n    <defs>\n     <path d=\"M 0 2.5 \nC 0.663008 2.5 1.29895 2.236584 1.767767 1.767767 \nC 2.236584 1.29895 2.5 0.663008 2.5 0 \nC 2.5 -0.663008 2.236584 -1.29895 1.767767 -1.767767 \nC 1.29895 -2.236584 0.663008 -2.5 0 -2.5 \nC -0.663008 -2.5 -1.29895 -2.236584 -1.767767 -1.767767 \nC -2.236584 -1.29895 -2.5 -0.663008 -2.5 0 \nC -2.5 0.663008 -2.236584 1.29895 -1.767767 1.767767 \nC -1.29895 2.236584 -0.663008 2.5 0 2.5 \nz\n\" id=\"m98faee43b6\" style=\"stroke:#ffffff;\"/>\n    </defs>\n    <g clip-path=\"url(#ped62c51e21)\">\n     <use style=\"fill:#d62728;stroke:#ffffff;\" x=\"73.485402\" xlink:href=\"#m98faee43b6\" y=\"243.040731\"/>\n    </g>\n   </g>\n   <g id=\"line2d_35\">\n    <path clip-path=\"url(#ped62c51e21)\" d=\"M 410.704037 42.25087 \n\" style=\"fill:none;stroke:#8c564b;stroke-linecap:square;\"/>\n    <defs>\n     <path d=\"M 0 2.5 \nC 0.663008 2.5 1.29895 2.236584 1.767767 1.767767 \nC 2.236584 1.29895 2.5 0.663008 2.5 0 \nC 2.5 -0.663008 2.236584 -1.29895 1.767767 -1.767767 \nC 1.29895 -2.236584 0.663008 -2.5 0 -2.5 \nC -0.663008 -2.5 -1.29895 -2.236584 -1.767767 -1.767767 \nC -2.236584 -1.29895 -2.5 -0.663008 -2.5 0 \nC -2.5 0.663008 -2.236584 1.29895 -1.767767 1.767767 \nC -1.29895 2.236584 -0.663008 2.5 0 2.5 \nz\n\" id=\"m268d513d0e\" style=\"stroke:#ffffff;\"/>\n    </defs>\n    <g clip-path=\"url(#ped62c51e21)\">\n     <use style=\"fill:#8c564b;stroke:#ffffff;\" x=\"410.704037\" xlink:href=\"#m268d513d0e\" y=\"42.25087\"/>\n    </g>\n   </g>\n   <g id=\"line2d_36\">\n    <path clip-path=\"url(#ped62c51e21)\" d=\"M 410.704037 42.25087 \n\" style=\"fill:none;stroke:#7f7f7f;stroke-linecap:square;\"/>\n    <defs>\n     <path d=\"M 0 2.5 \nC 0.663008 2.5 1.29895 2.236584 1.767767 1.767767 \nC 2.236584 1.29895 2.5 0.663008 2.5 0 \nC 2.5 -0.663008 2.236584 -1.29895 1.767767 -1.767767 \nC 1.29895 -2.236584 0.663008 -2.5 0 -2.5 \nC -0.663008 -2.5 -1.29895 -2.236584 -1.767767 -1.767767 \nC -2.236584 -1.29895 -2.5 -0.663008 -2.5 0 \nC -2.5 0.663008 -2.236584 1.29895 -1.767767 1.767767 \nC -1.29895 2.236584 -0.663008 2.5 0 2.5 \nz\n\" id=\"mbdbf28fd21\" style=\"stroke:#ffffff;\"/>\n    </defs>\n    <g clip-path=\"url(#ped62c51e21)\">\n     <use style=\"fill:#7f7f7f;stroke:#ffffff;\" x=\"410.704037\" xlink:href=\"#mbdbf28fd21\" y=\"42.25087\"/>\n    </g>\n   </g>\n   <g id=\"legend_1\">\n    <g id=\"patch_7\">\n     <path d=\"M 66.231727 20 \nL 72.631727 20 \nQ 75.831727 20 75.831727 16.8 \nL 75.831727 10.4 \nQ 75.831727 7.2 72.631727 7.2 \nL 66.231727 7.2 \nQ 63.031727 7.2 63.031727 10.4 \nL 63.031727 16.8 \nQ 63.031727 20 66.231727 20 \nz\n\" style=\"fill:#ffffff;opacity:0.8;stroke:#cccccc;stroke-linejoin:miter;\"/>\n    </g>\n   </g>\n  </g>\n </g>\n <defs>\n  <clipPath id=\"ped62c51e21\">\n   <rect height=\"226.775163\" width=\"376.65\" x=\"55.031727\" y=\"28\"/>\n  </clipPath>\n </defs>\n</svg>\n",
      "text/plain": [
       "<Figure size 486x300.364 with 1 Axes>"
      ]
     },
     "metadata": {
      "needs_background": "light"
     }
    }
   ],
   "metadata": {}
  },
  {
   "cell_type": "code",
   "execution_count": 12,
   "source": [
    "colormap = {\n",
    "    'a06' : '#6A5ACD',\n",
    "    'a09' : '#51a7f9',\n",
    "    'a12' : '#70bf41',\n",
    "    'a15' : '#ec5d57',\n",
    "}\n",
    "fig, (ax_value, ax_q) = plt.subplots(nrows=2, sharex=True, gridspec_kw={'height_ratios': [5, 1], 'wspace':0.0, 'hspace':0.1})\n",
    "ax_value.errorbar(\n",
    "    x=-np.arange(len(l_3)), \n",
    "    y=gv.mean([l_3[a_xx]['value'] for a_xx in l_3]), \n",
    "    xerr=0.0, \n",
    "    yerr=gv.sdev([l_3[a_xx]['value'] for a_xx in l_3]),\n",
    "    capsize=0.0, mec='white', ms=10.0,\n",
    "    ecolor=[colormap[a_xx] for a_xx in l_3], \n",
    "    elinewidth=5.0, fmt = '.')\n",
    "ax_q.scatter(\n",
    "    x=-np.arange(len(l_3)), \n",
    "    y=[l_3[a_xx]['q'] for a_xx in l_3], \n",
    "    color=[colormap[a_xx] for a_xx in l_3])\n",
    "\n",
    "ax_value.set_ylabel('$l_3$')\n",
    "ax_q.set_ylabel('$Q$')\n",
    "ax_q.set_ylim(-0.05, 1.05)\n",
    "\n",
    "ax_value.set_xticks(-np.arange(len(l_3)))\n",
    "ax_value.set_xticklabels([a_xx for a_xx in l_3])\n",
    "\n",
    "pm = lambda g, k : gv.mean(g) + k*gv.sdev(g)\n",
    "ax_value.axhspan(pm(l_3_flag, -1), pm(l_3_flag, +1), alpha=0.3, color='salmon', label='PDG/FLAG')\n",
    "ax_value.axhline(pm(l_3_flag, 0), ls='-.', color='salmon')\n",
    "\n",
    "#fig.savefig('../tmp/l_3_vs_epsa.png')\n",
    "plt.show()"
   ],
   "outputs": [
    {
     "output_type": "display_data",
     "data": {
      "image/png": "[encoded data removed]",
      "image/svg+xml": "<?xml version=\"1.0\" encoding=\"utf-8\" standalone=\"no\"?>\n<!DOCTYPE svg PUBLIC \"-//W3C//DTD SVG 1.1//EN\"\n  \"http://www.w3.org/Graphics/SVG/1.1/DTD/svg11.dtd\">\n<svg height=\"255.301939pt\" version=\"1.1\" viewBox=\"0 0 437.073262 255.301939\" width=\"437.073262pt\" xmlns=\"http://www.w3.org/2000/svg\" xmlns:xlink=\"http://www.w3.org/1999/xlink\">\n <metadata>\n  <rdf:RDF xmlns:cc=\"http://creativecommons.org/ns#\" xmlns:dc=\"http://purl.org/dc/elements/1.1/\" xmlns:rdf=\"http://www.w3.org/1999/02/22-rdf-syntax-ns#\">\n   <cc:Work>\n    <dc:type rdf:resource=\"http://purl.org/dc/dcmitype/StillImage\"/>\n    <dc:date>2021-11-12T19:59:08.842709</dc:date>\n    <dc:format>image/svg+xml</dc:format>\n    <dc:creator>\n     <cc:Agent>\n      <dc:title>Matplotlib v3.4.1, https://matplotlib.org/</dc:title>\n     </cc:Agent>\n    </dc:creator>\n   </cc:Work>\n  </rdf:RDF>\n </metadata>\n <defs>\n  <style type=\"text/css\">*{stroke-linecap:butt;stroke-linejoin:round;}</style>\n </defs>\n <g id=\"figure_1\">\n  <g id=\"patch_1\">\n   <path d=\"M 0 255.301939 \nL 437.073262 255.301939 \nL 437.073262 0 \nL 0 0 \nz\n\" style=\"fill:none;\"/>\n  </g>\n  <g id=\"axes_1\">\n   <g id=\"patch_2\">\n    <path d=\"M 53.223262 187.180288 \nL 429.873262 187.180288 \nL 429.873262 7.2 \nL 53.223262 7.2 \nz\n\" style=\"fill:#ffffff;\"/>\n   </g>\n   <g id=\"patch_3\">\n    <path clip-path=\"url(#p3c6c4d4d55)\" d=\"M 53.223262 178.999366 \nL 53.223262 44.047881 \nL 429.873262 44.047881 \nL 429.873262 178.999366 \nz\n\" style=\"fill:#fa8072;opacity:0.3;stroke:#fa8072;stroke-linejoin:miter;\"/>\n   </g>\n   <g id=\"matplotlib.axis_1\">\n    <g id=\"xtick_1\">\n     <g id=\"line2d_1\">\n      <defs>\n       <path d=\"M 0 0 \nL 0 -3.5 \n\" id=\"m185d9a38be\" style=\"stroke:#000000;stroke-width:0.8;\"/>\n      </defs>\n      <g>\n       <use style=\"stroke:#000000;stroke-width:0.8;\" x=\"241.548262\" xlink:href=\"#m185d9a38be\" y=\"187.180288\"/>\n      </g>\n     </g>\n    </g>\n   </g>\n   <g id=\"matplotlib.axis_2\">\n    <g id=\"ytick_1\">\n     <g id=\"line2d_2\">\n      <defs>\n       <path d=\"M 0 0 \nL 3.5 0 \n\" id=\"m2bab4e0963\" style=\"stroke:#000000;stroke-width:0.8;\"/>\n      </defs>\n      <g>\n       <use style=\"stroke:#000000;stroke-width:0.8;\" x=\"53.223262\" xlink:href=\"#m2bab4e0963\" y=\"171.619207\"/>\n      </g>\n     </g>\n     <g id=\"text_1\">\n      <!-- $\\mathdefault{2.50}$ -->\n      <g transform=\"translate(28.91263 175.770297)scale(0.12 -0.12)\">\n       <defs>\n        <path d=\"M 2669 989 \nL 2554 989 \nC 2490 536 2438 459 2413 420 \nC 2381 369 1920 369 1830 369 \nL 602 369 \nC 832 619 1280 1072 1824 1597 \nC 2214 1967 2669 2402 2669 3035 \nC 2669 3790 2067 4224 1395 4224 \nC 691 4224 262 3604 262 3030 \nC 262 2780 448 2748 525 2748 \nC 589 2748 781 2787 781 3010 \nC 781 3207 614 3264 525 3264 \nC 486 3264 448 3258 422 3245 \nC 544 3790 915 4058 1306 4058 \nC 1862 4058 2227 3617 2227 3035 \nC 2227 2479 1901 2000 1536 1584 \nL 262 146 \nL 262 0 \nL 2515 0 \nL 2669 989 \nz\n\" id=\"CMR17-32\" transform=\"scale(0.015625)\"/>\n        <path d=\"M 1178 307 \nC 1178 492 1024 619 870 619 \nC 685 619 557 466 557 313 \nC 557 128 710 0 864 0 \nC 1050 0 1178 153 1178 307 \nz\n\" id=\"CMMI12-3a\" transform=\"scale(0.015625)\"/>\n        <path d=\"M 730 3692 \nC 794 3666 1056 3584 1325 3584 \nC 1920 3584 2246 3911 2432 4100 \nC 2432 4157 2432 4192 2394 4192 \nC 2387 4192 2374 4192 2323 4163 \nC 2099 4058 1837 3973 1517 3973 \nC 1325 3973 1037 3999 723 4139 \nC 653 4171 640 4171 634 4171 \nC 602 4171 595 4164 595 4037 \nL 595 2203 \nC 595 2089 595 2057 659 2057 \nC 691 2057 704 2070 736 2114 \nC 941 2401 1222 2522 1542 2522 \nC 1766 2522 2246 2382 2246 1289 \nC 2246 1085 2246 715 2054 421 \nC 1894 159 1645 25 1370 25 \nC 947 25 518 320 403 814 \nC 429 807 480 795 506 795 \nC 589 795 749 840 749 1038 \nC 749 1210 627 1280 506 1280 \nC 358 1280 262 1190 262 1011 \nC 262 454 704 -128 1382 -128 \nC 2042 -128 2669 440 2669 1264 \nC 2669 2030 2170 2624 1549 2624 \nC 1222 2624 947 2503 730 2274 \nL 730 3692 \nz\n\" id=\"CMR17-35\" transform=\"scale(0.015625)\"/>\n        <path d=\"M 2688 2025 \nC 2688 2416 2682 3080 2413 3591 \nC 2176 4039 1798 4198 1466 4198 \nC 1158 4198 768 4058 525 3597 \nC 269 3118 243 2524 243 2025 \nC 243 1661 250 1106 448 619 \nC 723 -39 1216 -128 1466 -128 \nC 1760 -128 2208 -7 2470 600 \nC 2662 1042 2688 1559 2688 2025 \nz\nM 1466 -26 \nC 1056 -26 813 325 723 812 \nC 653 1188 653 1738 653 2096 \nC 653 2588 653 2997 736 3387 \nC 858 3929 1216 4096 1466 4096 \nC 1728 4096 2067 3923 2189 3400 \nC 2272 3036 2278 2607 2278 2096 \nC 2278 1680 2278 1169 2202 792 \nC 2067 95 1690 -26 1466 -26 \nz\n\" id=\"CMR17-30\" transform=\"scale(0.015625)\"/>\n       </defs>\n       <use transform=\"scale(0.996264)\" xlink:href=\"#CMR17-32\"/>\n       <use transform=\"translate(45.690477 0)scale(0.996264)\" xlink:href=\"#CMMI12-3a\"/>\n       <use transform=\"translate(72.787654 0)scale(0.996264)\" xlink:href=\"#CMR17-35\"/>\n       <use transform=\"translate(118.478131 0)scale(0.996264)\" xlink:href=\"#CMR17-30\"/>\n      </g>\n     </g>\n    </g>\n    <g id=\"ytick_2\">\n     <g id=\"line2d_3\">\n      <g>\n       <use style=\"stroke:#000000;stroke-width:0.8;\" x=\"53.223262\" xlink:href=\"#m2bab4e0963\" y=\"145.261495\"/>\n      </g>\n     </g>\n     <g id=\"text_2\">\n      <!-- $\\mathdefault{2.75}$ -->\n      <g transform=\"translate(28.91263 149.412585)scale(0.12 -0.12)\">\n       <defs>\n        <path d=\"M 2886 3941 \nL 2886 4081 \nL 1382 4081 \nC 634 4081 621 4165 595 4288 \nL 480 4288 \nL 294 3094 \nL 410 3094 \nC 429 3215 474 3540 550 3661 \nC 589 3712 1062 3712 1171 3712 \nL 2579 3712 \nL 1869 2661 \nC 1395 1954 1069 999 1069 165 \nC 1069 89 1069 -128 1299 -128 \nC 1530 -128 1530 89 1530 171 \nL 1530 465 \nC 1530 1508 1709 2196 2003 2636 \nL 2886 3941 \nz\n\" id=\"CMR17-37\" transform=\"scale(0.015625)\"/>\n       </defs>\n       <use transform=\"scale(0.996264)\" xlink:href=\"#CMR17-32\"/>\n       <use transform=\"translate(45.690477 0)scale(0.996264)\" xlink:href=\"#CMMI12-3a\"/>\n       <use transform=\"translate(72.787654 0)scale(0.996264)\" xlink:href=\"#CMR17-37\"/>\n       <use transform=\"translate(118.478131 0)scale(0.996264)\" xlink:href=\"#CMR17-35\"/>\n      </g>\n     </g>\n    </g>\n    <g id=\"ytick_3\">\n     <g id=\"line2d_4\">\n      <g>\n       <use style=\"stroke:#000000;stroke-width:0.8;\" x=\"53.223262\" xlink:href=\"#m2bab4e0963\" y=\"118.903783\"/>\n      </g>\n     </g>\n     <g id=\"text_3\">\n      <!-- $\\mathdefault{3.00}$ -->\n      <g transform=\"translate(28.91263 123.054873)scale(0.12 -0.12)\">\n       <defs>\n        <path d=\"M 1414 2157 \nC 1984 2157 2234 1662 2234 1090 \nC 2234 320 1824 25 1453 25 \nC 1114 25 563 194 390 693 \nC 422 680 454 680 486 680 \nC 640 680 755 782 755 948 \nC 755 1133 614 1216 486 1216 \nC 378 1216 211 1165 211 926 \nC 211 335 787 -128 1466 -128 \nC 2176 -128 2720 430 2720 1085 \nC 2720 1707 2208 2157 1600 2227 \nC 2086 2328 2554 2756 2554 3329 \nC 2554 3820 2048 4179 1472 4179 \nC 890 4179 378 3829 378 3329 \nC 378 3110 544 3072 627 3072 \nC 762 3072 877 3155 877 3321 \nC 877 3486 762 3569 627 3569 \nC 602 3569 570 3569 544 3557 \nC 730 3959 1235 4032 1459 4032 \nC 1683 4032 2106 3925 2106 3320 \nC 2106 3143 2080 2828 1862 2550 \nC 1670 2304 1453 2304 1242 2284 \nC 1210 2284 1062 2269 1037 2269 \nC 992 2263 966 2257 966 2208 \nC 966 2163 973 2157 1101 2157 \nL 1414 2157 \nz\n\" id=\"CMR17-33\" transform=\"scale(0.015625)\"/>\n       </defs>\n       <use transform=\"scale(0.996264)\" xlink:href=\"#CMR17-33\"/>\n       <use transform=\"translate(45.690477 0)scale(0.996264)\" xlink:href=\"#CMMI12-3a\"/>\n       <use transform=\"translate(72.787654 0)scale(0.996264)\" xlink:href=\"#CMR17-30\"/>\n       <use transform=\"translate(118.478131 0)scale(0.996264)\" xlink:href=\"#CMR17-30\"/>\n      </g>\n     </g>\n    </g>\n    <g id=\"ytick_4\">\n     <g id=\"line2d_5\">\n      <g>\n       <use style=\"stroke:#000000;stroke-width:0.8;\" x=\"53.223262\" xlink:href=\"#m2bab4e0963\" y=\"92.546071\"/>\n      </g>\n     </g>\n     <g id=\"text_4\">\n      <!-- $\\mathdefault{3.25}$ -->\n      <g transform=\"translate(28.91263 96.697161)scale(0.12 -0.12)\">\n       <use transform=\"scale(0.996264)\" xlink:href=\"#CMR17-33\"/>\n       <use transform=\"translate(45.690477 0)scale(0.996264)\" xlink:href=\"#CMMI12-3a\"/>\n       <use transform=\"translate(72.787654 0)scale(0.996264)\" xlink:href=\"#CMR17-32\"/>\n       <use transform=\"translate(118.478131 0)scale(0.996264)\" xlink:href=\"#CMR17-35\"/>\n      </g>\n     </g>\n    </g>\n    <g id=\"ytick_5\">\n     <g id=\"line2d_6\">\n      <g>\n       <use style=\"stroke:#000000;stroke-width:0.8;\" x=\"53.223262\" xlink:href=\"#m2bab4e0963\" y=\"66.188359\"/>\n      </g>\n     </g>\n     <g id=\"text_5\">\n      <!-- $\\mathdefault{3.50}$ -->\n      <g transform=\"translate(28.91263 70.339449)scale(0.12 -0.12)\">\n       <use transform=\"scale(0.996264)\" xlink:href=\"#CMR17-33\"/>\n       <use transform=\"translate(45.690477 0)scale(0.996264)\" xlink:href=\"#CMMI12-3a\"/>\n       <use transform=\"translate(72.787654 0)scale(0.996264)\" xlink:href=\"#CMR17-35\"/>\n       <use transform=\"translate(118.478131 0)scale(0.996264)\" xlink:href=\"#CMR17-30\"/>\n      </g>\n     </g>\n    </g>\n    <g id=\"ytick_6\">\n     <g id=\"line2d_7\">\n      <g>\n       <use style=\"stroke:#000000;stroke-width:0.8;\" x=\"53.223262\" xlink:href=\"#m2bab4e0963\" y=\"39.830647\"/>\n      </g>\n     </g>\n     <g id=\"text_6\">\n      <!-- $\\mathdefault{3.75}$ -->\n      <g transform=\"translate(28.91263 43.981737)scale(0.12 -0.12)\">\n       <use transform=\"scale(0.996264)\" xlink:href=\"#CMR17-33\"/>\n       <use transform=\"translate(45.690477 0)scale(0.996264)\" xlink:href=\"#CMMI12-3a\"/>\n       <use transform=\"translate(72.787654 0)scale(0.996264)\" xlink:href=\"#CMR17-37\"/>\n       <use transform=\"translate(118.478131 0)scale(0.996264)\" xlink:href=\"#CMR17-35\"/>\n      </g>\n     </g>\n    </g>\n    <g id=\"ytick_7\">\n     <g id=\"line2d_8\">\n      <g>\n       <use style=\"stroke:#000000;stroke-width:0.8;\" x=\"53.223262\" xlink:href=\"#m2bab4e0963\" y=\"13.472936\"/>\n      </g>\n     </g>\n     <g id=\"text_7\">\n      <!-- $\\mathdefault{4.00}$ -->\n      <g transform=\"translate(28.91263 17.624026)scale(0.12 -0.12)\">\n       <defs>\n        <path d=\"M 2150 4122 \nC 2150 4256 2144 4256 2029 4256 \nL 128 1254 \nL 128 1088 \nL 1779 1088 \nL 1779 457 \nC 1779 224 1766 160 1318 160 \nL 1197 160 \nL 1197 0 \nC 1402 0 1747 0 1965 0 \nC 2182 0 2528 0 2733 0 \nL 2733 160 \nL 2611 160 \nC 2163 160 2150 224 2150 457 \nL 2150 1088 \nL 2803 1088 \nL 2803 1254 \nL 2150 1254 \nL 2150 4122 \nz\nM 1798 3703 \nL 1798 1254 \nL 256 1254 \nL 1798 3703 \nz\n\" id=\"CMR17-34\" transform=\"scale(0.015625)\"/>\n       </defs>\n       <use transform=\"scale(0.996264)\" xlink:href=\"#CMR17-34\"/>\n       <use transform=\"translate(45.690477 0)scale(0.996264)\" xlink:href=\"#CMMI12-3a\"/>\n       <use transform=\"translate(72.787654 0)scale(0.996264)\" xlink:href=\"#CMR17-30\"/>\n       <use transform=\"translate(118.478131 0)scale(0.996264)\" xlink:href=\"#CMR17-30\"/>\n      </g>\n     </g>\n    </g>\n    <g id=\"text_8\">\n     <!-- $l_3$ -->\n     <g transform=\"translate(21.036997 103.510118)rotate(-90)scale(0.2 -0.2)\">\n      <defs>\n       <path d=\"M 1626 4257 \nC 1632 4282 1645 4320 1645 4352 \nC 1645 4416 1581 4416 1568 4416 \nC 1562 4416 1331 4393 1216 4377 \nC 1107 4377 1011 4358 896 4358 \nC 742 4345 698 4339 698 4224 \nC 698 4160 762 4160 826 4160 \nC 1152 4160 1152 4102 1152 4039 \nC 1152 4014 1152 4001 1120 3887 \nL 326 731 \nC 307 661 294 610 294 509 \nC 294 191 531 -64 858 -64 \nC 1069 -64 1210 76 1312 274 \nC 1421 483 1510 884 1510 909 \nC 1510 941 1485 967 1446 967 \nC 1389 967 1382 935 1357 840 \nC 1242 401 1126 64 870 64 \nC 678 64 678 267 678 357 \nC 678 382 678 515 723 694 \nL 1626 4257 \nz\n\" id=\"CMMI12-6c\" transform=\"scale(0.015625)\"/>\n      </defs>\n      <use transform=\"scale(0.996264)\" xlink:href=\"#CMMI12-6c\"/>\n      <use transform=\"translate(29.057447 -14.943915)scale(0.697382)\" xlink:href=\"#CMR17-33\"/>\n     </g>\n    </g>\n   </g>\n   <g id=\"LineCollection_1\">\n    <path clip-path=\"url(#p3c6c4d4d55)\" d=\"M 241.548262 80.664492 \nL 241.548262 80.664492 \n\" style=\"fill:none;stroke:#51a7f9;stroke-width:5;\"/>\n   </g>\n   <g id=\"LineCollection_2\">\n    <path clip-path=\"url(#p3c6c4d4d55)\" d=\"M 241.548262 145.948063 \nL 241.548262 15.380922 \n\" style=\"fill:none;stroke:#51a7f9;stroke-width:5;\"/>\n   </g>\n   <g id=\"line2d_9\">\n    <path clip-path=\"url(#p3c6c4d4d55)\" d=\"M 53.223262 111.523624 \nL 429.873262 111.523624 \n\" style=\"fill:none;stroke:#fa8072;stroke-dasharray:6.4,1.6,1,1.6;stroke-dashoffset:0;\"/>\n   </g>\n   <g id=\"line2d_10\">\n    <defs>\n     <path d=\"M 0 2.5 \nC 0.663008 2.5 1.29895 2.236584 1.767767 1.767767 \nC 2.236584 1.29895 2.5 0.663008 2.5 0 \nC 2.5 -0.663008 2.236584 -1.29895 1.767767 -1.767767 \nC 1.29895 -2.236584 0.663008 -2.5 0 -2.5 \nC -0.663008 -2.5 -1.29895 -2.236584 -1.767767 -1.767767 \nC -2.236584 -1.29895 -2.5 -0.663008 -2.5 0 \nC -2.5 0.663008 -2.236584 1.29895 -1.767767 1.767767 \nC -1.29895 2.236584 -0.663008 2.5 0 2.5 \nz\n\" id=\"me6112f47f3\" style=\"stroke:#ffffff;\"/>\n    </defs>\n    <g clip-path=\"url(#p3c6c4d4d55)\">\n     <use style=\"fill:#1f77b4;stroke:#ffffff;\" x=\"241.548262\" xlink:href=\"#me6112f47f3\" y=\"80.664492\"/>\n    </g>\n   </g>\n   <g id=\"patch_4\">\n    <path d=\"M 53.223262 187.180288 \nL 53.223262 7.2 \n\" style=\"fill:none;stroke:#000000;stroke-linecap:square;stroke-linejoin:miter;stroke-width:0.8;\"/>\n   </g>\n   <g id=\"patch_5\">\n    <path d=\"M 429.873262 187.180288 \nL 429.873262 7.2 \n\" style=\"fill:none;stroke:#000000;stroke-linecap:square;stroke-linejoin:miter;stroke-width:0.8;\"/>\n   </g>\n   <g id=\"patch_6\">\n    <path d=\"M 53.223262 187.180288 \nL 429.873262 187.180288 \n\" style=\"fill:none;stroke:#000000;stroke-linecap:square;stroke-linejoin:miter;stroke-width:0.8;\"/>\n   </g>\n   <g id=\"patch_7\">\n    <path d=\"M 53.223262 7.2 \nL 429.873262 7.2 \n\" style=\"fill:none;stroke:#000000;stroke-linecap:square;stroke-linejoin:miter;stroke-width:0.8;\"/>\n   </g>\n  </g>\n  <g id=\"axes_2\">\n   <g id=\"patch_8\">\n    <path d=\"M 53.223262 233.975163 \nL 429.873262 233.975163 \nL 429.873262 197.979106 \nL 53.223262 197.979106 \nz\n\" style=\"fill:#ffffff;\"/>\n   </g>\n   <g id=\"PathCollection_1\">\n    <defs>\n     <path d=\"M 0 2.5 \nC 0.663008 2.5 1.29895 2.236584 1.767767 1.767767 \nC 2.236584 1.29895 2.5 0.663008 2.5 0 \nC 2.5 -0.663008 2.236584 -1.29895 1.767767 -1.767767 \nC 1.29895 -2.236584 0.663008 -2.5 0 -2.5 \nC -0.663008 -2.5 -1.29895 -2.236584 -1.767767 -1.767767 \nC -2.236584 -1.29895 -2.5 -0.663008 -2.5 0 \nC -2.5 0.663008 -2.236584 1.29895 -1.767767 1.767767 \nC -1.29895 2.236584 -0.663008 2.5 0 2.5 \nz\n\" id=\"mb903b8419a\" style=\"stroke:#51a7f9;\"/>\n    </defs>\n    <g clip-path=\"url(#pb3710b33c4)\">\n     <use style=\"fill:#51a7f9;stroke:#51a7f9;\" x=\"241.548262\" xlink:href=\"#mb903b8419a\" y=\"226.782211\"/>\n    </g>\n   </g>\n   <g id=\"matplotlib.axis_3\">\n    <g id=\"xtick_2\">\n     <g id=\"line2d_11\">\n      <g>\n       <use style=\"stroke:#000000;stroke-width:0.8;\" x=\"241.548262\" xlink:href=\"#m185d9a38be\" y=\"233.975163\"/>\n      </g>\n     </g>\n     <g id=\"text_9\">\n      <!-- a09 -->\n      <g transform=\"translate(232.89331 245.777343)scale(0.12 -0.12)\">\n       <defs>\n        <path d=\"M 2406 1791 \nC 2406 2392 1978 2808 1402 2808 \nC 1120 2808 813 2757 461 2553 \nL 499 2135 \nC 659 2248 934 2432 1395 2432 \nC 1722 2432 1920 2180 1920 1782 \nL 1920 1536 \nC 896 1536 256 1238 256 726 \nC 256 461 416 -64 947 -64 \nC 1043 -64 1562 -64 1933 217 \nL 1933 -19 \nL 2406 -19 \nL 2406 1791 \nz\nM 1920 816 \nC 1920 701 1920 548 1728 434 \nC 1562 325 1350 325 1261 325 \nC 941 325 723 511 723 744 \nC 723 1211 1722 1211 1920 1211 \nL 1920 816 \nz\n\" id=\"CMSS17-61\" transform=\"scale(0.015625)\"/>\n        <path d=\"M 2758 2044 \nC 2758 2405 2752 3077 2490 3596 \nC 2227 4096 1805 4229 1504 4229 \nC 1069 4229 698 3975 506 3570 \nC 301 3146 243 2709 243 2044 \nC 243 1589 262 1031 493 543 \nC 755 5 1197 -128 1498 -128 \nC 1894 -128 2278 81 2496 518 \nC 2720 974 2758 1474 2758 2044 \nz\nM 1498 261 \nC 1011 261 864 811 819 995 \nC 742 1310 730 1614 730 2114 \nC 730 2506 730 2948 851 3297 \nC 998 3701 1254 3840 1498 3840 \nC 1971 3840 2125 3372 2176 3208 \nC 2272 2873 2272 2481 2272 2114 \nC 2272 1526 2272 261 1498 261 \nz\n\" id=\"CMSS17-30\" transform=\"scale(0.015625)\"/>\n        <path d=\"M 435 174 \nC 614 21 845 -128 1235 -128 \nC 2010 -128 2752 721 2752 2095 \nC 2752 3932 1952 4229 1523 4229 \nC 1094 4229 819 4041 582 3741 \nC 301 3397 250 3090 250 2733 \nC 250 2307 326 2045 506 1745 \nC 749 1357 973 1275 1222 1275 \nC 1600 1275 1978 1459 2234 1776 \nC 2189 902 1798 267 1235 267 \nC 1005 267 819 339 634 516 \nL 435 174 \nz\nM 2214 2746 \nC 2221 2703 2221 2622 2221 2596 \nC 2221 2074 1914 1664 1466 1664 \nC 1171 1664 1018 1813 902 2006 \nC 762 2249 755 2485 755 2733 \nC 755 2976 755 3244 934 3511 \nC 1069 3703 1235 3840 1523 3840 \nC 2112 3840 2208 3000 2214 2746 \nz\n\" id=\"CMSS17-39\" transform=\"scale(0.015625)\"/>\n       </defs>\n       <use transform=\"scale(0.996264)\" xlink:href=\"#CMSS17-61\"/>\n       <use transform=\"translate(44.921921 0)scale(0.996264)\" xlink:href=\"#CMSS17-30\"/>\n       <use transform=\"translate(91.765544 0)scale(0.996264)\" xlink:href=\"#CMSS17-39\"/>\n      </g>\n     </g>\n    </g>\n   </g>\n   <g id=\"matplotlib.axis_4\">\n    <g id=\"ytick_8\">\n     <g id=\"line2d_12\">\n      <g>\n       <use style=\"stroke:#000000;stroke-width:0.8;\" x=\"53.223262\" xlink:href=\"#m2bab4e0963\" y=\"232.338979\"/>\n      </g>\n     </g>\n     <g id=\"text_10\">\n      <!-- $\\mathdefault{0}$ -->\n      <g transform=\"translate(43.870272 236.490069)scale(0.12 -0.12)\">\n       <use transform=\"scale(0.996264)\" xlink:href=\"#CMR17-30\"/>\n      </g>\n     </g>\n    </g>\n    <g id=\"ytick_9\">\n     <g id=\"line2d_13\">\n      <g>\n       <use style=\"stroke:#000000;stroke-width:0.8;\" x=\"53.223262\" xlink:href=\"#m2bab4e0963\" y=\"199.61529\"/>\n      </g>\n     </g>\n     <g id=\"text_11\">\n      <!-- $\\mathdefault{1}$ -->\n      <g transform=\"translate(43.870272 203.76638)scale(0.12 -0.12)\">\n       <defs>\n        <path d=\"M 1702 4058 \nC 1702 4192 1696 4192 1606 4192 \nC 1357 3916 979 3827 621 3827 \nC 602 3827 570 3827 563 3808 \nC 557 3795 557 3782 557 3648 \nC 755 3648 1088 3686 1344 3839 \nL 1344 461 \nC 1344 236 1331 160 781 160 \nL 589 160 \nL 589 0 \nC 896 0 1216 0 1523 0 \nC 1830 0 2150 0 2458 0 \nL 2458 160 \nL 2266 160 \nC 1715 160 1702 230 1702 458 \nL 1702 4058 \nz\n\" id=\"CMR17-31\" transform=\"scale(0.015625)\"/>\n       </defs>\n       <use transform=\"scale(0.996264)\" xlink:href=\"#CMR17-31\"/>\n      </g>\n     </g>\n    </g>\n    <g id=\"text_12\">\n     <!-- $Q$ -->\n     <g transform=\"translate(35.994639 223.703174)rotate(-90)scale(0.2 -0.2)\">\n      <defs>\n       <path d=\"M 2726 45 \nC 3827 490 4646 1663 4646 2829 \nC 4646 3893 3955 4544 3059 4544 \nC 1690 4544 307 3062 307 1573 \nC 307 561 973 -128 1901 -128 \nC 2118 -128 2330 -96 2534 -33 \nC 2496 -411 2496 -442 2496 -562 \nC 2496 -744 2496 -1216 3008 -1216 \nC 3770 -1216 4051 -37 4051 2 \nC 4051 39 4026 64 3994 64 \nC 3955 64 3942 34 3923 -36 \nC 3782 -429 3450 -654 3168 -654 \nC 2842 -654 2758 -435 2726 45 \nz\nM 1574 77 \nC 1069 252 826 787 826 1379 \nC 826 1831 992 2689 1414 3340 \nC 1888 4075 2522 4404 3021 4404 \nC 3686 4404 4134 3862 4134 3024 \nC 4134 2547 3910 948 2707 240 \nC 2675 571 2586 960 2163 960 \nC 1818 960 1523 609 1523 291 \nC 1523 220 1549 123 1574 77 \nz\nM 2547 156 \nC 2317 52 2118 12 1939 12 \nC 1875 12 1651 12 1651 298 \nC 1651 533 1875 832 2163 832 \nC 2483 832 2554 611 2554 286 \nC 2554 246 2554 194 2547 156 \nz\n\" id=\"CMMI12-51\" transform=\"scale(0.015625)\"/>\n      </defs>\n      <use transform=\"scale(0.996264)\" xlink:href=\"#CMMI12-51\"/>\n     </g>\n    </g>\n   </g>\n   <g id=\"patch_9\">\n    <path d=\"M 53.223262 233.975163 \nL 53.223262 197.979106 \n\" style=\"fill:none;stroke:#000000;stroke-linecap:square;stroke-linejoin:miter;stroke-width:0.8;\"/>\n   </g>\n   <g id=\"patch_10\">\n    <path d=\"M 429.873262 233.975163 \nL 429.873262 197.979106 \n\" style=\"fill:none;stroke:#000000;stroke-linecap:square;stroke-linejoin:miter;stroke-width:0.8;\"/>\n   </g>\n   <g id=\"patch_11\">\n    <path d=\"M 53.223262 233.975163 \nL 429.873262 233.975163 \n\" style=\"fill:none;stroke:#000000;stroke-linecap:square;stroke-linejoin:miter;stroke-width:0.8;\"/>\n   </g>\n   <g id=\"patch_12\">\n    <path d=\"M 53.223262 197.979106 \nL 429.873262 197.979106 \n\" style=\"fill:none;stroke:#000000;stroke-linecap:square;stroke-linejoin:miter;stroke-width:0.8;\"/>\n   </g>\n  </g>\n </g>\n <defs>\n  <clipPath id=\"p3c6c4d4d55\">\n   <rect height=\"179.980288\" width=\"376.65\" x=\"53.223262\" y=\"7.2\"/>\n  </clipPath>\n  <clipPath id=\"pb3710b33c4\">\n   <rect height=\"35.996058\" width=\"376.65\" x=\"53.223262\" y=\"197.979106\"/>\n  </clipPath>\n </defs>\n</svg>\n",
      "text/plain": [
       "<Figure size 486x300.364 with 2 Axes>"
      ]
     },
     "metadata": {
      "needs_background": "light"
     }
    }
   ],
   "metadata": {}
  },
  {
   "cell_type": "markdown",
   "source": [
    "## Mpi^2 vs. m_q ##"
   ],
   "metadata": {}
  },
  {
   "cell_type": "markdown",
   "source": [
    "## Mpi vs m_q ##"
   ],
   "metadata": {}
  },
  {
   "cell_type": "code",
   "execution_count": null,
   "source": [],
   "outputs": [],
   "metadata": {}
  },
  {
   "cell_type": "markdown",
   "source": [
    "## NLO CONTINUUM fit "
   ],
   "metadata": {}
  },
  {
   "cell_type": "code",
   "execution_count": 13,
   "source": [
    "f = open('models.yaml', 'r')\n",
    "models = yaml.load(f,Loader=yaml.FullLoader)\n",
    "model_info = {}\n",
    "for item in models.values():\n",
    "    model_info_mpi = item['mpi:l_lo:d_lo:x_lo']\n",
    "    #model_info_mpi = item['mpi:l_n2lo:d_n2lo:x_n2lo']\n",
    "prior = {}\n",
    "l_3_flag = gv.gvar(3.07,.64)\n",
    "l_4_flag = gv.gvar(4.02,.45)\n",
    "#prior['M_sq'] = gv.gvar(140, 20) \n",
    "\n",
    "#quark mass dependence of l_3 given through:\n",
    "prior['l_3'] = (l_3_flag + np.log(phys_point_data['eps_pi']**2))\n",
    "#prior['l_4'] = (l_4_flag + np.log(phys_point_data['eps_pi']**2))\n",
    "#prior['c_{mpi,2F}'] = gv.gvar(0,20) - (6*l_3_flag) + l_4_flag - 1/4\n",
    "#prior['c_{mpi,1F}'] = gv.gvar(0,20) - l_3_flag*(1+4*l_3_flag - l_4_flag)\n",
    "prior['d_{mpi,a}']  = gv.gvar(0,4)\n",
    "# prior['d_{mpi,ll}'] = gv.gvar(0,4)\n",
    "# prior['d_{mpi,al}'] = gv.gvar(0,4)\n",
    "# prior['d_{mpi,aa}'] = gv.gvar(0,4)\n",
    "l_3 = {}\n",
    "colormap = {\n",
    "    'a06' : '#6A5ACD',\n",
    "    'a09' : '#51a7f9',\n",
    "    'a12' : '#70bf41',\n",
    "    'a15' : '#ec5d57',\n",
    "}\n",
    "\n",
    "results = {}\n",
    "\n",
    "for a_xx in np.unique([ens.split('m')[0] for ens in  ensembles]):\n",
    "    ensembles_ = [ens for ens in ensembles if ens.startswith(a_xx)]\n",
    "    if len(ensembles_) >= 2:\n",
    "        ensembles_ = ensembles_[:5]\n",
    "        data, ensembles_ = input_output.get_data(scheme='w0_org',units='phys',include_phys=False)\n",
    "\n",
    "        #mass_average = xpt.mass.MassAverage(data, data_phys_point, prior, models, ensembles)\n",
    "        #fit = mass_average.fitter().fit\n",
    "        results[a_xx] = {}\n",
    "        results[a_xx]['posterior'] = {key : [] for key in prior}\n",
    "        results[a_xx]['q'] = []\n",
    "        results[a_xx]['prior'] = {key : [] for key in prior}\n",
    "        results[a_xx]['logGBF'] = [] \n",
    "        for prior_width in np.linspace(1, 20, 10):\n",
    "            prior['c_{mpi,2F}'] = gv.gvar(0, prior_width)\n",
    "            prior['c_{mpi,1F}'] = gv.gvar(0, prior_width)\n",
    "            prior['l_3'] = gv.gvar(0, prior_width)\n",
    "            fit_mpi = mpi_fit.fit_routine(prior=prior, data=data, model_info=model_info_mpi)\n",
    "            fit = fit_mpi.fit\n",
    "\n",
    "            #for key in prior:\n",
    "                # if key == 'l_3':\n",
    "                #     results[a_xx]['posterior']['l_3'].append(fit.p['l_3'] - np.log(phys_point_data['eps_pi']**2))\n",
    "                #     results[a_xx]['prior']['l_3'].append(fit.prior['l_3'] - np.log(phys_point_data['eps_pi']**2))\n",
    "                # else:\n",
    "                #     results[a_xx]['posterior'][key].append(fit.p[key])\n",
    "                #     results[a_xx]['prior'][key].append(fit.prior[key])\n",
    "\n",
    "            results[a_xx]['posterior']['l_3'].append(fit.p['l_3'] - np.log(phys_point_data['eps_pi']**2))\n",
    "            results[a_xx]['prior']['l_3'].append(fit.prior['l_3'] - np.log(phys_point_data['eps_pi']**2))\n",
    "            results[a_xx]['q'].append(fit.Q)\n",
    "            results[a_xx]['logGBF'].append(fit.logGBF)\n",
    "            \n",
    "\n",
    "fig, (ax_value_a09, ax_q_a09, ax_w_a09, ax_value_a12, ax_q_a12, ax_w_a12, ax_value_a15, ax_q_a15, ax_w_a15) = plt.subplots(nrows=9, sharex=True, gridspec_kw={'height_ratios': [5, 1, 1, 5, 1, 1, 5, 1, 1], 'wspace':0.0, 'hspace':0.1})\n",
    "fig.set_figheight(fig.get_size_inches()[1] *3)\n",
    "\n",
    "for a_xx, ax_value, ax_q, ax_w in zip(results, [ax_value_a09, ax_value_a12, ax_value_a15], [ax_q_a09, ax_q_a12, ax_q_a15], [ax_w_a09, ax_w_a12, ax_w_a15]):\n",
    "\n",
    "    lec = 'l_3'\n",
    "    pm = lambda g, k : gv.mean(g) + k*gv.sdev(g)\n",
    "\n",
    "    x = gv.sdev(results[a_xx]['prior']['l_3'])\n",
    "    ax_value.plot(\n",
    "        x, \n",
    "        pm(results[a_xx]['posterior'][lec], 0),\n",
    "        color=colormap[a_xx], ls='--'\n",
    "    )\n",
    "\n",
    "    ax_value.plot(\n",
    "        x, \n",
    "        pm(results[a_xx]['posterior'][lec], -1),\n",
    "        x, \n",
    "        pm(results[a_xx]['posterior'][lec], 1),\n",
    "        color=colormap[a_xx]\n",
    "    )\n",
    "\n",
    "    ax_value.fill_between(\n",
    "        x,\n",
    "        pm(results[a_xx]['posterior'][lec], 1),\n",
    "        pm(results[a_xx]['posterior'][lec], -1),\n",
    "        facecolor=colormap[a_xx], alpha=0.7\n",
    "    )\n",
    "\n",
    "    #ax_value.axhspan(pm(l_4_flag, -1), pm(l_4_flag, +1), alpha=0.3, color='grey', label='PDG/FLAG')\n",
    "    #ax_value.axhline(pm(l_4_flag, 0), ls='-.', color='grey')\n",
    "\n",
    "    ax_q.plot(\n",
    "        x, \n",
    "        results[a_xx]['q'], \n",
    "        color=colormap[a_xx]\n",
    "    )\n",
    "\n",
    "    ax_w.plot(\n",
    "        x, \n",
    "        np.exp(np.array(results[a_xx]['logGBF'])-results[a_xx]['logGBF'][0]), \n",
    "        color=colormap[a_xx]\n",
    "    )\n",
    "\n",
    "    ax_value.set_ylabel('$%s$'%(lec))\n",
    "    ax_q.set_ylabel('$Q$')\n",
    "    ax_q.set_ylim(-0.05, 1.05)\n",
    "\n",
    "    ax_w.set_ylabel('BF')\n",
    "\n",
    "    #if (y_ax_min is not None) and (y_ax_max is not None):\n",
    "    #    ax_value.set_ylim(y_ax_min, y_ax_max)\n",
    "        \n",
    "\n",
    "ax_w_a15.set_xlabel('$\\sigma$')\n",
    "\n",
    "#fig.savefig('../tmp/l_4_vs_prior_width.png')\n",
    "plt.show()"
   ],
   "outputs": [
    {
     "output_type": "error",
     "ename": "KeyError",
     "evalue": "'B'",
     "traceback": [
      "\u001b[0;31m---------------------------------------------------------------------------\u001b[0m",
      "\u001b[0;31mKeyError\u001b[0m                                  Traceback (most recent call last)",
      "\u001b[0;32m<ipython-input-13-e98975b06d7f>\u001b[0m in \u001b[0;36m<module>\u001b[0;34m\u001b[0m\n\u001b[1;32m     47\u001b[0m             \u001b[0mprior\u001b[0m\u001b[0;34m[\u001b[0m\u001b[0;34m'l_3'\u001b[0m\u001b[0;34m]\u001b[0m \u001b[0;34m=\u001b[0m \u001b[0mgv\u001b[0m\u001b[0;34m.\u001b[0m\u001b[0mgvar\u001b[0m\u001b[0;34m(\u001b[0m\u001b[0;36m0\u001b[0m\u001b[0;34m,\u001b[0m \u001b[0mprior_width\u001b[0m\u001b[0;34m)\u001b[0m\u001b[0;34m\u001b[0m\u001b[0;34m\u001b[0m\u001b[0m\n\u001b[1;32m     48\u001b[0m             \u001b[0mfit_mpi\u001b[0m \u001b[0;34m=\u001b[0m \u001b[0mmpi_fit\u001b[0m\u001b[0;34m.\u001b[0m\u001b[0mfit_routine\u001b[0m\u001b[0;34m(\u001b[0m\u001b[0mprior\u001b[0m\u001b[0;34m=\u001b[0m\u001b[0mprior\u001b[0m\u001b[0;34m,\u001b[0m \u001b[0mdata\u001b[0m\u001b[0;34m=\u001b[0m\u001b[0mdata\u001b[0m\u001b[0;34m,\u001b[0m \u001b[0mmodel_info\u001b[0m\u001b[0;34m=\u001b[0m\u001b[0mmodel_info_mpi\u001b[0m\u001b[0;34m)\u001b[0m\u001b[0;34m\u001b[0m\u001b[0;34m\u001b[0m\u001b[0m\n\u001b[0;32m---> 49\u001b[0;31m             \u001b[0mfit\u001b[0m \u001b[0;34m=\u001b[0m \u001b[0mfit_mpi\u001b[0m\u001b[0;34m.\u001b[0m\u001b[0mfit\u001b[0m\u001b[0;34m\u001b[0m\u001b[0;34m\u001b[0m\u001b[0m\n\u001b[0m\u001b[1;32m     50\u001b[0m \u001b[0;34m\u001b[0m\u001b[0m\n\u001b[1;32m     51\u001b[0m             \u001b[0;31m#for key in prior:\u001b[0m\u001b[0;34m\u001b[0m\u001b[0;34m\u001b[0m\u001b[0m\n",
      "\u001b[0;32m~/lqcd/nucleon_sigma/xpt/mpi_fit.py\u001b[0m in \u001b[0;36mfit\u001b[0;34m(self)\u001b[0m\n\u001b[1;32m     31\u001b[0m         \u001b[0;32mif\u001b[0m \u001b[0mself\u001b[0m\u001b[0;34m.\u001b[0m\u001b[0m_fit\u001b[0m \u001b[0;32mis\u001b[0m \u001b[0;32mNone\u001b[0m\u001b[0;34m:\u001b[0m\u001b[0;34m\u001b[0m\u001b[0;34m\u001b[0m\u001b[0m\n\u001b[1;32m     32\u001b[0m             \u001b[0mmodels\u001b[0m \u001b[0;34m=\u001b[0m \u001b[0mself\u001b[0m\u001b[0;34m.\u001b[0m\u001b[0m_make_models\u001b[0m\u001b[0;34m(\u001b[0m\u001b[0;34m)\u001b[0m\u001b[0;34m\u001b[0m\u001b[0;34m\u001b[0m\u001b[0m\n\u001b[0;32m---> 33\u001b[0;31m             \u001b[0mprior\u001b[0m \u001b[0;34m=\u001b[0m \u001b[0mself\u001b[0m\u001b[0;34m.\u001b[0m\u001b[0m_make_prior\u001b[0m\u001b[0;34m(\u001b[0m\u001b[0;34m)\u001b[0m\u001b[0;34m\u001b[0m\u001b[0;34m\u001b[0m\u001b[0m\n\u001b[0m\u001b[1;32m     34\u001b[0m             \u001b[0mdata\u001b[0m \u001b[0;34m=\u001b[0m \u001b[0mself\u001b[0m\u001b[0;34m.\u001b[0m\u001b[0my\u001b[0m\u001b[0;34m\u001b[0m\u001b[0;34m\u001b[0m\u001b[0m\n\u001b[1;32m     35\u001b[0m             \u001b[0mfitter\u001b[0m \u001b[0;34m=\u001b[0m \u001b[0mlsqfit\u001b[0m\u001b[0;34m.\u001b[0m\u001b[0mMultiFitter\u001b[0m\u001b[0;34m(\u001b[0m\u001b[0mmodels\u001b[0m\u001b[0;34m=\u001b[0m\u001b[0mmodels\u001b[0m\u001b[0;34m)\u001b[0m\u001b[0;34m\u001b[0m\u001b[0;34m\u001b[0m\u001b[0m\n",
      "\u001b[0;32m~/lqcd/nucleon_sigma/xpt/mpi_fit.py\u001b[0m in \u001b[0;36m_make_prior\u001b[0;34m(self, data)\u001b[0m\n\u001b[1;32m     78\u001b[0m \u001b[0;34m\u001b[0m\u001b[0m\n\u001b[1;32m     79\u001b[0m         \u001b[0;32mfor\u001b[0m \u001b[0mk\u001b[0m \u001b[0;32min\u001b[0m \u001b[0mkeys\u001b[0m\u001b[0;34m:\u001b[0m\u001b[0;34m\u001b[0m\u001b[0;34m\u001b[0m\u001b[0m\n\u001b[0;32m---> 80\u001b[0;31m             \u001b[0mnew_prior\u001b[0m\u001b[0;34m[\u001b[0m\u001b[0mk\u001b[0m\u001b[0;34m]\u001b[0m \u001b[0;34m=\u001b[0m \u001b[0mprior\u001b[0m\u001b[0;34m[\u001b[0m\u001b[0mk\u001b[0m\u001b[0;34m]\u001b[0m\u001b[0;34m\u001b[0m\u001b[0;34m\u001b[0m\u001b[0m\n\u001b[0m\u001b[1;32m     81\u001b[0m \u001b[0;34m\u001b[0m\u001b[0m\n\u001b[1;32m     82\u001b[0m         \u001b[0;32mif\u001b[0m \u001b[0mself\u001b[0m\u001b[0;34m.\u001b[0m\u001b[0mmodel_info\u001b[0m\u001b[0;34m[\u001b[0m\u001b[0;34m'order_strange'\u001b[0m\u001b[0;34m]\u001b[0m \u001b[0;32mis\u001b[0m \u001b[0;32mnot\u001b[0m \u001b[0;32mNone\u001b[0m\u001b[0;34m:\u001b[0m\u001b[0;34m\u001b[0m\u001b[0;34m\u001b[0m\u001b[0m\n",
      "\u001b[0;31mKeyError\u001b[0m: 'B'"
     ]
    }
   ],
   "metadata": {}
  },
  {
   "cell_type": "code",
   "execution_count": null,
   "source": [
    "print(results)"
   ],
   "outputs": [
    {
     "output_type": "stream",
     "name": "stdout",
     "text": [
      "{}\n"
     ]
    }
   ],
   "metadata": {}
  },
  {
   "cell_type": "code",
   "execution_count": null,
   "source": [
    "fit_mpi = mpi_fit.fit_routine(prior=new_prior, data=data, model_info=model_info_mpi)\n",
    "fit_mpi_out = fit_mpi.fit\n",
    "extrap_mpi = mpi_fit.Mpi(datatag='mpi',model_info=model_info_mpi)\n",
    "extrap = extrap_mpi.fitfcn(p=fit_mpi_out.p)\n",
    "#print(fit_fpi_out)\n",
    "print( '\\n','ens:',ensembles,'\\n','extrapolation:',extrap, '\\n',fit_mpi_out.format(True))"
   ],
   "outputs": [
    {
     "output_type": "error",
     "ename": "NameError",
     "evalue": "name 'new_prior' is not defined",
     "traceback": [
      "\u001b[0;31m---------------------------------------------------------------------------\u001b[0m",
      "\u001b[0;31mNameError\u001b[0m                                 Traceback (most recent call last)",
      "\u001b[0;32m<ipython-input-15-4fb8e459d57f>\u001b[0m in \u001b[0;36m<module>\u001b[0;34m\u001b[0m\n\u001b[0;32m----> 1\u001b[0;31m \u001b[0mfit_mpi\u001b[0m \u001b[0;34m=\u001b[0m \u001b[0mmpi_fit\u001b[0m\u001b[0;34m.\u001b[0m\u001b[0mfit_routine\u001b[0m\u001b[0;34m(\u001b[0m\u001b[0mprior\u001b[0m\u001b[0;34m=\u001b[0m\u001b[0mnew_prior\u001b[0m\u001b[0;34m,\u001b[0m \u001b[0mdata\u001b[0m\u001b[0;34m=\u001b[0m\u001b[0mdata\u001b[0m\u001b[0;34m,\u001b[0m \u001b[0mmodel_info\u001b[0m\u001b[0;34m=\u001b[0m\u001b[0mmodel_info_mpi\u001b[0m\u001b[0;34m)\u001b[0m\u001b[0;34m\u001b[0m\u001b[0;34m\u001b[0m\u001b[0m\n\u001b[0m\u001b[1;32m      2\u001b[0m \u001b[0mfit_mpi_out\u001b[0m \u001b[0;34m=\u001b[0m \u001b[0mfit_mpi\u001b[0m\u001b[0;34m.\u001b[0m\u001b[0mfit\u001b[0m\u001b[0;34m\u001b[0m\u001b[0;34m\u001b[0m\u001b[0m\n\u001b[1;32m      3\u001b[0m \u001b[0mextrap_mpi\u001b[0m \u001b[0;34m=\u001b[0m \u001b[0mmpi_fit\u001b[0m\u001b[0;34m.\u001b[0m\u001b[0mMpi\u001b[0m\u001b[0;34m(\u001b[0m\u001b[0mdatatag\u001b[0m\u001b[0;34m=\u001b[0m\u001b[0;34m'mpi'\u001b[0m\u001b[0;34m,\u001b[0m\u001b[0mmodel_info\u001b[0m\u001b[0;34m=\u001b[0m\u001b[0mmodel_info_mpi\u001b[0m\u001b[0;34m)\u001b[0m\u001b[0;34m\u001b[0m\u001b[0;34m\u001b[0m\u001b[0m\n\u001b[1;32m      4\u001b[0m \u001b[0mextrap\u001b[0m \u001b[0;34m=\u001b[0m \u001b[0mextrap_mpi\u001b[0m\u001b[0;34m.\u001b[0m\u001b[0mfitfcn\u001b[0m\u001b[0;34m(\u001b[0m\u001b[0mp\u001b[0m\u001b[0;34m=\u001b[0m\u001b[0mfit_mpi_out\u001b[0m\u001b[0;34m.\u001b[0m\u001b[0mp\u001b[0m\u001b[0;34m)\u001b[0m\u001b[0;34m\u001b[0m\u001b[0;34m\u001b[0m\u001b[0m\n\u001b[1;32m      5\u001b[0m \u001b[0;31m#print(fit_fpi_out)\u001b[0m\u001b[0;34m\u001b[0m\u001b[0;34m\u001b[0m\u001b[0m\n",
      "\u001b[0;31mNameError\u001b[0m: name 'new_prior' is not defined"
     ]
    }
   ],
   "metadata": {}
  },
  {
   "cell_type": "markdown",
   "source": [
    "## B vs $\\epsilon_a^2$"
   ],
   "metadata": {}
  },
  {
   "cell_type": "code",
   "execution_count": null,
   "source": [],
   "outputs": [],
   "metadata": {}
  },
  {
   "cell_type": "markdown",
   "source": [
    "## $\\bar{l}_3$ vs $\\epsilon_a^2$"
   ],
   "metadata": {}
  },
  {
   "cell_type": "code",
   "execution_count": null,
   "source": [],
   "outputs": [],
   "metadata": {}
  },
  {
   "cell_type": "code",
   "execution_count": null,
   "source": [],
   "outputs": [],
   "metadata": {}
  },
  {
   "cell_type": "markdown",
   "source": [
    "## N2LO CONTINUUM fit "
   ],
   "metadata": {}
  },
  {
   "cell_type": "code",
   "execution_count": null,
   "source": [
    "fit_mpi = mpi_fit.fit_routine(prior=new_prior, data=data, model_info=model_info_mpi)\n",
    "fit_mpi_out = fit_mpi.fit\n",
    "extrap_mpi = mpi_fit.Mpi(datatag='mpi',model_info=model_info_mpi)\n",
    "extrap = extrap_mpi.fitfcn(p=fit_mpi_out.p)\n",
    "#print(fit_fpi_out)\n",
    "print( '\\n','ens:',ensembles,'\\n','extrapolation:',extrap, '\\n',fit_mpi_out.format(True))"
   ],
   "outputs": [],
   "metadata": {}
  }
 ],
 "metadata": {
  "orig_nbformat": 4,
  "language_info": {
   "name": "python",
   "version": "3.9.7",
   "mimetype": "text/x-python",
   "codemirror_mode": {
    "name": "ipython",
    "version": 3
   },
   "pygments_lexer": "ipython3",
   "nbconvert_exporter": "python",
   "file_extension": ".py"
  },
  "kernelspec": {
   "name": "python39264bit88959d025eb44449afffd5bfaa79fe92",
   "display_name": "Python 3.9.2 64-bit",
   "language": "python"
  }
 },
 "nbformat": 4,
 "nbformat_minor": 2
}