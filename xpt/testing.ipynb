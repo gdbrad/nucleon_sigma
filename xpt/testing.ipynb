{
 "metadata": {
  "language_info": {
   "codemirror_mode": {
    "name": "ipython",
    "version": 3
   },
   "file_extension": ".py",
   "mimetype": "text/x-python",
   "name": "python",
   "nbconvert_exporter": "python",
   "pygments_lexer": "ipython3",
   "version": "3.7.1-final"
  },
  "orig_nbformat": 2,
  "kernelspec": {
   "name": "python3",
   "display_name": "Python 3",
   "language": "python"
  }
 },
 "nbformat": 4,
 "nbformat_minor": 2,
 "cells": [
  {
   "cell_type": "code",
   "execution_count": 1,
   "metadata": {},
   "outputs": [],
   "source": [
    "import gvar as gv\n",
    "import numpy as np\n",
    "import scipy.special as ss\n",
    "import i_o \n",
    "import non_analytic_functions as naf \n",
    "\n",
    "# define lecs\n",
    "# leave input as lam_chi, not working as expected \n",
    "\n",
    "import fit_routine as fit \n",
    "### non-analytic functions that arise in extrapolation formulae for hyperon masses\n",
    "\n",
    "\n"
   ]
  },
  {
   "cell_type": "code",
   "execution_count": 2,
   "metadata": {},
   "outputs": [
    {
     "output_type": "execute_result",
     "data": {
      "text/plain": [
       "<i_o.InputOutput at 0x7ffa555930f0>"
      ]
     },
     "metadata": {},
     "execution_count": 2
    }
   ],
   "source": [
    "i_o.InputOutput()"
   ]
  },
  {
   "cell_type": "code",
   "execution_count": 3,
   "metadata": {},
   "outputs": [
    {
     "output_type": "execute_result",
     "data": {
      "text/plain": [
       "array(4.4(5.3), dtype=object)"
      ]
     },
     "metadata": {},
     "execution_count": 3
    }
   ],
   "source": [
    "g = gv.gvar(5,7)\n",
    "naf.fcn_R(g)"
   ]
  },
  {
   "cell_type": "code",
   "execution_count": 6,
   "metadata": {},
   "outputs": [
    {
     "output_type": "execute_result",
     "data": {
      "text/plain": [
       "array(-0.43(23), dtype=object)"
      ]
     },
     "metadata": {},
     "execution_count": 6
    }
   ],
   "source": [
    "naf.fcn_R(gv.gvar(0.8,0.1))"
   ]
  },
  {
   "cell_type": "code",
   "execution_count": 15,
   "metadata": {},
   "outputs": [
    {
     "output_type": "execute_result",
     "data": {
      "text/plain": [
       "array([ 0.07480335, -0.13853726])"
      ]
     },
     "metadata": {},
     "execution_count": 15
    }
   ],
   "source": [
    "\n",
    "hi = np.array([0.3,-0.5])\n",
    "hi2 =np.array([-0.7,0.7])\n",
    "naf.fcn_F(hi,hi2)"
   ]
  },
  {
   "cell_type": "code",
   "execution_count": 4,
   "metadata": {},
   "outputs": [
    {
     "output_type": "execute_result",
     "data": {
      "text/plain": [
       "<function numpy.lib.function_base.piecewise(x, condlist, funclist, *args, **kw)>"
      ]
     },
     "metadata": {},
     "execution_count": 4
    }
   ],
   "source": [
    "np.piecewise"
   ]
  },
  {
   "cell_type": "code",
   "execution_count": 5,
   "metadata": {},
   "outputs": [
    {
     "output_type": "error",
     "ename": "TypeError",
     "evalue": "fitfcn_n2lo_chiral() missing 2 required positional arguments: 'self' and 'p'",
     "traceback": [
      "\u001b[0;31m---------------------------------------------------------------------------\u001b[0m",
      "\u001b[0;31mTypeError\u001b[0m                                 Traceback (most recent call last)",
      "\u001b[0;32m<ipython-input-5-01d03a08e085>\u001b[0m in \u001b[0;36m<module>\u001b[0;34m\u001b[0m\n\u001b[0;32m----> 1\u001b[0;31m \u001b[0mprint\u001b[0m\u001b[0;34m(\u001b[0m\u001b[0mfit\u001b[0m\u001b[0;34m.\u001b[0m\u001b[0mXi\u001b[0m\u001b[0;34m.\u001b[0m\u001b[0mfitfcn_n2lo_chiral\u001b[0m\u001b[0;34m(\u001b[0m\u001b[0;34m)\u001b[0m\u001b[0;34m)\u001b[0m\u001b[0;34m\u001b[0m\u001b[0;34m\u001b[0m\u001b[0m\n\u001b[0m",
      "\u001b[0;31mTypeError\u001b[0m: fitfcn_n2lo_chiral() missing 2 required positional arguments: 'self' and 'p'"
     ]
    }
   ],
   "source": [
    "print(fit.Xi.fitfcn_n2lo_chiral())"
   ]
  },
  {
   "cell_type": "code",
   "execution_count": 3,
   "metadata": {},
   "outputs": [
    {
     "output_type": "error",
     "ename": "AttributeError",
     "evalue": "type object 'InputOutput' has no attribute 'get_data_phys_point'",
     "traceback": [
      "\u001b[0;31m---------------------------------------------------------------------------\u001b[0m",
      "\u001b[0;31mAttributeError\u001b[0m                            Traceback (most recent call last)",
      "\u001b[0;32m<ipython-input-3-e8ce9d460aba>\u001b[0m in \u001b[0;36m<module>\u001b[0;34m\u001b[0m\n\u001b[0;32m----> 1\u001b[0;31m \u001b[0mLECs\u001b[0m \u001b[0;34m=\u001b[0m \u001b[0mi_o\u001b[0m\u001b[0;34m.\u001b[0m\u001b[0mInputOutput\u001b[0m\u001b[0;34m.\u001b[0m\u001b[0mget_data_phys_point\u001b[0m\u001b[0;34m(\u001b[0m\u001b[0;34m'lam_chi'\u001b[0m\u001b[0;34m)\u001b[0m\u001b[0;34m\u001b[0m\u001b[0;34m\u001b[0m\u001b[0m\n\u001b[0m\u001b[1;32m      2\u001b[0m \u001b[0mprint\u001b[0m\u001b[0;34m(\u001b[0m\u001b[0mLECs\u001b[0m\u001b[0;34m)\u001b[0m\u001b[0;34m\u001b[0m\u001b[0;34m\u001b[0m\u001b[0m\n\u001b[1;32m      3\u001b[0m \u001b[0mlam_chi\u001b[0m \u001b[0;34m=\u001b[0m \u001b[0mLECs\u001b[0m\u001b[0;34m[\u001b[0m\u001b[0;34m'lam_chi'\u001b[0m\u001b[0;34m]\u001b[0m\u001b[0;34m\u001b[0m\u001b[0;34m\u001b[0m\u001b[0m\n\u001b[1;32m      4\u001b[0m \u001b[0mm_pi\u001b[0m \u001b[0;34m=\u001b[0m \u001b[0mLECs\u001b[0m\u001b[0;34m[\u001b[0m\u001b[0;34m'm_pi'\u001b[0m\u001b[0;34m]\u001b[0m\u001b[0;34m\u001b[0m\u001b[0;34m\u001b[0m\u001b[0m\n\u001b[1;32m      5\u001b[0m \u001b[0mm_k\u001b[0m \u001b[0;34m=\u001b[0m \u001b[0mLECs\u001b[0m\u001b[0;34m[\u001b[0m\u001b[0;34m'm_k'\u001b[0m\u001b[0;34m]\u001b[0m\u001b[0;34m\u001b[0m\u001b[0;34m\u001b[0m\u001b[0m\n",
      "\u001b[0;31mAttributeError\u001b[0m: type object 'InputOutput' has no attribute 'get_data_phys_point'"
     ]
    }
   ],
   "source": [
    "LECs = i_o.InputOutput.get_data_phys_point('lam_chi')\n",
    "print(LECs)\n",
    "lam_chi = LECs['lam_chi']\n",
    "m_pi = LECs['m_pi']\n",
    "m_k = LECs['m_k']\n",
    "m_xi = LECs['m_xi']\n",
    "m_xi_st = LECs['m_xi_st']\n",
    "print(m_k)\n",
    "eps_pi = gv.mean(m_pi) / gv.mean(lam_chi) # set to zero in the chiral limit \n",
    "\n",
    "# for Xi system, delta is mass splitting between Xi* and Xi\n",
    "delta = gv.mean(m_xi_st) - gv.mean(m_xi)\n",
    "print(delta)\n",
    "\n",
    "#eps_pi = gv.mean(m_pi) / gv.mean(lam_chi) # set to zero in the chiral limit \n",
    "eps_delta = delta / gv.mean(lam_chi)"
   ]
  },
  {
   "cell_type": "code",
   "execution_count": 5,
   "metadata": {},
   "outputs": [],
   "source": [
    "def fcn_R(g):\n",
    "    if isinstance(g, gv._gvarcore.GVar):\n",
    "        x = gv.mean(g)\n",
    "        #print(x)\n",
    "        \n",
    "        if (x>0 and x<=1):\n",
    "        #a = np.sqrt(1-x)\n",
    "            R = np.sqrt(1-x) * np.log((1-np.sqrt(1-x))/(1+np.sqrt(1-x)))\n",
    "        elif x>1:\n",
    "        #b = np.sqrt(x-1)\n",
    "            R = 2*np.sqrt(x-1)*np.arctan(np.sqrt(x-1))\n",
    "            return R\n",
    "    #not gvar\n",
    "    else:\n",
    "        if (g>0 and g<=1):\n",
    "        #a = np.sqrt(1-x)\n",
    "            R = np.sqrt(1-g) * np.log((1-np.sqrt(1-g))/(1+np.sqrt(1-g)))\n",
    "        elif x>1:\n",
    "        #b = np.sqrt(x-1)\n",
    "            R = 2*np.sqrt(g-1)*np.arctan(np.sqrt(g-1))\n",
    "\n",
    "\n",
    "        return R"
   ]
  },
  {
   "cell_type": "code",
   "execution_count": 6,
   "metadata": {},
   "outputs": [
    {
     "output_type": "error",
     "ename": "NameError",
     "evalue": "name 'lam_chi' is not defined",
     "traceback": [
      "\u001b[0;31m---------------------------------------------------------------------------\u001b[0m",
      "\u001b[0;31mNameError\u001b[0m                                 Traceback (most recent call last)",
      "\u001b[0;32m<ipython-input-6-26e8d83d06d0>\u001b[0m in \u001b[0;36m<module>\u001b[0;34m\u001b[0m\n\u001b[0;32m----> 1\u001b[0;31m \u001b[0mfcn_R\u001b[0m\u001b[0;34m(\u001b[0m\u001b[0mlam_chi\u001b[0m\u001b[0;34m)\u001b[0m\u001b[0;34m\u001b[0m\u001b[0;34m\u001b[0m\u001b[0m\n\u001b[0m",
      "\u001b[0;31mNameError\u001b[0m: name 'lam_chi' is not defined"
     ]
    }
   ],
   "source": [
    "fcn_R(lam_chi)"
   ]
  },
  {
   "cell_type": "code",
   "execution_count": 40,
   "metadata": {},
   "outputs": [
    {
     "output_type": "execute_result",
     "data": {
      "text/plain": [
       "-1.6265784422162188"
      ]
     },
     "metadata": {},
     "execution_count": 40
    }
   ],
   "source": [
    "eps_pi_delta = eps_pi**2 / eps_delta**2\n",
    "fcn_R(eps_pi_delta)\n"
   ]
  },
  {
   "cell_type": "code",
   "execution_count": 41,
   "metadata": {},
   "outputs": [],
   "source": [
    "def fcn_F(eps_pi, eps_delta, mu):\n",
    "\n",
    "    output = -1*eps_delta*(eps_delta**2 - eps_pi**2) * fcn_R(eps_pi**2 / eps_delta**2)\n",
    "    output = output - ((3/2) * eps_pi**2 * eps_delta * np.log(eps_pi**2 * (lam_chi**2)/(mu**2)))\n",
    "    output = output - (eps_delta**3 * np.log((4*eps_delta**2) / (eps_pi**2)))\n",
    "    \n",
    "    return output"
   ]
  },
  {
   "cell_type": "code",
   "execution_count": 42,
   "metadata": {},
   "outputs": [
    {
     "output_type": "execute_result",
     "data": {
      "text/plain": [
       "-0.045698(47)"
      ]
     },
     "metadata": {},
     "execution_count": 42
    }
   ],
   "source": [
    "fcn_F(eps_pi,eps_delta,mu=1)"
   ]
  },
  {
   "cell_type": "code",
   "execution_count": 43,
   "metadata": {},
   "outputs": [],
   "source": [
    "def fcn_J(eps_pi, eps_delta, mu):\n",
    "    out = eps_pi**2 * np.log(eps_pi**2 * (lam_chi**2)/(mu**2))\n",
    "    out = out +  2*eps_delta**2 * np.log((4*eps_delta**2)/ eps_pi**2)\n",
    "    out = out +  2*eps_delta**2 * fcn_R(eps_pi**2/eps_delta**2)\n",
    "\n",
    "    return out"
   ]
  },
  {
   "cell_type": "code",
   "execution_count": 45,
   "metadata": {},
   "outputs": [
    {
     "output_type": "execute_result",
     "data": {
      "text/plain": [
       "0.18115(17)"
      ]
     },
     "metadata": {},
     "execution_count": 45
    }
   ],
   "source": [
    "fcn_J(eps_pi,eps_delta,mu=1)"
   ]
  },
  {
   "cell_type": "code",
   "execution_count": null,
   "metadata": {},
   "outputs": [],
   "source": [
    "def fitfcn_lo_ct(self, p, xi, latt_spacing=None):\n",
    "\n",
    "        if latt_spacing == 'a06':\n",
    "            output = p['c0a06']\n",
    "        elif latt_spacing == 'a09':\n",
    "            output= p['c0a09']\n",
    "        elif latt_spacing == 'a12':\n",
    "            output = p['c0a12']\n",
    "        elif latt_spacing == 'a15':\n",
    "            output = p['c0a15']\n",
    "\n",
    "        else:\n",
    "            output = m_xi['l'] *xi['s'] *0 # returns correct shape\n",
    "            for j, ens in enumerate(self.ens_mapping):\n",
    "                if ens[:3] == 'a06':\n",
    "                    output[j] = p['c0a06']\n",
    "                elif ens[:3] == 'a09':\n",
    "                    output[j] = p['c0a09']\n",
    "                elif ens[:3] == 'a12':\n",
    "                    output[j] = p['c0a12']\n",
    "                elif ens[:3] == 'a15':\n",
    "                    output[j] = p['c0a15']\n",
    "                else:\n",
    "                    output[j] = 0\n",
    "\n",
    "        return output"
   ]
  },
  {
   "cell_type": "code",
   "execution_count": null,
   "metadata": {},
   "outputs": [],
   "source": []
  }
 ]
}